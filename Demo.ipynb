{
 "cells": [
  {
   "cell_type": "markdown",
   "metadata": {},
   "source": [
    "# Imports and intialization"
   ]
  },
  {
   "cell_type": "code",
   "execution_count": 78,
   "metadata": {
    "collapsed": false
   },
   "outputs": [
    {
     "data": {
      "text/plain": [
       "<module 'videotext' from '/home/sravya/git/muse/videotext.py'>"
      ]
     },
     "execution_count": 78,
     "metadata": {},
     "output_type": "execute_result"
    }
   ],
   "source": [
    "import videotext\n",
    "import utilities\n",
    "#import importlib\n",
    "#importlib.reload(videotext)"
   ]
  },
  {
   "cell_type": "code",
   "execution_count": 71,
   "metadata": {
    "collapsed": true
   },
   "outputs": [],
   "source": [
    "url = 'https://www.youtube.com/watch?v=FKeD2on-f3c'"
   ]
  },
  {
   "cell_type": "code",
   "execution_count": 72,
   "metadata": {
    "collapsed": false
   },
   "outputs": [],
   "source": [
    "# Other videos tried out\n",
    "#VIDEO_URL = 'https://www.youtube.com/watch?v=Q4KZaI_jtKs' #Lyric video\n",
    "#VIDEO_URL='https://www.youtube.com/watch?v=oyxhHkOel2I' #tennis\n",
    "#url='https://www.youtube.com/watch?v=FKeD2on-f3c' #tennis2\n",
    "#VIDEO_URL='https://www.youtube.com/watch?v=aNN9nL2vppM' #Heinz\n",
    "#VIDEO_URL='https://www.youtube.com/watch?v=WvBwShyeXZw' #Garnier\n",
    "#VIDEO_URL='https://www.youtube.com/watch?v=aQn5wiDyUHo'#Google home\n",
    "#VIDEO_URL='https://www.youtube.com/watch?v=rD4VN9Yjato' #Lecture\n",
    "#VIDEO_URL='https://www.youtube.com/watch?v=z3ZNX_2gPD8' #Vachinde"
   ]
  },
  {
   "cell_type": "markdown",
   "metadata": {},
   "source": [
    "# Demo: Youtube url to JSON"
   ]
  },
  {
   "cell_type": "code",
   "execution_count": 73,
   "metadata": {
    "collapsed": false
   },
   "outputs": [
    {
     "name": "stderr",
     "output_type": "stream",
     "text": [
      "WARNING: Assuming --restrict-filenames since file system encoding cannot encode all characters. Set the LC_ALL environment variable to fix this.\n"
     ]
    },
    {
     "name": "stdout",
     "output_type": "stream",
     "text": [
      "[youtube] FKeD2on-f3c: Downloading webpage\n",
      "[youtube] FKeD2on-f3c: Downloading video info webpage\n",
      "[youtube] FKeD2on-f3c: Extracting video information\n",
      "[youtube] FKeD2on-f3c: Downloading MPD manifest\n",
      "[download] Destination: /tmp/tmpx3q7nl6t/input.mp4\n",
      "[download] 100% of 128.26MiB in 00:0873MiB/s ETA 00:008\n",
      "Video downloaded to /tmp/tmpx3q7nl6t/input.mp4\n",
      "Splitted video starting from 00:05, duration: 2 seconds\n"
     ]
    },
    {
     "name": "stderr",
     "output_type": "stream",
     "text": [
      "\r",
      "  0%|          | 0/60 [00:00<?, ?it/s]"
     ]
    },
    {
     "name": "stdout",
     "output_type": "stream",
     "text": [
      "Frames created at /tmp/tmpx3q7nl6t/in_frames\n",
      "Detecting and recognizing text from 60 frames for every 1th frame: 2017-09-27 15:39:58.094596\n"
     ]
    },
    {
     "name": "stderr",
     "output_type": "stream",
     "text": [
      "\r",
      "  2%|▏         | 1/60 [00:00<00:46,  1.26it/s]"
     ]
    },
    {
     "name": "stdout",
     "output_type": "stream",
     "text": [
      "detect took 0.7667198181152344 time\n",
      "recognize took 0.027958154678344727 time\n"
     ]
    },
    {
     "name": "stderr",
     "output_type": "stream",
     "text": [
      "\r",
      "  3%|▎         | 2/60 [00:01<00:45,  1.27it/s]"
     ]
    },
    {
     "name": "stdout",
     "output_type": "stream",
     "text": [
      "detect took 0.7379393577575684 time\n",
      "recognize took 0.025326967239379883 time\n"
     ]
    },
    {
     "name": "stderr",
     "output_type": "stream",
     "text": [
      "\r",
      "  5%|▌         | 3/60 [00:02<00:44,  1.28it/s]"
     ]
    },
    {
     "name": "stdout",
     "output_type": "stream",
     "text": [
      "detect took 0.7485353946685791 time\n",
      "recognize took 0.02534961700439453 time\n"
     ]
    },
    {
     "name": "stderr",
     "output_type": "stream",
     "text": [
      "\r",
      "  7%|▋         | 4/60 [00:03<00:43,  1.29it/s]"
     ]
    },
    {
     "name": "stdout",
     "output_type": "stream",
     "text": [
      "detect took 0.7385280132293701 time\n",
      "recognize took 0.025732040405273438 time\n"
     ]
    },
    {
     "name": "stderr",
     "output_type": "stream",
     "text": [
      "\r",
      "  8%|▊         | 5/60 [00:03<00:42,  1.29it/s]"
     ]
    },
    {
     "name": "stdout",
     "output_type": "stream",
     "text": [
      "detect took 0.7493486404418945 time\n",
      "recognize took 0.02529740333557129 time\n"
     ]
    },
    {
     "name": "stderr",
     "output_type": "stream",
     "text": [
      "\r",
      " 10%|█         | 6/60 [00:04<00:41,  1.29it/s]"
     ]
    },
    {
     "name": "stdout",
     "output_type": "stream",
     "text": [
      "detect took 0.7376852035522461 time\n",
      "recognize took 0.025205135345458984 time\n"
     ]
    },
    {
     "name": "stderr",
     "output_type": "stream",
     "text": [
      "\r",
      " 12%|█▏        | 7/60 [00:05<00:40,  1.30it/s]"
     ]
    },
    {
     "name": "stdout",
     "output_type": "stream",
     "text": [
      "detect took 0.7365648746490479 time\n",
      "recognize took 0.025215864181518555 time\n"
     ]
    },
    {
     "name": "stderr",
     "output_type": "stream",
     "text": [
      "\r",
      " 13%|█▎        | 8/60 [00:06<00:40,  1.29it/s]"
     ]
    },
    {
     "name": "stdout",
     "output_type": "stream",
     "text": [
      "detect took 0.7686562538146973 time\n",
      "recognize took 0.025667667388916016 time\n"
     ]
    },
    {
     "name": "stderr",
     "output_type": "stream",
     "text": [
      "\r",
      " 15%|█▌        | 9/60 [00:06<00:39,  1.29it/s]"
     ]
    },
    {
     "name": "stdout",
     "output_type": "stream",
     "text": [
      "detect took 0.7407646179199219 time\n",
      "recognize took 0.0250699520111084 time\n"
     ]
    },
    {
     "name": "stderr",
     "output_type": "stream",
     "text": [
      "\r",
      " 17%|█▋        | 10/60 [00:07<00:38,  1.29it/s]"
     ]
    },
    {
     "name": "stdout",
     "output_type": "stream",
     "text": [
      "detect took 0.746800422668457 time\n",
      "recognize took 0.02533268928527832 time\n"
     ]
    },
    {
     "name": "stderr",
     "output_type": "stream",
     "text": [
      "\r",
      " 18%|█▊        | 11/60 [00:08<00:37,  1.29it/s]"
     ]
    },
    {
     "name": "stdout",
     "output_type": "stream",
     "text": [
      "detect took 0.7478818893432617 time\n",
      "recognize took 0.025022029876708984 time\n"
     ]
    },
    {
     "name": "stderr",
     "output_type": "stream",
     "text": [
      "\r",
      " 20%|██        | 12/60 [00:09<00:37,  1.30it/s]"
     ]
    },
    {
     "name": "stdout",
     "output_type": "stream",
     "text": [
      "detect took 0.7383506298065186 time\n",
      "recognize took 0.025839805603027344 time\n"
     ]
    },
    {
     "name": "stderr",
     "output_type": "stream",
     "text": [
      "\r",
      " 22%|██▏       | 13/60 [00:10<00:36,  1.30it/s]"
     ]
    },
    {
     "name": "stdout",
     "output_type": "stream",
     "text": [
      "detect took 0.7379145622253418 time\n",
      "recognize took 0.02593064308166504 time\n"
     ]
    },
    {
     "name": "stderr",
     "output_type": "stream",
     "text": [
      "\r",
      " 23%|██▎       | 14/60 [00:10<00:35,  1.30it/s]"
     ]
    },
    {
     "name": "stdout",
     "output_type": "stream",
     "text": [
      "detect took 0.7378478050231934 time\n",
      "recognize took 0.026613950729370117 time\n"
     ]
    },
    {
     "name": "stderr",
     "output_type": "stream",
     "text": [
      "\r",
      " 25%|██▌       | 15/60 [00:11<00:34,  1.30it/s]"
     ]
    },
    {
     "name": "stdout",
     "output_type": "stream",
     "text": [
      "detect took 0.7391214370727539 time\n",
      "recognize took 0.02660393714904785 time\n"
     ]
    },
    {
     "name": "stderr",
     "output_type": "stream",
     "text": [
      "\r",
      " 27%|██▋       | 16/60 [00:12<00:33,  1.30it/s]"
     ]
    },
    {
     "name": "stdout",
     "output_type": "stream",
     "text": [
      "detect took 0.7398312091827393 time\n",
      "recognize took 0.0264432430267334 time\n"
     ]
    },
    {
     "name": "stderr",
     "output_type": "stream",
     "text": [
      "\r",
      " 28%|██▊       | 17/60 [00:13<00:32,  1.30it/s]"
     ]
    },
    {
     "name": "stdout",
     "output_type": "stream",
     "text": [
      "detect took 0.7382044792175293 time\n",
      "recognize took 0.026463985443115234 time\n"
     ]
    },
    {
     "name": "stderr",
     "output_type": "stream",
     "text": [
      "\r",
      " 30%|███       | 18/60 [00:13<00:32,  1.30it/s]"
     ]
    },
    {
     "name": "stdout",
     "output_type": "stream",
     "text": [
      "detect took 0.7512123584747314 time\n",
      "recognize took 0.02684497833251953 time\n"
     ]
    },
    {
     "name": "stderr",
     "output_type": "stream",
     "text": [
      "\r",
      " 32%|███▏      | 19/60 [00:14<00:31,  1.30it/s]"
     ]
    },
    {
     "name": "stdout",
     "output_type": "stream",
     "text": [
      "detect took 0.7472579479217529 time\n",
      "recognize took 0.026601076126098633 time\n"
     ]
    },
    {
     "name": "stderr",
     "output_type": "stream",
     "text": [
      "\r",
      " 33%|███▎      | 20/60 [00:15<00:30,  1.30it/s]"
     ]
    },
    {
     "name": "stdout",
     "output_type": "stream",
     "text": [
      "detect took 0.7383184432983398 time\n",
      "recognize took 0.026589632034301758 time\n"
     ]
    },
    {
     "name": "stderr",
     "output_type": "stream",
     "text": [
      "\r",
      " 35%|███▌      | 21/60 [00:16<00:30,  1.30it/s]"
     ]
    },
    {
     "name": "stdout",
     "output_type": "stream",
     "text": [
      "detect took 0.7414000034332275 time\n",
      "recognize took 0.026737213134765625 time\n"
     ]
    },
    {
     "name": "stderr",
     "output_type": "stream",
     "text": [
      "\r",
      " 37%|███▋      | 22/60 [00:16<00:29,  1.29it/s]"
     ]
    },
    {
     "name": "stdout",
     "output_type": "stream",
     "text": [
      "detect took 0.7511522769927979 time\n",
      "recognize took 0.026664257049560547 time\n"
     ]
    },
    {
     "name": "stderr",
     "output_type": "stream",
     "text": [
      "\r",
      " 38%|███▊      | 23/60 [00:17<00:28,  1.30it/s]"
     ]
    },
    {
     "name": "stdout",
     "output_type": "stream",
     "text": [
      "detect took 0.7402174472808838 time\n",
      "recognize took 0.026974201202392578 time\n"
     ]
    },
    {
     "name": "stderr",
     "output_type": "stream",
     "text": [
      "\r",
      " 40%|████      | 24/60 [00:18<00:27,  1.29it/s]"
     ]
    },
    {
     "name": "stdout",
     "output_type": "stream",
     "text": [
      "detect took 0.7497580051422119 time\n",
      "recognize took 0.027227163314819336 time\n"
     ]
    },
    {
     "name": "stderr",
     "output_type": "stream",
     "text": [
      "\r",
      " 42%|████▏     | 25/60 [00:19<00:26,  1.30it/s]"
     ]
    },
    {
     "name": "stdout",
     "output_type": "stream",
     "text": [
      "detect took 0.7389044761657715 time\n",
      "recognize took 0.026535749435424805 time\n"
     ]
    },
    {
     "name": "stderr",
     "output_type": "stream",
     "text": [
      "\r",
      " 43%|████▎     | 26/60 [00:20<00:26,  1.29it/s]"
     ]
    },
    {
     "name": "stdout",
     "output_type": "stream",
     "text": [
      "detect took 0.7508707046508789 time\n",
      "recognize took 0.02663564682006836 time\n"
     ]
    },
    {
     "name": "stderr",
     "output_type": "stream",
     "text": [
      "\r",
      " 45%|████▌     | 27/60 [00:20<00:25,  1.29it/s]"
     ]
    },
    {
     "name": "stdout",
     "output_type": "stream",
     "text": [
      "detect took 0.7425892353057861 time\n",
      "recognize took 0.026732683181762695 time\n"
     ]
    },
    {
     "name": "stderr",
     "output_type": "stream",
     "text": [
      "\r",
      " 47%|████▋     | 28/60 [00:21<00:24,  1.29it/s]"
     ]
    },
    {
     "name": "stdout",
     "output_type": "stream",
     "text": [
      "detect took 0.7529799938201904 time\n",
      "recognize took 0.027157306671142578 time\n"
     ]
    },
    {
     "name": "stderr",
     "output_type": "stream",
     "text": [
      "\r",
      " 48%|████▊     | 29/60 [00:22<00:23,  1.29it/s]"
     ]
    },
    {
     "name": "stdout",
     "output_type": "stream",
     "text": [
      "detect took 0.7432444095611572 time\n",
      "recognize took 0.02670741081237793 time\n"
     ]
    },
    {
     "name": "stderr",
     "output_type": "stream",
     "text": [
      "\r",
      " 50%|█████     | 30/60 [00:23<00:23,  1.29it/s]"
     ]
    },
    {
     "name": "stdout",
     "output_type": "stream",
     "text": [
      "detect took 0.7524447441101074 time\n",
      "recognize took 0.027021169662475586 time\n"
     ]
    },
    {
     "name": "stderr",
     "output_type": "stream",
     "text": [
      "\r",
      " 52%|█████▏    | 31/60 [00:23<00:22,  1.29it/s]"
     ]
    },
    {
     "name": "stdout",
     "output_type": "stream",
     "text": [
      "detect took 0.7402119636535645 time\n",
      "recognize took 0.026592493057250977 time\n"
     ]
    },
    {
     "name": "stderr",
     "output_type": "stream",
     "text": [
      "\r",
      " 53%|█████▎    | 32/60 [00:24<00:21,  1.30it/s]"
     ]
    },
    {
     "name": "stdout",
     "output_type": "stream",
     "text": [
      "detect took 0.7404289245605469 time\n",
      "recognize took 0.027426719665527344 time\n"
     ]
    },
    {
     "name": "stderr",
     "output_type": "stream",
     "text": [
      "\r",
      " 55%|█████▌    | 33/60 [00:25<00:20,  1.30it/s]"
     ]
    },
    {
     "name": "stdout",
     "output_type": "stream",
     "text": [
      "detect took 0.7365763187408447 time\n",
      "recognize took 0.026699304580688477 time\n"
     ]
    },
    {
     "name": "stderr",
     "output_type": "stream",
     "text": [
      "\r",
      " 57%|█████▋    | 34/60 [00:26<00:20,  1.28it/s]"
     ]
    },
    {
     "name": "stdout",
     "output_type": "stream",
     "text": [
      "detect took 0.7750194072723389 time\n",
      "recognize took 0.027756452560424805 time\n"
     ]
    },
    {
     "name": "stderr",
     "output_type": "stream",
     "text": [
      "\r",
      " 58%|█████▊    | 35/60 [00:27<00:19,  1.28it/s]"
     ]
    },
    {
     "name": "stdout",
     "output_type": "stream",
     "text": [
      "detect took 0.7537977695465088 time\n",
      "recognize took 0.027387619018554688 time\n"
     ]
    },
    {
     "name": "stderr",
     "output_type": "stream",
     "text": [
      "\r",
      " 60%|██████    | 36/60 [00:27<00:18,  1.28it/s]"
     ]
    },
    {
     "name": "stdout",
     "output_type": "stream",
     "text": [
      "detect took 0.7482848167419434 time\n",
      "recognize took 0.027043819427490234 time\n"
     ]
    },
    {
     "name": "stderr",
     "output_type": "stream",
     "text": [
      "\r",
      " 62%|██████▏   | 37/60 [00:28<00:17,  1.29it/s]"
     ]
    },
    {
     "name": "stdout",
     "output_type": "stream",
     "text": [
      "detect took 0.7397544384002686 time\n",
      "recognize took 0.026752710342407227 time\n"
     ]
    },
    {
     "name": "stderr",
     "output_type": "stream",
     "text": [
      "\r",
      " 63%|██████▎   | 38/60 [00:29<00:16,  1.29it/s]"
     ]
    },
    {
     "name": "stdout",
     "output_type": "stream",
     "text": [
      "detect took 0.7369229793548584 time\n",
      "recognize took 0.026661396026611328 time\n"
     ]
    },
    {
     "name": "stderr",
     "output_type": "stream",
     "text": [
      "\r",
      " 65%|██████▌   | 39/60 [00:30<00:16,  1.30it/s]"
     ]
    },
    {
     "name": "stdout",
     "output_type": "stream",
     "text": [
      "detect took 0.7400469779968262 time\n",
      "recognize took 0.026664257049560547 time\n"
     ]
    },
    {
     "name": "stderr",
     "output_type": "stream",
     "text": [
      "\r",
      " 67%|██████▋   | 40/60 [00:30<00:15,  1.30it/s]"
     ]
    },
    {
     "name": "stdout",
     "output_type": "stream",
     "text": [
      "detect took 0.7384893894195557 time\n",
      "recognize took 0.026741743087768555 time\n"
     ]
    },
    {
     "name": "stderr",
     "output_type": "stream",
     "text": [
      "\r",
      " 68%|██████▊   | 41/60 [00:31<00:14,  1.30it/s]"
     ]
    },
    {
     "name": "stdout",
     "output_type": "stream",
     "text": [
      "detect took 0.7487161159515381 time\n",
      "recognize took 0.027243375778198242 time\n"
     ]
    },
    {
     "name": "stderr",
     "output_type": "stream",
     "text": [
      "\r",
      " 70%|███████   | 42/60 [00:32<00:13,  1.30it/s]"
     ]
    },
    {
     "name": "stdout",
     "output_type": "stream",
     "text": [
      "detect took 0.7390377521514893 time\n",
      "recognize took 0.026785612106323242 time\n"
     ]
    },
    {
     "name": "stderr",
     "output_type": "stream",
     "text": [
      "\r",
      " 72%|███████▏  | 43/60 [00:33<00:13,  1.30it/s]"
     ]
    },
    {
     "name": "stdout",
     "output_type": "stream",
     "text": [
      "detect took 0.7396090030670166 time\n",
      "recognize took 0.026750802993774414 time\n"
     ]
    },
    {
     "name": "stderr",
     "output_type": "stream",
     "text": [
      "\r",
      " 73%|███████▎  | 44/60 [00:33<00:12,  1.29it/s]"
     ]
    },
    {
     "name": "stdout",
     "output_type": "stream",
     "text": [
      "detect took 0.7509117126464844 time\n",
      "recognize took 0.027025938034057617 time\n"
     ]
    },
    {
     "name": "stderr",
     "output_type": "stream",
     "text": [
      "\r",
      " 75%|███████▌  | 45/60 [00:34<00:11,  1.30it/s]"
     ]
    },
    {
     "name": "stdout",
     "output_type": "stream",
     "text": [
      "detect took 0.7390809059143066 time\n",
      "recognize took 0.027232885360717773 time\n"
     ]
    },
    {
     "name": "stderr",
     "output_type": "stream",
     "text": [
      "\r",
      " 77%|███████▋  | 46/60 [00:35<00:10,  1.29it/s]"
     ]
    },
    {
     "name": "stdout",
     "output_type": "stream",
     "text": [
      "detect took 0.7497768402099609 time\n",
      "recognize took 0.026798486709594727 time\n"
     ]
    },
    {
     "name": "stderr",
     "output_type": "stream",
     "text": [
      "\r",
      " 78%|███████▊  | 47/60 [00:36<00:10,  1.30it/s]"
     ]
    },
    {
     "name": "stdout",
     "output_type": "stream",
     "text": [
      "detect took 0.7386162281036377 time\n",
      "recognize took 0.027273893356323242 time\n"
     ]
    },
    {
     "name": "stderr",
     "output_type": "stream",
     "text": [
      "\r",
      " 80%|████████  | 48/60 [00:37<00:09,  1.30it/s]"
     ]
    },
    {
     "name": "stdout",
     "output_type": "stream",
     "text": [
      "detect took 0.7402393817901611 time\n",
      "recognize took 0.027126550674438477 time\n"
     ]
    },
    {
     "name": "stderr",
     "output_type": "stream",
     "text": [
      "\r",
      " 82%|████████▏ | 49/60 [00:37<00:08,  1.30it/s]"
     ]
    },
    {
     "name": "stdout",
     "output_type": "stream",
     "text": [
      "detect took 0.7389075756072998 time\n",
      "recognize took 0.02680659294128418 time\n"
     ]
    },
    {
     "name": "stderr",
     "output_type": "stream",
     "text": [
      "\r",
      " 83%|████████▎ | 50/60 [00:38<00:07,  1.30it/s]"
     ]
    },
    {
     "name": "stdout",
     "output_type": "stream",
     "text": [
      "detect took 0.749974250793457 time\n",
      "recognize took 0.027164220809936523 time\n"
     ]
    },
    {
     "name": "stderr",
     "output_type": "stream",
     "text": [
      "\r",
      " 85%|████████▌ | 51/60 [00:39<00:06,  1.30it/s]"
     ]
    },
    {
     "name": "stdout",
     "output_type": "stream",
     "text": [
      "detect took 0.7386493682861328 time\n",
      "recognize took 0.027420997619628906 time\n"
     ]
    },
    {
     "name": "stderr",
     "output_type": "stream",
     "text": [
      "\r",
      " 87%|████████▋ | 52/60 [00:40<00:06,  1.30it/s]"
     ]
    },
    {
     "name": "stdout",
     "output_type": "stream",
     "text": [
      "detect took 0.740675687789917 time\n",
      "recognize took 0.026713848114013672 time\n"
     ]
    },
    {
     "name": "stderr",
     "output_type": "stream",
     "text": [
      "\r",
      " 88%|████████▊ | 53/60 [00:40<00:05,  1.30it/s]"
     ]
    },
    {
     "name": "stdout",
     "output_type": "stream",
     "text": [
      "detect took 0.738339900970459 time\n",
      "recognize took 0.02715587615966797 time\n"
     ]
    },
    {
     "name": "stderr",
     "output_type": "stream",
     "text": [
      "\r",
      " 90%|█████████ | 54/60 [00:41<00:04,  1.31it/s]"
     ]
    },
    {
     "name": "stdout",
     "output_type": "stream",
     "text": [
      "detect took 0.7387588024139404 time\n",
      "recognize took 0.014159202575683594 time\n"
     ]
    },
    {
     "name": "stderr",
     "output_type": "stream",
     "text": [
      "\r",
      " 92%|█████████▏| 55/60 [00:42<00:03,  1.30it/s]"
     ]
    },
    {
     "name": "stdout",
     "output_type": "stream",
     "text": [
      "detect took 0.7506999969482422 time\n",
      "recognize took 0.02668309211730957 time\n"
     ]
    },
    {
     "name": "stderr",
     "output_type": "stream",
     "text": [
      "\r",
      " 93%|█████████▎| 56/60 [00:43<00:03,  1.30it/s]"
     ]
    },
    {
     "name": "stdout",
     "output_type": "stream",
     "text": [
      "detect took 0.7381114959716797 time\n",
      "recognize took 0.026791810989379883 time\n"
     ]
    },
    {
     "name": "stderr",
     "output_type": "stream",
     "text": [
      "\r",
      " 95%|█████████▌| 57/60 [00:43<00:02,  1.30it/s]"
     ]
    },
    {
     "name": "stdout",
     "output_type": "stream",
     "text": [
      "detect took 0.7399027347564697 time\n",
      "recognize took 0.0267179012298584 time\n"
     ]
    },
    {
     "name": "stderr",
     "output_type": "stream",
     "text": [
      "\r",
      " 97%|█████████▋| 58/60 [00:44<00:01,  1.30it/s]"
     ]
    },
    {
     "name": "stdout",
     "output_type": "stream",
     "text": [
      "detect took 0.7395296096801758 time\n",
      "recognize took 0.026795387268066406 time\n"
     ]
    },
    {
     "name": "stderr",
     "output_type": "stream",
     "text": [
      "\r",
      " 98%|█████████▊| 59/60 [00:45<00:00,  1.30it/s]"
     ]
    },
    {
     "name": "stdout",
     "output_type": "stream",
     "text": [
      "detect took 0.738685131072998 time\n",
      "recognize took 0.02671194076538086 time\n"
     ]
    },
    {
     "name": "stderr",
     "output_type": "stream",
     "text": [
      "\r",
      "100%|██████████| 60/60 [00:46<00:00,  1.28it/s]"
     ]
    },
    {
     "name": "stdout",
     "output_type": "stream",
     "text": [
      "detect took 0.7849807739257812 time\n",
      "recognize took 0.027574539184570312 time\n"
     ]
    },
    {
     "name": "stderr",
     "output_type": "stream",
     "text": [
      "\n"
     ]
    }
   ],
   "source": [
    "result = videotext.get_json(url, duration=2)"
   ]
  },
  {
   "cell_type": "code",
   "execution_count": 74,
   "metadata": {
    "collapsed": false
   },
   "outputs": [
    {
     "data": {
      "text/plain": [
       "'[{\"f_index\": 0, \"time_stamp\": \"0.00\", \"text\": \"s\", \"bbox\": [1076.5968322753906, 40.980015099048615, 67.09396362304688, 17.170603573322296], \"score\": 0.9709609150886536}, {\"f_index\": 0, \"time_stamp\": \"0.00\", \"text\": \"risd\", \"bbox\": [1163.131332397461, 40.94292014837265, 59.89898681640625, 18.34677368402481], \"score\": 0.90181565284729}, {\"f_index\": 1, \"time_stamp\": \"0.03\", \"text\": \"s\", \"bbox\": [1076.5968322753906, 40.980015099048615, 67.09396362304688, 17.170603573322296], \"score\": 0.9709609150886536}, {\"f_index\": 1, \"time_stamp\": \"0.03\", \"text\": \"risd\", \"bbox\": [1163.131332397461, 40.94292014837265, 59.89898681640625, 18.34677368402481], \"score\": 0.90181565284729}, {\"f_index\": 2, \"time_stamp\": \"0.07\", \"text\": \"s\", \"bbox\": [1076.5968322753906, 40.980015099048615, 67.09396362304688, 17.170603573322296], \"score\": 0.9709609150886536}, {\"f_index\": 2, \"time_stamp\": \"0.07\", \"text\": \"risd\", \"bbox\": [1163.131332397461, 40.94292014837265, 59.89898681640625, 18.34677368402481], \"score\": 0.90181565284729}, {\"f_index\": 3, \"time_stamp\": \"0.10\", \"text\": \"s\", \"bbox\": [1076.5968322753906, 40.980015099048615, 67.09396362304688, 17.170603573322296], \"score\": 0.9709609150886536}, {\"f_index\": 3, \"time_stamp\": \"0.10\", \"text\": \"risd\", \"bbox\": [1163.131332397461, 40.94292014837265, 59.89898681640625, 18.34677368402481], \"score\": 0.90181565284729}, {\"f_index\": 4, \"time_stamp\": \"0.13\", \"text\": \"s\", \"bbox\": [1076.5968322753906, 40.980015099048615, 67.09396362304688, 17.170603573322296], \"score\": 0.9709609150886536}, {\"f_index\": 4, \"time_stamp\": \"0.13\", \"text\": \"risd\", \"bbox\": [1163.131332397461, 40.94292014837265, 59.89898681640625, 18.34677368402481], \"score\": 0.90181565284729}, {\"f_index\": 5, \"time_stamp\": \"0.17\", \"text\": \"s\", \"bbox\": [1076.5968322753906, 40.980015099048615, 67.09396362304688, 17.170603573322296], \"score\": 0.9709609150886536}, {\"f_index\": 5, \"time_stamp\": \"0.17\", \"text\": \"risd\", \"bbox\": [1163.131332397461, 40.94292014837265, 59.89898681640625, 18.34677368402481], \"score\": 0.90181565284729}, {\"f_index\": 6, \"time_stamp\": \"0.20\", \"text\": \"s\", \"bbox\": [1076.5968322753906, 40.980015099048615, 67.09396362304688, 17.170603573322296], \"score\": 0.9709609150886536}, {\"f_index\": 6, \"time_stamp\": \"0.20\", \"text\": \"risd\", \"bbox\": [1163.131332397461, 40.94292014837265, 59.89898681640625, 18.34677368402481], \"score\": 0.90181565284729}, {\"f_index\": 7, \"time_stamp\": \"0.23\", \"text\": \"s\", \"bbox\": [1076.5968322753906, 40.980015099048615, 67.09396362304688, 17.170603573322296], \"score\": 0.9709609150886536}, {\"f_index\": 7, \"time_stamp\": \"0.23\", \"text\": \"risd\", \"bbox\": [1163.131332397461, 40.94292014837265, 59.89898681640625, 18.34677368402481], \"score\": 0.90181565284729}, {\"f_index\": 8, \"time_stamp\": \"0.27\", \"text\": \"s\", \"bbox\": [1076.5968322753906, 40.980015099048615, 67.09396362304688, 17.170603573322296], \"score\": 0.9709609150886536}, {\"f_index\": 8, \"time_stamp\": \"0.27\", \"text\": \"risd\", \"bbox\": [1163.131332397461, 40.94292014837265, 59.89898681640625, 18.34677368402481], \"score\": 0.90181565284729}, {\"f_index\": 9, \"time_stamp\": \"0.30\", \"text\": \"s\", \"bbox\": [1076.5968322753906, 40.980015099048615, 67.09396362304688, 17.170603573322296], \"score\": 0.9709609150886536}, {\"f_index\": 9, \"time_stamp\": \"0.30\", \"text\": \"risd\", \"bbox\": [1163.131332397461, 40.94292014837265, 59.89898681640625, 18.34677368402481], \"score\": 0.90181565284729}, {\"f_index\": 10, \"time_stamp\": \"0.33\", \"text\": \"s\", \"bbox\": [1076.5968322753906, 40.980015099048615, 67.09396362304688, 17.170603573322296], \"score\": 0.9709609150886536}, {\"f_index\": 10, \"time_stamp\": \"0.33\", \"text\": \"risd\", \"bbox\": [1163.131332397461, 40.94292014837265, 59.89898681640625, 18.34677368402481], \"score\": 0.90181565284729}, {\"f_index\": 11, \"time_stamp\": \"0.37\", \"text\": \"s\", \"bbox\": [1076.6600036621094, 40.85403710603714, 66.92611694335938, 17.357440888881683], \"score\": 0.9702367782592773}, {\"f_index\": 11, \"time_stamp\": \"0.37\", \"text\": \"risd\", \"bbox\": [1163.2330322265625, 40.87091624736786, 59.86602783203125, 18.42007040977478], \"score\": 0.9006300568580627}, {\"f_index\": 12, \"time_stamp\": \"0.40\", \"text\": \"s\", \"bbox\": [1076.6785430908203, 40.84734499454498, 67.16201782226562, 17.399704456329346], \"score\": 0.9699826836585999}, {\"f_index\": 12, \"time_stamp\": \"0.40\", \"text\": \"risd\", \"bbox\": [1163.1893157958984, 40.85723698139191, 59.969940185546875, 18.462427854537964], \"score\": 0.900404155254364}, {\"f_index\": 13, \"time_stamp\": \"0.43\", \"text\": \"s\", \"bbox\": [1076.3927459716797, 40.854533314704895, 67.31658935546875, 17.477134466171265], \"score\": 0.9702052474021912}, {\"f_index\": 13, \"time_stamp\": \"0.43\", \"text\": \"risd\", \"bbox\": [1162.9139709472656, 40.836777091026306, 60.3436279296875, 18.496277332305908], \"score\": 0.9007865190505981}, {\"f_index\": 14, \"time_stamp\": \"0.47\", \"text\": \"s\", \"bbox\": [1076.4305114746094, 40.852384865283966, 67.35641479492188, 17.43597060441971], \"score\": 0.9699273705482483}, {\"f_index\": 14, \"time_stamp\": \"0.47\", \"text\": \"risd\", \"bbox\": [1162.6905059814453, 40.84865391254425, 60.36895751953125, 18.417141437530518], \"score\": 0.9004698395729065}, {\"f_index\": 15, \"time_stamp\": \"0.50\", \"text\": \"s\", \"bbox\": [1076.25, 40.94688445329666, 67.76535034179688, 17.43093878030777], \"score\": 0.9706493616104126}, {\"f_index\": 15, \"time_stamp\": \"0.50\", \"text\": \"risd\", \"bbox\": [1162.811279296875, 40.9931606054306, 60.144500732421875, 18.412485122680664], \"score\": 0.9004637002944946}, {\"f_index\": 16, \"time_stamp\": \"0.53\", \"text\": \"s\", \"bbox\": [1076.163558959961, 40.9363728761673, 67.75894165039062, 17.48523473739624], \"score\": 0.9706456661224365}, {\"f_index\": 16, \"time_stamp\": \"0.53\", \"text\": \"risd\", \"bbox\": [1162.7885437011719, 40.98281532526016, 60.28411865234375, 18.447544276714325], \"score\": 0.9000923037528992}, {\"f_index\": 17, \"time_stamp\": \"0.57\", \"text\": \"sts\", \"bbox\": [1075.9236907958984, 40.89961588382721, 68.2806396484375, 17.616630792617798], \"score\": 0.9707205891609192}, {\"f_index\": 17, \"time_stamp\": \"0.57\", \"text\": \"risd\", \"bbox\": [1162.6883697509766, 41.04292631149292, 60.764312744140625, 18.523893356323242], \"score\": 0.9013247489929199}, {\"f_index\": 18, \"time_stamp\": \"0.60\", \"text\": \"sts\", \"bbox\": [1075.9011840820312, 40.91765373945236, 68.34945678710938, 17.598775327205658], \"score\": 0.9706832766532898}, {\"f_index\": 18, \"time_stamp\": \"0.60\", \"text\": \"rid\", \"bbox\": [1162.7946472167969, 41.067675054073334, 60.783233642578125, 18.521675169467926], \"score\": 0.9009156823158264}, {\"f_index\": 19, \"time_stamp\": \"0.63\", \"text\": \"s\", \"bbox\": [1075.9313201904297, 40.90605318546295, 68.47274780273438, 17.593231201171875], \"score\": 0.9700629711151123}, {\"f_index\": 19, \"time_stamp\": \"0.63\", \"text\": \"rid\", \"bbox\": [1162.7696990966797, 41.05840802192688, 60.889434814453125, 18.52571725845337], \"score\": 0.9004051089286804}, {\"f_index\": 20, \"time_stamp\": \"0.67\", \"text\": \"s\", \"bbox\": [1075.8976745605469, 40.78145384788513, 68.55697631835938, 17.67104744911194], \"score\": 0.971135139465332}, {\"f_index\": 20, \"time_stamp\": \"0.67\", \"text\": \"rid\", \"bbox\": [1162.8511810302734, 40.99896490573883, 60.81085205078125, 18.508336544036865], \"score\": 0.9001378417015076}, {\"f_index\": 21, \"time_stamp\": \"0.70\", \"text\": \"s\", \"bbox\": [1075.8243560791016, 40.78955948352814, 68.56170654296875, 17.694908380508423], \"score\": 0.9713501334190369}, {\"f_index\": 21, \"time_stamp\": \"0.70\", \"text\": \"rid\", \"bbox\": [1162.7926635742188, 41.022600531578064, 60.89111328125, 18.510364294052124], \"score\": 0.9012411236763}, {\"f_index\": 22, \"time_stamp\": \"0.73\", \"text\": \"s\", \"bbox\": [1075.7230377197266, 40.68488359451294, 68.72756958007812, 17.601245641708374], \"score\": 0.9704104065895081}, {\"f_index\": 22, \"time_stamp\": \"0.73\", \"text\": \"ristd\", \"bbox\": [1162.8748321533203, 41.00805222988129, 60.95672607421875, 18.4160578250885], \"score\": 0.9008021950721741}, {\"f_index\": 23, \"time_stamp\": \"0.77\", \"text\": \"s\", \"bbox\": [1075.592041015625, 40.62875837087631, 68.64990234375, 17.539632618427277], \"score\": 0.9719836711883545}, {\"f_index\": 23, \"time_stamp\": \"0.77\", \"text\": \"ristd\", \"bbox\": [1162.994613647461, 41.01688742637634, 60.811614990234375, 18.368303775787354], \"score\": 0.9015384316444397}, {\"f_index\": 24, \"time_stamp\": \"0.80\", \"text\": \"ss\", \"bbox\": [1075.8833312988281, 40.786236226558685, 69.75143432617188, 17.24294811487198], \"score\": 0.9686500430107117}, {\"f_index\": 24, \"time_stamp\": \"0.80\", \"text\": \"ristd\", \"bbox\": [1163.0123901367188, 41.13335162401199, 61.08154296875, 18.197369277477264], \"score\": 0.9017970561981201}, {\"f_index\": 25, \"time_stamp\": \"0.83\", \"text\": \"ss\", \"bbox\": [1075.9790802001953, 40.76756000518799, 69.88845825195312, 17.2395122051239], \"score\": 0.9690839648246765}, {\"f_index\": 25, \"time_stamp\": \"0.83\", \"text\": \"ristd\", \"bbox\": [1163.0390167236328, 41.13198637962341, 60.789031982421875, 18.227734565734863], \"score\": 0.9023343324661255}, {\"f_index\": 26, \"time_stamp\": \"0.87\", \"text\": \"ss\", \"bbox\": [1075.990219116211, 40.749154686927795, 69.9420166015625, 17.267889976501465], \"score\": 0.9692085981369019}, {\"f_index\": 26, \"time_stamp\": \"0.87\", \"text\": \"ristd\", \"bbox\": [1163.0598449707031, 41.1021226644516, 60.584259033203125, 18.247443437576294], \"score\": 0.9022279977798462}, {\"f_index\": 27, \"time_stamp\": \"0.90\", \"text\": \"ss\", \"bbox\": [1076.0774230957031, 40.988370180130005, 70.34011840820312, 17.082560062408447], \"score\": 0.9669979810714722}, {\"f_index\": 27, \"time_stamp\": \"0.90\", \"text\": \"ristd\", \"bbox\": [1163.039779663086, 41.264508962631226, 61.24603271484375, 18.157578706741333], \"score\": 0.9035421013832092}, {\"f_index\": 28, \"time_stamp\": \"0.93\", \"text\": \"ss\", \"bbox\": [1076.1072540283203, 41.07742756605148, 70.18646240234375, 17.11136966943741], \"score\": 0.9670800566673279}, {\"f_index\": 28, \"time_stamp\": \"0.93\", \"text\": \"rid\", \"bbox\": [1163.147964477539, 41.371614933013916, 61.18682861328125, 18.19409966468811], \"score\": 0.901997447013855}, {\"f_index\": 29, \"time_stamp\": \"0.97\", \"text\": \"ss\", \"bbox\": [1076.0966491699219, 41.0739541053772, 70.21591186523438, 17.141085863113403], \"score\": 0.9670302271842957}, {\"f_index\": 29, \"time_stamp\": \"0.97\", \"text\": \"rid\", \"bbox\": [1163.1363677978516, 41.380122900009155, 61.353302001953125, 18.24801206588745], \"score\": 0.9009993672370911}, {\"f_index\": 30, \"time_stamp\": \"1.00\", \"text\": \"ss\", \"bbox\": [1076.0613250732422, 41.120436787605286, 70.16494750976562, 17.069556713104248], \"score\": 0.9666696190834045}, {\"f_index\": 30, \"time_stamp\": \"1.00\", \"text\": \"rid\", \"bbox\": [1163.1552124023438, 41.322444677352905, 61.201019287109375, 18.300637006759644], \"score\": 0.9049760103225708}, {\"f_index\": 31, \"time_stamp\": \"1.03\", \"text\": \"ss\", \"bbox\": [1076.095199584961, 41.11841171979904, 70.06576538085938, 17.019251883029938], \"score\": 0.9666697978973389}, {\"f_index\": 31, \"time_stamp\": \"1.03\", \"text\": \"rid\", \"bbox\": [1163.0835723876953, 41.31414324045181, 61.220703125, 18.313916623592377], \"score\": 0.9053186178207397}, {\"f_index\": 32, \"time_stamp\": \"1.07\", \"text\": \"ss\", \"bbox\": [1076.0903930664062, 41.12375736236572, 69.991455078125, 17.01606273651123], \"score\": 0.9670577645301819}, {\"f_index\": 32, \"time_stamp\": \"1.07\", \"text\": \"rid\", \"bbox\": [1162.9695129394531, 41.32286310195923, 61.228485107421875, 18.28571319580078], \"score\": 0.9052935242652893}, {\"f_index\": 33, \"time_stamp\": \"1.10\", \"text\": \"ss\", \"bbox\": [1075.9004974365234, 40.93942791223526, 69.06967163085938, 17.197860181331635], \"score\": 0.9694629907608032}, {\"f_index\": 33, \"time_stamp\": \"1.10\", \"text\": \"rid\", \"bbox\": [1162.7921295166016, 41.13934636116028, 61.3079833984375, 18.41280698776245], \"score\": 0.9065006971359253}, {\"f_index\": 34, \"time_stamp\": \"1.13\", \"text\": \"ss\", \"bbox\": [1075.8544158935547, 40.867794156074524, 68.71231079101562, 17.265325784683228], \"score\": 0.9704601168632507}, {\"f_index\": 34, \"time_stamp\": \"1.13\", \"text\": \"ristd\", \"bbox\": [1162.789077758789, 41.06996297836304, 61.09466552734375, 18.39632749557495], \"score\": 0.9057194590568542}, {\"f_index\": 35, \"time_stamp\": \"1.17\", \"text\": \"ss\", \"bbox\": [1075.8952331542969, 40.82749128341675, 68.85665893554688, 17.333282232284546], \"score\": 0.9703102707862854}, {\"f_index\": 35, \"time_stamp\": \"1.17\", \"text\": \"ristd\", \"bbox\": [1162.7095031738281, 41.032495200634, 61.18408203125, 18.43070536851883], \"score\": 0.9052358865737915}, {\"f_index\": 36, \"time_stamp\": \"1.20\", \"text\": \"s\", \"bbox\": [1075.7010650634766, 40.660990476608276, 68.43170166015625, 17.547290325164795], \"score\": 0.9707585573196411}, {\"f_index\": 36, \"time_stamp\": \"1.20\", \"text\": \"risd\", \"bbox\": [1162.5764465332031, 40.93700587749481, 60.83251953125, 18.485065698623657], \"score\": 0.9042581915855408}, {\"f_index\": 37, \"time_stamp\": \"1.23\", \"text\": \"es\", \"bbox\": [1075.56884765625, 40.482006669044495, 68.05389404296875, 17.657078504562378], \"score\": 0.971659779548645}, {\"f_index\": 37, \"time_stamp\": \"1.23\", \"text\": \"riszd\", \"bbox\": [1162.4836730957031, 40.875771045684814, 60.754241943359375, 18.553601503372192], \"score\": 0.902275025844574}, {\"f_index\": 38, \"time_stamp\": \"1.27\", \"text\": \"es\", \"bbox\": [1075.5695343017578, 40.41664391756058, 67.97256469726562, 17.68390864133835], \"score\": 0.9716811776161194}, {\"f_index\": 38, \"time_stamp\": \"1.27\", \"text\": \"risd\", \"bbox\": [1162.5367736816406, 40.85622847080231, 60.607147216796875, 18.540855646133423], \"score\": 0.9011211395263672}, {\"f_index\": 39, \"time_stamp\": \"1.30\", \"text\": \"sntns\", \"bbox\": [1075.6022644042969, 40.377641916275024, 67.8857421875, 17.705401182174683], \"score\": 0.9713273048400879}, {\"f_index\": 39, \"time_stamp\": \"1.30\", \"text\": \"riszd\", \"bbox\": [1162.403793334961, 40.81353306770325, 60.53436279296875, 18.53166103363037], \"score\": 0.9009674787521362}, {\"f_index\": 40, \"time_stamp\": \"1.33\", \"text\": \"sntns\", \"bbox\": [1075.5032348632812, 40.34397751092911, 67.9840087890625, 17.623880803585052], \"score\": 0.9731470346450806}, {\"f_index\": 40, \"time_stamp\": \"1.33\", \"text\": \"riszd\", \"bbox\": [1162.1196746826172, 40.93549311161041, 60.58349609375, 18.501298427581787], \"score\": 0.9070186018943787}, {\"f_index\": 41, \"time_stamp\": \"1.37\", \"text\": \"es\", \"bbox\": [1075.50537109375, 40.355148911476135, 68.04428100585938, 17.596900463104248], \"score\": 0.9735419750213623}, {\"f_index\": 41, \"time_stamp\": \"1.37\", \"text\": \"riszd\", \"bbox\": [1162.159423828125, 40.95328152179718, 60.497894287109375, 18.476386070251465], \"score\": 0.9069708585739136}, {\"f_index\": 42, \"time_stamp\": \"1.40\", \"text\": \"es\", \"bbox\": [1075.6246948242188, 40.403310656547546, 68.27606201171875, 17.569735050201416], \"score\": 0.9724413752555847}, {\"f_index\": 42, \"time_stamp\": \"1.40\", \"text\": \"riszd\", \"bbox\": [1161.6854858398438, 40.94902753829956, 60.830535888671875, 18.459423780441284], \"score\": 0.9079506993293762}, {\"f_index\": 43, \"time_stamp\": \"1.43\", \"text\": \"s\", \"bbox\": [1075.7327270507812, 40.527049005031586, 67.92800903320312, 17.332614362239838], \"score\": 0.9720864295959473}, {\"f_index\": 43, \"time_stamp\": \"1.43\", \"text\": \"risted\", \"bbox\": [1161.6432189941406, 41.02467119693756, 60.397796630859375, 18.26006054878235], \"score\": 0.9076315760612488}, {\"f_index\": 44, \"time_stamp\": \"1.47\", \"text\": \"ss\", \"bbox\": [1076.0664367675781, 40.8041587471962, 68.88397216796875, 17.118016183376312], \"score\": 0.9699356555938721}, {\"f_index\": 44, \"time_stamp\": \"1.47\", \"text\": \"riszd\", \"bbox\": [1161.5398406982422, 41.05243742465973, 61.238555908203125, 18.225256204605103], \"score\": 0.9074113965034485}, {\"f_index\": 45, \"time_stamp\": \"1.50\", \"text\": \"ss\", \"bbox\": [1075.9748840332031, 40.90576350688934, 69.29046630859375, 16.99437975883484], \"score\": 0.9698969721794128}, {\"f_index\": 45, \"time_stamp\": \"1.50\", \"text\": \"risted\", \"bbox\": [1161.125717163086, 40.88584005832672, 61.14044189453125, 18.08351755142212], \"score\": 0.905470073223114}, {\"f_index\": 46, \"time_stamp\": \"1.53\", \"text\": \"ss\", \"bbox\": [1075.9363555908203, 40.92052906751633, 69.17877197265625, 17.0461705327034], \"score\": 0.9697283506393433}, {\"f_index\": 46, \"time_stamp\": \"1.53\", \"text\": \"risted\", \"bbox\": [1161.1177062988281, 40.924973487854004, 61.494140625, 18.156838417053223], \"score\": 0.9055913090705872}, {\"f_index\": 47, \"time_stamp\": \"1.57\", \"text\": \"ss\", \"bbox\": [1075.9815216064453, 40.981007516384125, 68.95584106445312, 16.81520015001297], \"score\": 0.9705304503440857}, {\"f_index\": 47, \"time_stamp\": \"1.57\", \"text\": \"risted\", \"bbox\": [1161.4154815673828, 41.11259400844574, 61.349029541015625, 18.091832399368286], \"score\": 0.9041885137557983}, {\"f_index\": 48, \"time_stamp\": \"1.60\", \"text\": \"ss\", \"bbox\": [1075.9707641601562, 40.97955644130707, 68.98223876953125, 16.83502435684204], \"score\": 0.9703062176704407}, {\"f_index\": 48, \"time_stamp\": \"1.60\", \"text\": \"risted\", \"bbox\": [1161.4324951171875, 41.11775994300842, 61.418304443359375, 18.101177215576172], \"score\": 0.9044609069824219}, {\"f_index\": 49, \"time_stamp\": \"1.63\", \"text\": \"ss\", \"bbox\": [1076.446304321289, 40.95558822154999, 69.29153442382812, 16.816463470458984], \"score\": 0.9692294001579285}, {\"f_index\": 49, \"time_stamp\": \"1.63\", \"text\": \"riszd\", \"bbox\": [1161.7594909667969, 41.03493869304657, 60.77880859375, 18.126282691955566], \"score\": 0.9025819897651672}, {\"f_index\": 50, \"time_stamp\": \"1.67\", \"text\": \"ss\", \"bbox\": [1076.794662475586, 40.970871448516846, 69.6856689453125, 16.876899003982544], \"score\": 0.9694669842720032}, {\"f_index\": 50, \"time_stamp\": \"1.67\", \"text\": \"riszd\", \"bbox\": [1161.7692565917969, 41.10381782054901, 60.74554443359375, 18.219484090805054], \"score\": 0.9030861258506775}, {\"f_index\": 51, \"time_stamp\": \"1.70\", \"text\": \"s\", \"bbox\": [1076.894302368164, 40.91949105262756, 69.81491088867188, 16.9714093208313], \"score\": 0.9678177833557129}, {\"f_index\": 51, \"time_stamp\": \"1.70\", \"text\": \"riszd\", \"bbox\": [1161.806869506836, 41.04293167591095, 60.7293701171875, 18.306623697280884], \"score\": 0.9014652967453003}, {\"f_index\": 52, \"time_stamp\": \"1.73\", \"text\": \"s\", \"bbox\": [1076.8824768066406, 40.921459794044495, 69.71786499023438, 16.977696418762207], \"score\": 0.968007504940033}, {\"f_index\": 52, \"time_stamp\": \"1.73\", \"text\": \"risted\", \"bbox\": [1161.6403198242188, 41.03000342845917, 60.73333740234375, 18.30451011657715], \"score\": 0.9005818367004395}, {\"f_index\": 53, \"time_stamp\": \"1.77\", \"text\": \"s\", \"bbox\": [1077.0787811279297, 40.87929010391235, 69.66964721679688, 16.987169981002808], \"score\": 0.9669808149337769}, {\"f_index\": 54, \"time_stamp\": \"1.80\", \"text\": \"s\", \"bbox\": [1077.15576171875, 40.829030871391296, 70.11444091796875, 16.858971118927002], \"score\": 0.9671860933303833}, {\"f_index\": 54, \"time_stamp\": \"1.80\", \"text\": \"risted\", \"bbox\": [1161.8988037109375, 40.89532971382141, 60.352325439453125, 18.309348821640015], \"score\": 0.9006248116493225}, {\"f_index\": 55, \"time_stamp\": \"1.83\", \"text\": \"s\", \"bbox\": [1076.9778442382812, 40.74482023715973, 70.05035400390625, 16.942119598388672], \"score\": 0.9666609168052673}, {\"f_index\": 55, \"time_stamp\": \"1.83\", \"text\": \"risted\", \"bbox\": [1161.3651275634766, 40.83810746669769, 60.731201171875, 18.45805048942566], \"score\": 0.9035045504570007}, {\"f_index\": 56, \"time_stamp\": \"1.87\", \"text\": \"s\", \"bbox\": [1076.636962890625, 40.71737587451935, 70.02456665039062, 16.915372610092163], \"score\": 0.9679114818572998}, {\"f_index\": 56, \"time_stamp\": \"1.87\", \"text\": \"risted\", \"bbox\": [1161.2278747558594, 40.81212490797043, 60.743408203125, 18.475734293460846], \"score\": 0.9026154279708862}, {\"f_index\": 57, \"time_stamp\": \"1.90\", \"text\": \"s\", \"bbox\": [1076.669921875, 40.68991541862488, 70.16769409179688, 16.88522458076477], \"score\": 0.968469500541687}, {\"f_index\": 57, \"time_stamp\": \"1.90\", \"text\": \"risted\", \"bbox\": [1161.2158966064453, 40.84696412086487, 60.96160888671875, 18.453737497329712], \"score\": 0.9039241671562195}, {\"f_index\": 58, \"time_stamp\": \"1.93\", \"text\": \"ss\", \"bbox\": [1076.1272430419922, 40.7784765958786, 69.67697143554688, 16.85152530670166], \"score\": 0.9699249267578125}, {\"f_index\": 58, \"time_stamp\": \"1.93\", \"text\": \"risted\", \"bbox\": [1161.4257049560547, 40.9803181886673, 61.03790283203125, 18.392765522003174], \"score\": 0.9083756804466248}, {\"f_index\": 59, \"time_stamp\": \"1.97\", \"text\": \"ss\", \"bbox\": [1076.0870361328125, 40.79006910324097, 69.63912963867188, 16.828254461288452], \"score\": 0.9703272581100464}, {\"f_index\": 59, \"time_stamp\": \"1.97\", \"text\": \"risted\", \"bbox\": [1161.4641571044922, 40.95681667327881, 61.05712890625, 18.39560866355896], \"score\": 0.9076586961746216}]'"
      ]
     },
     "execution_count": 74,
     "metadata": {},
     "output_type": "execute_result"
    }
   ],
   "source": [
    "result"
   ]
  },
  {
   "cell_type": "markdown",
   "metadata": {},
   "source": [
    "# Demo on Youtube url"
   ]
  },
  {
   "cell_type": "code",
   "execution_count": 80,
   "metadata": {
    "collapsed": false
   },
   "outputs": [
    {
     "name": "stderr",
     "output_type": "stream",
     "text": [
      "WARNING: Assuming --restrict-filenames since file system encoding cannot encode all characters. Set the LC_ALL environment variable to fix this.\n"
     ]
    },
    {
     "name": "stdout",
     "output_type": "stream",
     "text": [
      "[youtube] FKeD2on-f3c: Downloading webpage\n",
      "[youtube] FKeD2on-f3c: Downloading video info webpage\n",
      "[youtube] FKeD2on-f3c: Extracting video information\n",
      "[youtube] FKeD2on-f3c: Downloading MPD manifest\n",
      "[download] Destination: /tmp/tmpxok08rvr/input.mp4\n",
      "[download] 100% of 128.26MiB in 00:0874MiB/s ETA 00:009\n",
      "Video downloaded to /tmp/tmpxok08rvr/input.mp4\n",
      "Splitted video starting from 00:28, duration: 5 seconds\n"
     ]
    },
    {
     "name": "stderr",
     "output_type": "stream",
     "text": [
      "\r",
      "  0%|          | 0/150 [00:00<?, ?it/s]"
     ]
    },
    {
     "name": "stdout",
     "output_type": "stream",
     "text": [
      "Frames created at /tmp/tmpxok08rvr/in_frames\n",
      "Detecting and recognizing text from 150 frames: 2017-09-27 15:43:20.666095\n",
      "detect took 0.7431209087371826 time\n",
      "recognize took 0.016628742218017578 time\n"
     ]
    },
    {
     "name": "stderr",
     "output_type": "stream",
     "text": [
      "\r",
      "  1%|          | 1/150 [00:01<03:40,  1.48s/it]"
     ]
    },
    {
     "name": "stdout",
     "output_type": "stream",
     "text": [
      "visualize took 0.7164196968078613 time\n"
     ]
    },
    {
     "name": "stderr",
     "output_type": "stream",
     "text": [
      "\r",
      "  1%|▏         | 2/150 [00:02<03:05,  1.25s/it]"
     ]
    },
    {
     "name": "stdout",
     "output_type": "stream",
     "text": [
      "visualize took 0.7218985557556152 time\n"
     ]
    },
    {
     "name": "stderr",
     "output_type": "stream",
     "text": [
      "\r",
      "  2%|▏         | 3/150 [00:02<02:40,  1.09s/it]"
     ]
    },
    {
     "name": "stdout",
     "output_type": "stream",
     "text": [
      "visualize took 0.7304868698120117 time\n"
     ]
    },
    {
     "name": "stderr",
     "output_type": "stream",
     "text": [
      "\r",
      "  3%|▎         | 4/150 [00:03<02:24,  1.01it/s]"
     ]
    },
    {
     "name": "stdout",
     "output_type": "stream",
     "text": [
      "visualize took 0.7424216270446777 time\n",
      "detect took 0.7617955207824707 time\n",
      "recognize took 0.012017965316772461 time\n"
     ]
    },
    {
     "name": "stderr",
     "output_type": "stream",
     "text": [
      "\r",
      "  3%|▎         | 5/150 [00:05<02:46,  1.15s/it]"
     ]
    },
    {
     "name": "stdout",
     "output_type": "stream",
     "text": [
      "visualize took 0.7533445358276367 time\n"
     ]
    },
    {
     "name": "stderr",
     "output_type": "stream",
     "text": [
      "\r",
      "  4%|▍         | 6/150 [00:05<02:29,  1.04s/it]"
     ]
    },
    {
     "name": "stdout",
     "output_type": "stream",
     "text": [
      "visualize took 0.7669878005981445 time\n"
     ]
    },
    {
     "name": "stderr",
     "output_type": "stream",
     "text": [
      "\r",
      "  5%|▍         | 7/150 [00:06<02:16,  1.04it/s]"
     ]
    },
    {
     "name": "stdout",
     "output_type": "stream",
     "text": [
      "visualize took 0.7755918502807617 time\n"
     ]
    },
    {
     "name": "stderr",
     "output_type": "stream",
     "text": [
      "\r",
      "  5%|▌         | 8/150 [00:07<02:08,  1.10it/s]"
     ]
    },
    {
     "name": "stdout",
     "output_type": "stream",
     "text": [
      "visualize took 0.7857499122619629 time\n",
      "detect took 0.752985954284668 time\n",
      "recognize took 0.012123584747314453 time\n"
     ]
    },
    {
     "name": "stderr",
     "output_type": "stream",
     "text": [
      "\r",
      "  6%|▌         | 9/150 [00:09<02:35,  1.10s/it]"
     ]
    },
    {
     "name": "stdout",
     "output_type": "stream",
     "text": [
      "visualize took 0.7949895858764648 time\n"
     ]
    },
    {
     "name": "stderr",
     "output_type": "stream",
     "text": [
      "\r",
      "  7%|▋         | 10/150 [00:09<02:21,  1.01s/it]"
     ]
    },
    {
     "name": "stdout",
     "output_type": "stream",
     "text": [
      "visualize took 0.8054904937744141 time\n"
     ]
    },
    {
     "name": "stderr",
     "output_type": "stream",
     "text": [
      "\r",
      "  7%|▋         | 11/150 [00:10<02:12,  1.05it/s]"
     ]
    },
    {
     "name": "stdout",
     "output_type": "stream",
     "text": [
      "visualize took 0.8139755725860596 time\n"
     ]
    },
    {
     "name": "stderr",
     "output_type": "stream",
     "text": [
      "\r",
      "  8%|▊         | 12/150 [00:11<02:06,  1.09it/s]"
     ]
    },
    {
     "name": "stdout",
     "output_type": "stream",
     "text": [
      "visualize took 0.8239221572875977 time\n",
      "detect took 0.7418830394744873 time\n",
      "recognize took 0.011591672897338867 time\n"
     ]
    },
    {
     "name": "stderr",
     "output_type": "stream",
     "text": [
      "\r",
      "  9%|▊         | 13/150 [00:13<02:33,  1.12s/it]"
     ]
    },
    {
     "name": "stdout",
     "output_type": "stream",
     "text": [
      "visualize took 0.8346302509307861 time\n"
     ]
    },
    {
     "name": "stderr",
     "output_type": "stream",
     "text": [
      "\r",
      "  9%|▉         | 14/150 [00:13<02:20,  1.04s/it]"
     ]
    },
    {
     "name": "stdout",
     "output_type": "stream",
     "text": [
      "visualize took 0.8460061550140381 time\n"
     ]
    },
    {
     "name": "stderr",
     "output_type": "stream",
     "text": [
      "\r",
      " 10%|█         | 15/150 [00:14<02:12,  1.02it/s]"
     ]
    },
    {
     "name": "stdout",
     "output_type": "stream",
     "text": [
      "visualize took 0.8558347225189209 time\n"
     ]
    },
    {
     "name": "stderr",
     "output_type": "stream",
     "text": [
      "\r",
      " 11%|█         | 16/150 [00:15<02:07,  1.06it/s]"
     ]
    },
    {
     "name": "stdout",
     "output_type": "stream",
     "text": [
      "visualize took 0.8664007186889648 time\n",
      "detect took 0.7510945796966553 time\n",
      "recognize took 0.01218104362487793 time\n"
     ]
    },
    {
     "name": "stderr",
     "output_type": "stream",
     "text": [
      "\r",
      " 11%|█▏        | 17/150 [00:17<02:33,  1.16s/it]"
     ]
    },
    {
     "name": "stdout",
     "output_type": "stream",
     "text": [
      "visualize took 0.8782579898834229 time\n"
     ]
    },
    {
     "name": "stderr",
     "output_type": "stream",
     "text": [
      "\r",
      " 12%|█▏        | 18/150 [00:18<02:22,  1.08s/it]"
     ]
    },
    {
     "name": "stdout",
     "output_type": "stream",
     "text": [
      "visualize took 0.8872437477111816 time\n"
     ]
    },
    {
     "name": "stderr",
     "output_type": "stream",
     "text": [
      "\r",
      " 13%|█▎        | 19/150 [00:19<02:13,  1.02s/it]"
     ]
    },
    {
     "name": "stdout",
     "output_type": "stream",
     "text": [
      "visualize took 0.8975019454956055 time\n"
     ]
    },
    {
     "name": "stderr",
     "output_type": "stream",
     "text": [
      "\r",
      " 13%|█▎        | 20/150 [00:20<02:08,  1.01it/s]"
     ]
    },
    {
     "name": "stdout",
     "output_type": "stream",
     "text": [
      "visualize took 0.9099948406219482 time\n",
      "detect took 0.7473409175872803 time\n",
      "recognize took 0.012014627456665039 time\n"
     ]
    },
    {
     "name": "stderr",
     "output_type": "stream",
     "text": [
      "\r",
      " 14%|█▍        | 21/150 [00:21<02:34,  1.20s/it]"
     ]
    },
    {
     "name": "stdout",
     "output_type": "stream",
     "text": [
      "visualize took 0.9177861213684082 time\n"
     ]
    },
    {
     "name": "stderr",
     "output_type": "stream",
     "text": [
      "\r",
      " 15%|█▍        | 22/150 [00:22<02:22,  1.12s/it]"
     ]
    },
    {
     "name": "stdout",
     "output_type": "stream",
     "text": [
      "visualize took 0.9287774562835693 time\n"
     ]
    },
    {
     "name": "stderr",
     "output_type": "stream",
     "text": [
      "\r",
      " 15%|█▌        | 23/150 [00:23<02:14,  1.06s/it]"
     ]
    },
    {
     "name": "stdout",
     "output_type": "stream",
     "text": [
      "visualize took 0.9384417533874512 time\n"
     ]
    },
    {
     "name": "stderr",
     "output_type": "stream",
     "text": [
      "\r",
      " 16%|█▌        | 24/150 [00:24<02:10,  1.04s/it]"
     ]
    },
    {
     "name": "stdout",
     "output_type": "stream",
     "text": [
      "visualize took 0.9830179214477539 time\n",
      "detect took 0.7522506713867188 time\n",
      "recognize took 0.011750221252441406 time\n"
     ]
    },
    {
     "name": "stderr",
     "output_type": "stream",
     "text": [
      "\r",
      " 17%|█▋        | 25/150 [00:26<02:35,  1.25s/it]"
     ]
    },
    {
     "name": "stdout",
     "output_type": "stream",
     "text": [
      "visualize took 0.9669651985168457 time\n"
     ]
    },
    {
     "name": "stderr",
     "output_type": "stream",
     "text": [
      "\r",
      " 17%|█▋        | 26/150 [00:27<02:24,  1.17s/it]"
     ]
    },
    {
     "name": "stdout",
     "output_type": "stream",
     "text": [
      "visualize took 0.9728677272796631 time\n"
     ]
    },
    {
     "name": "stderr",
     "output_type": "stream",
     "text": [
      "\r",
      " 18%|█▊        | 27/150 [00:28<02:16,  1.11s/it]"
     ]
    },
    {
     "name": "stdout",
     "output_type": "stream",
     "text": [
      "visualize took 0.9840312004089355 time\n"
     ]
    },
    {
     "name": "stderr",
     "output_type": "stream",
     "text": [
      "\r",
      " 19%|█▊        | 28/150 [00:29<02:11,  1.07s/it]"
     ]
    },
    {
     "name": "stdout",
     "output_type": "stream",
     "text": [
      "visualize took 0.9888739585876465 time\n",
      "detect took 0.7484853267669678 time\n",
      "recognize took 0.01232457160949707 time\n"
     ]
    },
    {
     "name": "stderr",
     "output_type": "stream",
     "text": [
      "\r",
      " 19%|█▉        | 29/150 [00:31<02:35,  1.28s/it]"
     ]
    },
    {
     "name": "stdout",
     "output_type": "stream",
     "text": [
      "visualize took 1.0067505836486816 time\n"
     ]
    },
    {
     "name": "stderr",
     "output_type": "stream",
     "text": [
      "\r",
      " 20%|██        | 30/150 [00:32<02:24,  1.20s/it]"
     ]
    },
    {
     "name": "stdout",
     "output_type": "stream",
     "text": [
      "visualize took 1.008148431777954 time\n"
     ]
    },
    {
     "name": "stderr",
     "output_type": "stream",
     "text": [
      "\r",
      " 21%|██        | 31/150 [00:33<02:16,  1.15s/it]"
     ]
    },
    {
     "name": "stdout",
     "output_type": "stream",
     "text": [
      "visualize took 1.0230915546417236 time\n"
     ]
    },
    {
     "name": "stderr",
     "output_type": "stream",
     "text": [
      "\r",
      " 21%|██▏       | 32/150 [00:34<02:11,  1.12s/it]"
     ]
    },
    {
     "name": "stdout",
     "output_type": "stream",
     "text": [
      "visualize took 1.043494701385498 time\n",
      "detect took 0.7402231693267822 time\n",
      "recognize took 0.011929035186767578 time\n"
     ]
    },
    {
     "name": "stderr",
     "output_type": "stream",
     "text": [
      "\r",
      " 22%|██▏       | 33/150 [00:35<02:34,  1.32s/it]"
     ]
    },
    {
     "name": "stdout",
     "output_type": "stream",
     "text": [
      "visualize took 1.042299747467041 time\n"
     ]
    },
    {
     "name": "stderr",
     "output_type": "stream",
     "text": [
      "\r",
      " 23%|██▎       | 34/150 [00:36<02:23,  1.24s/it]"
     ]
    },
    {
     "name": "stdout",
     "output_type": "stream",
     "text": [
      "visualize took 1.0525431632995605 time\n"
     ]
    },
    {
     "name": "stderr",
     "output_type": "stream",
     "text": [
      "\r",
      " 23%|██▎       | 35/150 [00:38<02:16,  1.19s/it]"
     ]
    },
    {
     "name": "stdout",
     "output_type": "stream",
     "text": [
      "visualize took 1.062530755996704 time\n"
     ]
    },
    {
     "name": "stderr",
     "output_type": "stream",
     "text": [
      "\r",
      " 24%|██▍       | 36/150 [00:39<02:11,  1.15s/it]"
     ]
    },
    {
     "name": "stdout",
     "output_type": "stream",
     "text": [
      "visualize took 1.075479507446289 time\n",
      "detect took 0.7657461166381836 time\n",
      "recognize took 0.01224064826965332 time\n"
     ]
    },
    {
     "name": "stderr",
     "output_type": "stream",
     "text": [
      "\r",
      " 25%|██▍       | 37/150 [00:40<02:34,  1.37s/it]"
     ]
    },
    {
     "name": "stdout",
     "output_type": "stream",
     "text": [
      "visualize took 1.0832228660583496 time\n"
     ]
    },
    {
     "name": "stderr",
     "output_type": "stream",
     "text": [
      "\r",
      " 25%|██▌       | 38/150 [00:42<02:23,  1.28s/it]"
     ]
    },
    {
     "name": "stdout",
     "output_type": "stream",
     "text": [
      "visualize took 1.0910239219665527 time\n"
     ]
    },
    {
     "name": "stderr",
     "output_type": "stream",
     "text": [
      "\r",
      " 26%|██▌       | 39/150 [00:43<02:16,  1.23s/it]"
     ]
    },
    {
     "name": "stdout",
     "output_type": "stream",
     "text": [
      "visualize took 1.102076768875122 time\n"
     ]
    },
    {
     "name": "stderr",
     "output_type": "stream",
     "text": [
      "\r",
      " 27%|██▋       | 40/150 [00:44<02:11,  1.19s/it]"
     ]
    },
    {
     "name": "stdout",
     "output_type": "stream",
     "text": [
      "visualize took 1.113358497619629 time\n",
      "detect took 0.7472045421600342 time\n",
      "recognize took 0.011900663375854492 time\n"
     ]
    },
    {
     "name": "stderr",
     "output_type": "stream",
     "text": [
      "\r",
      " 27%|██▋       | 41/150 [00:46<02:32,  1.40s/it]"
     ]
    },
    {
     "name": "stdout",
     "output_type": "stream",
     "text": [
      "visualize took 1.1270627975463867 time\n"
     ]
    },
    {
     "name": "stderr",
     "output_type": "stream",
     "text": [
      "\r",
      " 28%|██▊       | 42/150 [00:47<02:22,  1.32s/it]"
     ]
    },
    {
     "name": "stdout",
     "output_type": "stream",
     "text": [
      "visualize took 1.13356351852417 time\n"
     ]
    },
    {
     "name": "stderr",
     "output_type": "stream",
     "text": [
      "\r",
      " 29%|██▊       | 43/150 [00:48<02:15,  1.27s/it]"
     ]
    },
    {
     "name": "stdout",
     "output_type": "stream",
     "text": [
      "visualize took 1.1438241004943848 time\n"
     ]
    },
    {
     "name": "stderr",
     "output_type": "stream",
     "text": [
      "\r",
      " 29%|██▉       | 44/150 [00:49<02:10,  1.23s/it]"
     ]
    },
    {
     "name": "stdout",
     "output_type": "stream",
     "text": [
      "visualize took 1.1533246040344238 time\n",
      "detect took 0.7609350681304932 time\n",
      "recognize took 0.012062788009643555 time\n"
     ]
    },
    {
     "name": "stderr",
     "output_type": "stream",
     "text": [
      "\r",
      " 30%|███       | 45/150 [00:51<02:31,  1.45s/it]"
     ]
    },
    {
     "name": "stdout",
     "output_type": "stream",
     "text": [
      "visualize took 1.1646504402160645 time\n"
     ]
    },
    {
     "name": "stderr",
     "output_type": "stream",
     "text": [
      "\r",
      " 31%|███       | 46/150 [00:52<02:21,  1.36s/it]"
     ]
    },
    {
     "name": "stdout",
     "output_type": "stream",
     "text": [
      "visualize took 1.1729967594146729 time\n"
     ]
    },
    {
     "name": "stderr",
     "output_type": "stream",
     "text": [
      "\r",
      " 31%|███▏      | 47/150 [00:53<02:15,  1.31s/it]"
     ]
    },
    {
     "name": "stdout",
     "output_type": "stream",
     "text": [
      "visualize took 1.192866563796997 time\n"
     ]
    },
    {
     "name": "stderr",
     "output_type": "stream",
     "text": [
      "\r",
      " 32%|███▏      | 48/150 [00:55<02:10,  1.28s/it]"
     ]
    },
    {
     "name": "stdout",
     "output_type": "stream",
     "text": [
      "visualize took 1.1980316638946533 time\n",
      "detect took 0.7374796867370605 time\n",
      "recognize took 0.012114524841308594 time\n"
     ]
    },
    {
     "name": "stderr",
     "output_type": "stream",
     "text": [
      "\r",
      " 33%|███▎      | 49/150 [00:57<02:29,  1.48s/it]"
     ]
    },
    {
     "name": "stdout",
     "output_type": "stream",
     "text": [
      "visualize took 1.2060086727142334 time\n"
     ]
    },
    {
     "name": "stderr",
     "output_type": "stream",
     "text": [
      "\r",
      " 33%|███▎      | 50/150 [00:58<02:20,  1.40s/it]"
     ]
    },
    {
     "name": "stdout",
     "output_type": "stream",
     "text": [
      "visualize took 1.2177488803863525 time\n"
     ]
    },
    {
     "name": "stderr",
     "output_type": "stream",
     "text": [
      "\r",
      " 34%|███▍      | 51/150 [00:59<02:13,  1.35s/it]"
     ]
    },
    {
     "name": "stdout",
     "output_type": "stream",
     "text": [
      "visualize took 1.2323875427246094 time\n"
     ]
    },
    {
     "name": "stderr",
     "output_type": "stream",
     "text": [
      "\r",
      " 35%|███▍      | 52/150 [01:00<02:09,  1.32s/it]"
     ]
    },
    {
     "name": "stdout",
     "output_type": "stream",
     "text": [
      "visualize took 1.2363395690917969 time\n",
      "detect took 0.8270754814147949 time\n",
      "recognize took 0.012204170227050781 time\n"
     ]
    },
    {
     "name": "stderr",
     "output_type": "stream",
     "text": [
      "\r",
      " 35%|███▌      | 53/150 [01:02<02:30,  1.55s/it]"
     ]
    },
    {
     "name": "stdout",
     "output_type": "stream",
     "text": [
      "visualize took 1.2490315437316895 time\n"
     ]
    },
    {
     "name": "stderr",
     "output_type": "stream",
     "text": [
      "\r",
      " 36%|███▌      | 54/150 [01:04<02:20,  1.46s/it]"
     ]
    },
    {
     "name": "stdout",
     "output_type": "stream",
     "text": [
      "visualize took 1.2589428424835205 time\n"
     ]
    },
    {
     "name": "stderr",
     "output_type": "stream",
     "text": [
      "\r",
      " 37%|███▋      | 55/150 [01:05<02:13,  1.41s/it]"
     ]
    },
    {
     "name": "stdout",
     "output_type": "stream",
     "text": [
      "visualize took 1.2830586433410645 time\n"
     ]
    },
    {
     "name": "stderr",
     "output_type": "stream",
     "text": [
      "\r",
      " 37%|███▋      | 56/150 [01:06<02:08,  1.37s/it]"
     ]
    },
    {
     "name": "stdout",
     "output_type": "stream",
     "text": [
      "visualize took 1.2789065837860107 time\n",
      "detect took 0.7520909309387207 time\n",
      "recognize took 0.012166976928710938 time\n"
     ]
    },
    {
     "name": "stderr",
     "output_type": "stream",
     "text": [
      "\r",
      " 38%|███▊      | 57/150 [01:08<02:26,  1.57s/it]"
     ]
    },
    {
     "name": "stdout",
     "output_type": "stream",
     "text": [
      "visualize took 1.2878711223602295 time\n"
     ]
    },
    {
     "name": "stderr",
     "output_type": "stream",
     "text": [
      "\r",
      " 39%|███▊      | 58/150 [01:09<02:17,  1.49s/it]"
     ]
    },
    {
     "name": "stdout",
     "output_type": "stream",
     "text": [
      "visualize took 1.2982714176177979 time\n"
     ]
    },
    {
     "name": "stderr",
     "output_type": "stream",
     "text": [
      "\r",
      " 39%|███▉      | 59/150 [01:11<02:10,  1.44s/it]"
     ]
    },
    {
     "name": "stdout",
     "output_type": "stream",
     "text": [
      "visualize took 1.3060338497161865 time\n"
     ]
    },
    {
     "name": "stderr",
     "output_type": "stream",
     "text": [
      "\r",
      " 40%|████      | 60/150 [01:12<02:06,  1.40s/it]"
     ]
    },
    {
     "name": "stdout",
     "output_type": "stream",
     "text": [
      "visualize took 1.3174912929534912 time\n",
      "detect took 0.7413914203643799 time\n",
      "recognize took 0.012134552001953125 time\n"
     ]
    },
    {
     "name": "stderr",
     "output_type": "stream",
     "text": [
      "\r",
      " 41%|████      | 61/150 [01:14<02:22,  1.61s/it]"
     ]
    },
    {
     "name": "stdout",
     "output_type": "stream",
     "text": [
      "visualize took 1.330387830734253 time\n"
     ]
    },
    {
     "name": "stderr",
     "output_type": "stream",
     "text": [
      "\r",
      " 41%|████▏     | 62/150 [01:16<02:14,  1.53s/it]"
     ]
    },
    {
     "name": "stdout",
     "output_type": "stream",
     "text": [
      "visualize took 1.3375599384307861 time\n"
     ]
    },
    {
     "name": "stderr",
     "output_type": "stream",
     "text": [
      "\r",
      " 42%|████▏     | 63/150 [01:17<02:08,  1.47s/it]"
     ]
    },
    {
     "name": "stdout",
     "output_type": "stream",
     "text": [
      "visualize took 1.3464794158935547 time\n"
     ]
    },
    {
     "name": "stderr",
     "output_type": "stream",
     "text": [
      "\r",
      " 43%|████▎     | 64/150 [01:18<02:03,  1.44s/it]"
     ]
    },
    {
     "name": "stdout",
     "output_type": "stream",
     "text": [
      "visualize took 1.3592371940612793 time\n",
      "detect took 0.7395997047424316 time\n",
      "recognize took 0.012139558792114258 time\n"
     ]
    },
    {
     "name": "stderr",
     "output_type": "stream",
     "text": [
      "\r",
      " 43%|████▎     | 65/150 [01:20<02:19,  1.65s/it]"
     ]
    },
    {
     "name": "stdout",
     "output_type": "stream",
     "text": [
      "visualize took 1.3745012283325195 time\n"
     ]
    },
    {
     "name": "stderr",
     "output_type": "stream",
     "text": [
      "\r",
      " 44%|████▍     | 66/150 [01:22<02:11,  1.57s/it]"
     ]
    },
    {
     "name": "stdout",
     "output_type": "stream",
     "text": [
      "visualize took 1.3785862922668457 time\n"
     ]
    },
    {
     "name": "stderr",
     "output_type": "stream",
     "text": [
      "\r",
      " 45%|████▍     | 67/150 [01:23<02:05,  1.51s/it]"
     ]
    },
    {
     "name": "stdout",
     "output_type": "stream",
     "text": [
      "visualize took 1.389876127243042 time\n"
     ]
    },
    {
     "name": "stderr",
     "output_type": "stream",
     "text": [
      "\r",
      " 45%|████▌     | 68/150 [01:25<02:01,  1.48s/it]"
     ]
    },
    {
     "name": "stdout",
     "output_type": "stream",
     "text": [
      "visualize took 1.4119014739990234 time\n",
      "detect took 0.7439243793487549 time\n",
      "recognize took 0.012048959732055664 time\n"
     ]
    },
    {
     "name": "stderr",
     "output_type": "stream",
     "text": [
      "\r",
      " 46%|████▌     | 69/150 [01:27<02:16,  1.69s/it]"
     ]
    },
    {
     "name": "stdout",
     "output_type": "stream",
     "text": [
      "visualize took 1.4106624126434326 time\n"
     ]
    },
    {
     "name": "stderr",
     "output_type": "stream",
     "text": [
      "\r",
      " 47%|████▋     | 70/150 [01:28<02:08,  1.61s/it]"
     ]
    },
    {
     "name": "stdout",
     "output_type": "stream",
     "text": [
      "visualize took 1.421809434890747 time\n"
     ]
    },
    {
     "name": "stderr",
     "output_type": "stream",
     "text": [
      "\r",
      " 47%|████▋     | 71/150 [01:30<02:02,  1.55s/it]"
     ]
    },
    {
     "name": "stdout",
     "output_type": "stream",
     "text": [
      "visualize took 1.4287660121917725 time\n"
     ]
    },
    {
     "name": "stderr",
     "output_type": "stream",
     "text": [
      "\r",
      " 48%|████▊     | 72/150 [01:31<01:58,  1.52s/it]"
     ]
    },
    {
     "name": "stdout",
     "output_type": "stream",
     "text": [
      "visualize took 1.4393961429595947 time\n",
      "detect took 0.7499222755432129 time\n",
      "recognize took 0.012187957763671875 time\n"
     ]
    },
    {
     "name": "stderr",
     "output_type": "stream",
     "text": [
      "\r",
      " 49%|████▊     | 73/150 [01:33<02:13,  1.73s/it]"
     ]
    },
    {
     "name": "stdout",
     "output_type": "stream",
     "text": [
      "visualize took 1.4574525356292725 time\n"
     ]
    },
    {
     "name": "stderr",
     "output_type": "stream",
     "text": [
      "\r",
      " 49%|████▉     | 74/150 [01:35<02:05,  1.65s/it]"
     ]
    },
    {
     "name": "stdout",
     "output_type": "stream",
     "text": [
      "visualize took 1.4654638767242432 time\n"
     ]
    },
    {
     "name": "stderr",
     "output_type": "stream",
     "text": [
      "\r",
      " 50%|█████     | 75/150 [01:36<01:59,  1.60s/it]"
     ]
    },
    {
     "name": "stdout",
     "output_type": "stream",
     "text": [
      "visualize took 1.4701404571533203 time\n"
     ]
    },
    {
     "name": "stderr",
     "output_type": "stream",
     "text": [
      "\r",
      " 51%|█████     | 76/150 [01:38<01:55,  1.56s/it]"
     ]
    },
    {
     "name": "stdout",
     "output_type": "stream",
     "text": [
      "visualize took 1.479984998703003 time\n",
      "detect took 0.7390673160552979 time\n",
      "recognize took 0.012118339538574219 time\n"
     ]
    },
    {
     "name": "stderr",
     "output_type": "stream",
     "text": [
      "\r",
      " 51%|█████▏    | 77/150 [01:40<02:08,  1.77s/it]"
     ]
    },
    {
     "name": "stdout",
     "output_type": "stream",
     "text": [
      "visualize took 1.4927527904510498 time\n"
     ]
    },
    {
     "name": "stderr",
     "output_type": "stream",
     "text": [
      "\r",
      " 52%|█████▏    | 78/150 [01:41<02:01,  1.69s/it]"
     ]
    },
    {
     "name": "stdout",
     "output_type": "stream",
     "text": [
      "visualize took 1.5024583339691162 time\n"
     ]
    },
    {
     "name": "stderr",
     "output_type": "stream",
     "text": [
      "\r",
      " 53%|█████▎    | 79/150 [01:43<01:56,  1.64s/it]"
     ]
    },
    {
     "name": "stdout",
     "output_type": "stream",
     "text": [
      "visualize took 1.5119893550872803 time\n"
     ]
    },
    {
     "name": "stderr",
     "output_type": "stream",
     "text": [
      "\r",
      " 53%|█████▎    | 80/150 [01:44<01:52,  1.61s/it]"
     ]
    },
    {
     "name": "stdout",
     "output_type": "stream",
     "text": [
      "visualize took 1.5341706275939941 time\n",
      "detect took 0.7443952560424805 time\n",
      "recognize took 0.012197732925415039 time\n"
     ]
    },
    {
     "name": "stderr",
     "output_type": "stream",
     "text": [
      "\r",
      " 54%|█████▍    | 81/150 [01:47<02:04,  1.81s/it]"
     ]
    },
    {
     "name": "stdout",
     "output_type": "stream",
     "text": [
      "visualize took 1.5338995456695557 time\n"
     ]
    },
    {
     "name": "stderr",
     "output_type": "stream",
     "text": [
      "\r",
      " 55%|█████▍    | 82/150 [01:48<01:57,  1.73s/it]"
     ]
    },
    {
     "name": "stdout",
     "output_type": "stream",
     "text": [
      "visualize took 1.542884111404419 time\n"
     ]
    },
    {
     "name": "stderr",
     "output_type": "stream",
     "text": [
      "\r",
      " 55%|█████▌    | 83/150 [01:50<01:52,  1.68s/it]"
     ]
    },
    {
     "name": "stdout",
     "output_type": "stream",
     "text": [
      "visualize took 1.5562717914581299 time\n"
     ]
    },
    {
     "name": "stderr",
     "output_type": "stream",
     "text": [
      "\r",
      " 56%|█████▌    | 84/150 [01:51<01:48,  1.65s/it]"
     ]
    },
    {
     "name": "stdout",
     "output_type": "stream",
     "text": [
      "visualize took 1.5675392150878906 time\n",
      "detect took 0.7501068115234375 time\n",
      "recognize took 0.012135744094848633 time\n"
     ]
    },
    {
     "name": "stderr",
     "output_type": "stream",
     "text": [
      "\r",
      " 57%|█████▋    | 85/150 [01:54<02:00,  1.85s/it]"
     ]
    },
    {
     "name": "stdout",
     "output_type": "stream",
     "text": [
      "visualize took 1.5726850032806396 time\n"
     ]
    },
    {
     "name": "stderr",
     "output_type": "stream",
     "text": [
      "\r",
      " 57%|█████▋    | 86/150 [01:55<01:53,  1.77s/it]"
     ]
    },
    {
     "name": "stdout",
     "output_type": "stream",
     "text": [
      "visualize took 1.5844619274139404 time\n"
     ]
    },
    {
     "name": "stderr",
     "output_type": "stream",
     "text": [
      "\r",
      " 58%|█████▊    | 87/150 [01:57<01:48,  1.72s/it]"
     ]
    },
    {
     "name": "stdout",
     "output_type": "stream",
     "text": [
      "visualize took 1.5918796062469482 time\n"
     ]
    },
    {
     "name": "stderr",
     "output_type": "stream",
     "text": [
      "\r",
      " 59%|█████▊    | 88/150 [01:59<01:44,  1.68s/it]"
     ]
    },
    {
     "name": "stdout",
     "output_type": "stream",
     "text": [
      "visualize took 1.6022553443908691 time\n",
      "detect took 0.7464935779571533 time\n",
      "recognize took 0.012210845947265625 time\n"
     ]
    },
    {
     "name": "stderr",
     "output_type": "stream",
     "text": [
      "\r",
      " 59%|█████▉    | 89/150 [02:01<01:55,  1.89s/it]"
     ]
    },
    {
     "name": "stdout",
     "output_type": "stream",
     "text": [
      "visualize took 1.616072177886963 time\n"
     ]
    },
    {
     "name": "stderr",
     "output_type": "stream",
     "text": [
      "\r",
      " 60%|██████    | 90/150 [02:03<01:48,  1.81s/it]"
     ]
    },
    {
     "name": "stdout",
     "output_type": "stream",
     "text": [
      "visualize took 1.6283278465270996 time\n"
     ]
    },
    {
     "name": "stderr",
     "output_type": "stream",
     "text": [
      "\r",
      " 61%|██████    | 91/150 [02:04<01:43,  1.76s/it]"
     ]
    },
    {
     "name": "stdout",
     "output_type": "stream",
     "text": [
      "visualize took 1.6370348930358887 time\n"
     ]
    },
    {
     "name": "stderr",
     "output_type": "stream",
     "text": [
      "\r",
      " 61%|██████▏   | 92/150 [02:06<01:40,  1.73s/it]"
     ]
    },
    {
     "name": "stdout",
     "output_type": "stream",
     "text": [
      "visualize took 1.6601521968841553 time\n",
      "detect took 0.7427551746368408 time\n",
      "recognize took 0.011922121047973633 time\n"
     ]
    },
    {
     "name": "stderr",
     "output_type": "stream",
     "text": [
      "\r",
      " 62%|██████▏   | 93/150 [02:08<01:50,  1.94s/it]"
     ]
    },
    {
     "name": "stdout",
     "output_type": "stream",
     "text": [
      "visualize took 1.6585075855255127 time\n"
     ]
    },
    {
     "name": "stderr",
     "output_type": "stream",
     "text": [
      "\r",
      " 63%|██████▎   | 94/150 [02:10<01:43,  1.86s/it]"
     ]
    },
    {
     "name": "stdout",
     "output_type": "stream",
     "text": [
      "visualize took 1.667253017425537 time\n"
     ]
    },
    {
     "name": "stderr",
     "output_type": "stream",
     "text": [
      "\r",
      " 63%|██████▎   | 95/150 [02:12<01:39,  1.80s/it]"
     ]
    },
    {
     "name": "stdout",
     "output_type": "stream",
     "text": [
      "visualize took 1.6751213073730469 time\n"
     ]
    },
    {
     "name": "stderr",
     "output_type": "stream",
     "text": [
      "\r",
      " 64%|██████▍   | 96/150 [02:13<01:35,  1.77s/it]"
     ]
    },
    {
     "name": "stdout",
     "output_type": "stream",
     "text": [
      "visualize took 1.6864356994628906 time\n",
      "detect took 0.7352635860443115 time\n",
      "recognize took 0.01235198974609375 time\n"
     ]
    },
    {
     "name": "stderr",
     "output_type": "stream",
     "text": [
      "\r",
      " 65%|██████▍   | 97/150 [02:16<01:44,  1.97s/it]"
     ]
    },
    {
     "name": "stdout",
     "output_type": "stream",
     "text": [
      "visualize took 1.6956803798675537 time\n"
     ]
    },
    {
     "name": "stderr",
     "output_type": "stream",
     "text": [
      "\r",
      " 65%|██████▌   | 98/150 [02:17<01:38,  1.89s/it]"
     ]
    },
    {
     "name": "stdout",
     "output_type": "stream",
     "text": [
      "visualize took 1.7077114582061768 time\n"
     ]
    },
    {
     "name": "stderr",
     "output_type": "stream",
     "text": [
      "\r",
      " 66%|██████▌   | 99/150 [02:19<01:33,  1.84s/it]"
     ]
    },
    {
     "name": "stdout",
     "output_type": "stream",
     "text": [
      "visualize took 1.7176482677459717 time\n"
     ]
    },
    {
     "name": "stderr",
     "output_type": "stream",
     "text": [
      "\r",
      " 67%|██████▋   | 100/150 [02:21<01:30,  1.81s/it]"
     ]
    },
    {
     "name": "stdout",
     "output_type": "stream",
     "text": [
      "visualize took 1.7253985404968262 time\n",
      "detect took 0.7584972381591797 time\n",
      "recognize took 0.011924505233764648 time\n"
     ]
    },
    {
     "name": "stderr",
     "output_type": "stream",
     "text": [
      "\r",
      " 67%|██████▋   | 101/150 [02:23<01:38,  2.02s/it]"
     ]
    },
    {
     "name": "stdout",
     "output_type": "stream",
     "text": [
      "visualize took 1.738576889038086 time\n"
     ]
    },
    {
     "name": "stderr",
     "output_type": "stream",
     "text": [
      "\r",
      " 68%|██████▊   | 102/150 [02:25<01:33,  1.94s/it]"
     ]
    },
    {
     "name": "stdout",
     "output_type": "stream",
     "text": [
      "visualize took 1.7609550952911377 time\n"
     ]
    },
    {
     "name": "stderr",
     "output_type": "stream",
     "text": [
      "\r",
      " 69%|██████▊   | 103/150 [02:27<01:28,  1.89s/it]"
     ]
    },
    {
     "name": "stdout",
     "output_type": "stream",
     "text": [
      "visualize took 1.761336326599121 time\n"
     ]
    },
    {
     "name": "stderr",
     "output_type": "stream",
     "text": [
      "\r",
      " 69%|██████▉   | 104/150 [02:29<01:25,  1.85s/it]"
     ]
    },
    {
     "name": "stdout",
     "output_type": "stream",
     "text": [
      "visualize took 1.7694218158721924 time\n",
      "detect took 0.7331924438476562 time\n",
      "recognize took 0.012449979782104492 time\n"
     ]
    },
    {
     "name": "stderr",
     "output_type": "stream",
     "text": [
      "\r",
      " 70%|███████   | 105/150 [02:31<01:32,  2.05s/it]"
     ]
    },
    {
     "name": "stdout",
     "output_type": "stream",
     "text": [
      "visualize took 1.776258945465088 time\n"
     ]
    },
    {
     "name": "stderr",
     "output_type": "stream",
     "text": [
      "\r",
      " 71%|███████   | 106/150 [02:33<01:26,  1.98s/it]"
     ]
    },
    {
     "name": "stdout",
     "output_type": "stream",
     "text": [
      "visualize took 1.7922139167785645 time\n"
     ]
    },
    {
     "name": "stderr",
     "output_type": "stream",
     "text": [
      "\r",
      " 71%|███████▏  | 107/150 [02:35<01:22,  1.92s/it]"
     ]
    },
    {
     "name": "stdout",
     "output_type": "stream",
     "text": [
      "visualize took 1.8043229579925537 time\n"
     ]
    },
    {
     "name": "stderr",
     "output_type": "stream",
     "text": [
      "\r",
      " 72%|███████▏  | 108/150 [02:37<01:19,  1.89s/it]"
     ]
    },
    {
     "name": "stdout",
     "output_type": "stream",
     "text": [
      "visualize took 1.8094966411590576 time\n",
      "detect took 0.7357678413391113 time\n",
      "recognize took 0.01190495491027832 time\n"
     ]
    },
    {
     "name": "stderr",
     "output_type": "stream",
     "text": [
      "\r",
      " 73%|███████▎  | 109/150 [02:39<01:25,  2.10s/it]"
     ]
    },
    {
     "name": "stdout",
     "output_type": "stream",
     "text": [
      "visualize took 1.824432611465454 time\n"
     ]
    },
    {
     "name": "stderr",
     "output_type": "stream",
     "text": [
      "\r",
      " 73%|███████▎  | 110/150 [02:41<01:20,  2.01s/it]"
     ]
    },
    {
     "name": "stdout",
     "output_type": "stream",
     "text": [
      "visualize took 1.8270854949951172 time\n"
     ]
    },
    {
     "name": "stderr",
     "output_type": "stream",
     "text": [
      "\r",
      " 74%|███████▍  | 111/150 [02:43<01:16,  1.96s/it]"
     ]
    },
    {
     "name": "stdout",
     "output_type": "stream",
     "text": [
      "visualize took 1.842733383178711 time\n"
     ]
    },
    {
     "name": "stderr",
     "output_type": "stream",
     "text": [
      "\r",
      " 75%|███████▍  | 112/150 [02:45<01:13,  1.93s/it]"
     ]
    },
    {
     "name": "stdout",
     "output_type": "stream",
     "text": [
      "visualize took 1.860342264175415 time\n",
      "detect took 0.74652099609375 time\n",
      "recognize took 0.011871576309204102 time\n"
     ]
    },
    {
     "name": "stderr",
     "output_type": "stream",
     "text": [
      "\r",
      " 75%|███████▌  | 113/150 [02:47<01:19,  2.14s/it]"
     ]
    },
    {
     "name": "stdout",
     "output_type": "stream",
     "text": [
      "visualize took 1.8656346797943115 time\n"
     ]
    },
    {
     "name": "stderr",
     "output_type": "stream",
     "text": [
      "\r",
      " 76%|███████▌  | 114/150 [02:49<01:14,  2.06s/it]"
     ]
    },
    {
     "name": "stdout",
     "output_type": "stream",
     "text": [
      "visualize took 1.872333288192749 time\n"
     ]
    },
    {
     "name": "stderr",
     "output_type": "stream",
     "text": [
      "\r",
      " 77%|███████▋  | 115/150 [02:51<01:10,  2.01s/it]"
     ]
    },
    {
     "name": "stdout",
     "output_type": "stream",
     "text": [
      "visualize took 1.8835136890411377 time\n"
     ]
    },
    {
     "name": "stderr",
     "output_type": "stream",
     "text": [
      "\r",
      " 77%|███████▋  | 116/150 [02:53<01:07,  1.98s/it]"
     ]
    },
    {
     "name": "stdout",
     "output_type": "stream",
     "text": [
      "visualize took 1.8999910354614258 time\n",
      "detect took 0.7404201030731201 time\n",
      "recognize took 0.011931180953979492 time\n"
     ]
    },
    {
     "name": "stderr",
     "output_type": "stream",
     "text": [
      "\r",
      " 78%|███████▊  | 117/150 [02:56<01:11,  2.18s/it]"
     ]
    },
    {
     "name": "stdout",
     "output_type": "stream",
     "text": [
      "visualize took 1.9012949466705322 time\n"
     ]
    },
    {
     "name": "stderr",
     "output_type": "stream",
     "text": [
      "\r",
      " 79%|███████▊  | 118/150 [02:58<01:07,  2.10s/it]"
     ]
    },
    {
     "name": "stdout",
     "output_type": "stream",
     "text": [
      "visualize took 1.9099657535552979 time\n"
     ]
    },
    {
     "name": "stderr",
     "output_type": "stream",
     "text": [
      "\r",
      " 79%|███████▉  | 119/150 [03:00<01:03,  2.05s/it]"
     ]
    },
    {
     "name": "stdout",
     "output_type": "stream",
     "text": [
      "visualize took 1.9327633380889893 time\n"
     ]
    },
    {
     "name": "stderr",
     "output_type": "stream",
     "text": [
      "\r",
      " 80%|████████  | 120/150 [03:01<01:00,  2.02s/it]"
     ]
    },
    {
     "name": "stdout",
     "output_type": "stream",
     "text": [
      "visualize took 1.935288429260254 time\n",
      "detect took 0.7457115650177002 time\n",
      "recognize took 0.011994600296020508 time\n"
     ]
    },
    {
     "name": "stderr",
     "output_type": "stream",
     "text": [
      "\r",
      " 81%|████████  | 121/150 [03:04<01:04,  2.22s/it]"
     ]
    },
    {
     "name": "stdout",
     "output_type": "stream",
     "text": [
      "visualize took 1.9443154335021973 time\n"
     ]
    },
    {
     "name": "stderr",
     "output_type": "stream",
     "text": [
      "\r",
      " 81%|████████▏ | 122/150 [03:06<01:00,  2.14s/it]"
     ]
    },
    {
     "name": "stdout",
     "output_type": "stream",
     "text": [
      "visualize took 1.9608120918273926 time\n"
     ]
    },
    {
     "name": "stderr",
     "output_type": "stream",
     "text": [
      "\r",
      " 82%|████████▏ | 123/150 [03:08<00:56,  2.09s/it]"
     ]
    },
    {
     "name": "stdout",
     "output_type": "stream",
     "text": [
      "visualize took 1.9637835025787354 time\n"
     ]
    },
    {
     "name": "stderr",
     "output_type": "stream",
     "text": [
      "\r",
      " 83%|████████▎ | 124/150 [03:10<00:53,  2.05s/it]"
     ]
    },
    {
     "name": "stdout",
     "output_type": "stream",
     "text": [
      "visualize took 1.969728708267212 time\n",
      "detect took 0.7427513599395752 time\n",
      "recognize took 0.011959075927734375 time\n"
     ]
    },
    {
     "name": "stderr",
     "output_type": "stream",
     "text": [
      "\r",
      " 83%|████████▎ | 125/150 [03:13<00:56,  2.26s/it]"
     ]
    },
    {
     "name": "stdout",
     "output_type": "stream",
     "text": [
      "visualize took 1.9817838668823242 time\n"
     ]
    },
    {
     "name": "stderr",
     "output_type": "stream",
     "text": [
      "\r",
      " 84%|████████▍ | 126/150 [03:15<00:52,  2.18s/it]"
     ]
    },
    {
     "name": "stdout",
     "output_type": "stream",
     "text": [
      "visualize took 1.9931001663208008 time\n"
     ]
    },
    {
     "name": "stderr",
     "output_type": "stream",
     "text": [
      "\r",
      " 85%|████████▍ | 127/150 [03:17<00:48,  2.13s/it]"
     ]
    },
    {
     "name": "stdout",
     "output_type": "stream",
     "text": [
      "visualize took 2.0071351528167725 time\n"
     ]
    },
    {
     "name": "stderr",
     "output_type": "stream",
     "text": [
      "\r",
      " 85%|████████▌ | 128/150 [03:19<00:46,  2.09s/it]"
     ]
    },
    {
     "name": "stdout",
     "output_type": "stream",
     "text": [
      "visualize took 2.0109784603118896 time\n",
      "detect took 0.7494347095489502 time\n",
      "recognize took 0.012422800064086914 time\n"
     ]
    },
    {
     "name": "stderr",
     "output_type": "stream",
     "text": [
      "\r",
      " 86%|████████▌ | 129/150 [03:22<00:48,  2.30s/it]"
     ]
    },
    {
     "name": "stdout",
     "output_type": "stream",
     "text": [
      "visualize took 2.0253777503967285 time\n"
     ]
    },
    {
     "name": "stderr",
     "output_type": "stream",
     "text": [
      "\r",
      " 87%|████████▋ | 130/150 [03:24<00:44,  2.22s/it]"
     ]
    },
    {
     "name": "stdout",
     "output_type": "stream",
     "text": [
      "visualize took 2.0298068523406982 time\n"
     ]
    },
    {
     "name": "stderr",
     "output_type": "stream",
     "text": [
      "\r",
      " 87%|████████▋ | 131/150 [03:26<00:41,  2.17s/it]"
     ]
    },
    {
     "name": "stdout",
     "output_type": "stream",
     "text": [
      "visualize took 2.052570104598999 time\n"
     ]
    },
    {
     "name": "stderr",
     "output_type": "stream",
     "text": [
      "\r",
      " 88%|████████▊ | 132/150 [03:28<00:38,  2.14s/it]"
     ]
    },
    {
     "name": "stdout",
     "output_type": "stream",
     "text": [
      "visualize took 2.055706024169922 time\n",
      "detect took 0.7348108291625977 time\n",
      "recognize took 0.012132406234741211 time\n"
     ]
    },
    {
     "name": "stderr",
     "output_type": "stream",
     "text": [
      "\r",
      " 89%|████████▊ | 133/150 [03:31<00:39,  2.34s/it]"
     ]
    },
    {
     "name": "stdout",
     "output_type": "stream",
     "text": [
      "visualize took 2.0633838176727295 time\n"
     ]
    },
    {
     "name": "stderr",
     "output_type": "stream",
     "text": [
      "\r",
      " 89%|████████▉ | 134/150 [03:33<00:36,  2.26s/it]"
     ]
    },
    {
     "name": "stdout",
     "output_type": "stream",
     "text": [
      "visualize took 2.0746231079101562 time\n"
     ]
    },
    {
     "name": "stderr",
     "output_type": "stream",
     "text": [
      "\r",
      " 90%|█████████ | 135/150 [03:35<00:33,  2.21s/it]"
     ]
    },
    {
     "name": "stdout",
     "output_type": "stream",
     "text": [
      "visualize took 2.0864787101745605 time\n"
     ]
    },
    {
     "name": "stderr",
     "output_type": "stream",
     "text": [
      "\r",
      " 91%|█████████ | 136/150 [03:37<00:30,  2.17s/it]"
     ]
    },
    {
     "name": "stdout",
     "output_type": "stream",
     "text": [
      "visualize took 2.095663070678711 time\n",
      "detect took 0.7432091236114502 time\n",
      "recognize took 0.012052297592163086 time\n"
     ]
    },
    {
     "name": "stderr",
     "output_type": "stream",
     "text": [
      "\r",
      " 91%|█████████▏| 137/150 [03:40<00:30,  2.38s/it]"
     ]
    },
    {
     "name": "stdout",
     "output_type": "stream",
     "text": [
      "visualize took 2.109023332595825 time\n"
     ]
    },
    {
     "name": "stderr",
     "output_type": "stream",
     "text": [
      "\r",
      " 92%|█████████▏| 138/150 [03:42<00:27,  2.30s/it]"
     ]
    },
    {
     "name": "stdout",
     "output_type": "stream",
     "text": [
      "visualize took 2.1167454719543457 time\n"
     ]
    },
    {
     "name": "stderr",
     "output_type": "stream",
     "text": [
      "\r",
      " 93%|█████████▎| 139/150 [03:44<00:24,  2.25s/it]"
     ]
    },
    {
     "name": "stdout",
     "output_type": "stream",
     "text": [
      "visualize took 2.1218693256378174 time\n"
     ]
    },
    {
     "name": "stderr",
     "output_type": "stream",
     "text": [
      "\r",
      " 93%|█████████▎| 140/150 [03:46<00:22,  2.22s/it]"
     ]
    },
    {
     "name": "stdout",
     "output_type": "stream",
     "text": [
      "visualize took 2.1511082649230957 time\n",
      "detect took 0.7445070743560791 time\n",
      "recognize took 0.02364373207092285 time\n"
     ]
    },
    {
     "name": "stderr",
     "output_type": "stream",
     "text": [
      "\r",
      " 94%|█████████▍| 141/150 [03:49<00:21,  2.43s/it]"
     ]
    },
    {
     "name": "stdout",
     "output_type": "stream",
     "text": [
      "visualize took 2.149348735809326 time\n"
     ]
    },
    {
     "name": "stderr",
     "output_type": "stream",
     "text": [
      "\r",
      " 95%|█████████▍| 142/150 [03:51<00:18,  2.35s/it]"
     ]
    },
    {
     "name": "stdout",
     "output_type": "stream",
     "text": [
      "visualize took 2.1547963619232178 time\n"
     ]
    },
    {
     "name": "stderr",
     "output_type": "stream",
     "text": [
      "\r",
      " 95%|█████████▌| 143/150 [03:53<00:16,  2.30s/it]"
     ]
    },
    {
     "name": "stdout",
     "output_type": "stream",
     "text": [
      "visualize took 2.1741318702697754 time\n"
     ]
    },
    {
     "name": "stderr",
     "output_type": "stream",
     "text": [
      "\r",
      " 96%|█████████▌| 144/150 [03:55<00:13,  2.26s/it]"
     ]
    },
    {
     "name": "stdout",
     "output_type": "stream",
     "text": [
      "visualize took 2.1810009479522705 time\n",
      "detect took 0.7380599975585938 time\n",
      "recognize took 0.012445688247680664 time\n"
     ]
    },
    {
     "name": "stderr",
     "output_type": "stream",
     "text": [
      "\r",
      " 97%|█████████▋| 145/150 [03:58<00:12,  2.47s/it]"
     ]
    },
    {
     "name": "stdout",
     "output_type": "stream",
     "text": [
      "visualize took 2.1974575519561768 time\n"
     ]
    },
    {
     "name": "stderr",
     "output_type": "stream",
     "text": [
      "\r",
      " 97%|█████████▋| 146/150 [04:01<00:09,  2.39s/it]"
     ]
    },
    {
     "name": "stdout",
     "output_type": "stream",
     "text": [
      "visualize took 2.1970055103302 time\n"
     ]
    },
    {
     "name": "stderr",
     "output_type": "stream",
     "text": [
      "\r",
      " 98%|█████████▊| 147/150 [04:03<00:06,  2.33s/it]"
     ]
    },
    {
     "name": "stdout",
     "output_type": "stream",
     "text": [
      "visualize took 2.2063145637512207 time\n"
     ]
    },
    {
     "name": "stderr",
     "output_type": "stream",
     "text": [
      "\r",
      " 99%|█████████▊| 148/150 [04:05<00:04,  2.31s/it]"
     ]
    },
    {
     "name": "stdout",
     "output_type": "stream",
     "text": [
      "visualize took 2.2398645877838135 time\n",
      "detect took 0.7431368827819824 time\n",
      "recognize took 0.011889219284057617 time\n"
     ]
    },
    {
     "name": "stderr",
     "output_type": "stream",
     "text": [
      "\r",
      " 99%|█████████▉| 149/150 [04:08<00:02,  2.51s/it]"
     ]
    },
    {
     "name": "stdout",
     "output_type": "stream",
     "text": [
      "visualize took 2.245173692703247 time\n"
     ]
    },
    {
     "name": "stderr",
     "output_type": "stream",
     "text": [
      "\r",
      "100%|██████████| 150/150 [04:10<00:00,  2.43s/it]"
     ]
    },
    {
     "name": "stdout",
     "output_type": "stream",
     "text": [
      "visualize took 2.2394068241119385 time\n"
     ]
    },
    {
     "name": "stderr",
     "output_type": "stream",
     "text": [
      "\n"
     ]
    },
    {
     "data": {
      "text/html": [
       "<video alt=\"test\" controls>\n",
       "                <source src=\"data:video/mp4;base64,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\" type=\"video/mp4\" />\n",
       "             </video>"
      ],
      "text/plain": [
       "<IPython.core.display.HTML object>"
      ]
     },
     "execution_count": 80,
     "metadata": {},
     "output_type": "execute_result"
    }
   ],
   "source": [
    "import uuid\n",
    "path = 'static/{}.mp4'.format(str(uuid.uuid4()))\n",
    "videotext.save_video(url, path, from_time=\"00:28\", duration=5)\n",
    "utilities.play_video(path)"
   ]
  },
  {
   "cell_type": "code",
   "execution_count": null,
   "metadata": {
    "collapsed": true
   },
   "outputs": [],
   "source": []
  }
 ],
 "metadata": {
  "kernelspec": {
   "display_name": "Python 3",
   "language": "python",
   "name": "python3"
  },
  "language_info": {
   "codemirror_mode": {
    "name": "ipython",
    "version": 3
   },
   "file_extension": ".py",
   "mimetype": "text/x-python",
   "name": "python",
   "nbconvert_exporter": "python",
   "pygments_lexer": "ipython3",
   "version": "3.6.0"
  },
  "toc": {
   "colors": {
    "hover_highlight": "#DAA520",
    "running_highlight": "#FF0000",
    "selected_highlight": "#FFD700"
   },
   "moveMenuLeft": true,
   "nav_menu": {
    "height": "13px",
    "width": "253px"
   },
   "navigate_menu": true,
   "number_sections": true,
   "sideBar": true,
   "threshold": 4,
   "toc_cell": false,
   "toc_section_display": "block",
   "toc_window_display": false
  }
 },
 "nbformat": 4,
 "nbformat_minor": 2
}
