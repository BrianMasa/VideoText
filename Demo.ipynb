{
 "cells": [
  {
   "cell_type": "markdown",
   "metadata": {},
   "source": [
    "# Imports and intialization"
   ]
  },
  {
   "cell_type": "code",
   "execution_count": 85,
   "metadata": {
    "collapsed": false
   },
   "outputs": [
    {
     "data": {
      "text/plain": [
       "<module 'videotext' from '/home/sravya/git/muse/videotext.py'>"
      ]
     },
     "execution_count": 85,
     "metadata": {},
     "output_type": "execute_result"
    }
   ],
   "source": [
    "import videotext\n",
    "import utilities\n",
    "import importlib\n",
    "importlib.reload(videotext)"
   ]
  },
  {
   "cell_type": "code",
   "execution_count": 82,
   "metadata": {
    "collapsed": true
   },
   "outputs": [],
   "source": [
    "url = 'https://www.youtube.com/watch?v=FKeD2on-f3c'"
   ]
  },
  {
   "cell_type": "code",
   "execution_count": 72,
   "metadata": {
    "collapsed": false
   },
   "outputs": [],
   "source": [
    "# Other videos tried out\n",
    "#VIDEO_URL = 'https://www.youtube.com/watch?v=Q4KZaI_jtKs' #Lyric video\n",
    "#VIDEO_URL='https://www.youtube.com/watch?v=oyxhHkOel2I' #tennis\n",
    "#url='https://www.youtube.com/watch?v=FKeD2on-f3c' #tennis2\n",
    "#VIDEO_URL='https://www.youtube.com/watch?v=aNN9nL2vppM' #Heinz\n",
    "#VIDEO_URL='https://www.youtube.com/watch?v=WvBwShyeXZw' #Garnier\n",
    "#VIDEO_URL='https://www.youtube.com/watch?v=aQn5wiDyUHo'#Google home\n",
    "#VIDEO_URL='https://www.youtube.com/watch?v=rD4VN9Yjato' #Lecture\n",
    "#VIDEO_URL='https://www.youtube.com/watch?v=z3ZNX_2gPD8' #Vachinde"
   ]
  },
  {
   "cell_type": "markdown",
   "metadata": {},
   "source": [
    "# Demo: Youtube url to JSON"
   ]
  },
  {
   "cell_type": "code",
   "execution_count": 73,
   "metadata": {
    "collapsed": false
   },
   "outputs": [
    {
     "name": "stderr",
     "output_type": "stream",
     "text": [
      "WARNING: Assuming --restrict-filenames since file system encoding cannot encode all characters. Set the LC_ALL environment variable to fix this.\n"
     ]
    },
    {
     "name": "stdout",
     "output_type": "stream",
     "text": [
      "[youtube] FKeD2on-f3c: Downloading webpage\n",
      "[youtube] FKeD2on-f3c: Downloading video info webpage\n",
      "[youtube] FKeD2on-f3c: Extracting video information\n",
      "[youtube] FKeD2on-f3c: Downloading MPD manifest\n",
      "[download] Destination: /tmp/tmpx3q7nl6t/input.mp4\n",
      "[download] 100% of 128.26MiB in 00:0873MiB/s ETA 00:008\n",
      "Video downloaded to /tmp/tmpx3q7nl6t/input.mp4\n",
      "Splitted video starting from 00:05, duration: 2 seconds\n"
     ]
    },
    {
     "name": "stderr",
     "output_type": "stream",
     "text": [
      "\r",
      "  0%|          | 0/60 [00:00<?, ?it/s]"
     ]
    },
    {
     "name": "stdout",
     "output_type": "stream",
     "text": [
      "Frames created at /tmp/tmpx3q7nl6t/in_frames\n",
      "Detecting and recognizing text from 60 frames for every 1th frame: 2017-09-27 15:39:58.094596\n"
     ]
    },
    {
     "name": "stderr",
     "output_type": "stream",
     "text": [
      "\r",
      "  2%|▏         | 1/60 [00:00<00:46,  1.26it/s]"
     ]
    },
    {
     "name": "stdout",
     "output_type": "stream",
     "text": [
      "detect took 0.7667198181152344 time\n",
      "recognize took 0.027958154678344727 time\n"
     ]
    },
    {
     "name": "stderr",
     "output_type": "stream",
     "text": [
      "\r",
      "  3%|▎         | 2/60 [00:01<00:45,  1.27it/s]"
     ]
    },
    {
     "name": "stdout",
     "output_type": "stream",
     "text": [
      "detect took 0.7379393577575684 time\n",
      "recognize took 0.025326967239379883 time\n"
     ]
    },
    {
     "name": "stderr",
     "output_type": "stream",
     "text": [
      "\r",
      "  5%|▌         | 3/60 [00:02<00:44,  1.28it/s]"
     ]
    },
    {
     "name": "stdout",
     "output_type": "stream",
     "text": [
      "detect took 0.7485353946685791 time\n",
      "recognize took 0.02534961700439453 time\n"
     ]
    },
    {
     "name": "stderr",
     "output_type": "stream",
     "text": [
      "\r",
      "  7%|▋         | 4/60 [00:03<00:43,  1.29it/s]"
     ]
    },
    {
     "name": "stdout",
     "output_type": "stream",
     "text": [
      "detect took 0.7385280132293701 time\n",
      "recognize took 0.025732040405273438 time\n"
     ]
    },
    {
     "name": "stderr",
     "output_type": "stream",
     "text": [
      "\r",
      "  8%|▊         | 5/60 [00:03<00:42,  1.29it/s]"
     ]
    },
    {
     "name": "stdout",
     "output_type": "stream",
     "text": [
      "detect took 0.7493486404418945 time\n",
      "recognize took 0.02529740333557129 time\n"
     ]
    },
    {
     "name": "stderr",
     "output_type": "stream",
     "text": [
      "\r",
      " 10%|█         | 6/60 [00:04<00:41,  1.29it/s]"
     ]
    },
    {
     "name": "stdout",
     "output_type": "stream",
     "text": [
      "detect took 0.7376852035522461 time\n",
      "recognize took 0.025205135345458984 time\n"
     ]
    },
    {
     "name": "stderr",
     "output_type": "stream",
     "text": [
      "\r",
      " 12%|█▏        | 7/60 [00:05<00:40,  1.30it/s]"
     ]
    },
    {
     "name": "stdout",
     "output_type": "stream",
     "text": [
      "detect took 0.7365648746490479 time\n",
      "recognize took 0.025215864181518555 time\n"
     ]
    },
    {
     "name": "stderr",
     "output_type": "stream",
     "text": [
      "\r",
      " 13%|█▎        | 8/60 [00:06<00:40,  1.29it/s]"
     ]
    },
    {
     "name": "stdout",
     "output_type": "stream",
     "text": [
      "detect took 0.7686562538146973 time\n",
      "recognize took 0.025667667388916016 time\n"
     ]
    },
    {
     "name": "stderr",
     "output_type": "stream",
     "text": [
      "\r",
      " 15%|█▌        | 9/60 [00:06<00:39,  1.29it/s]"
     ]
    },
    {
     "name": "stdout",
     "output_type": "stream",
     "text": [
      "detect took 0.7407646179199219 time\n",
      "recognize took 0.0250699520111084 time\n"
     ]
    },
    {
     "name": "stderr",
     "output_type": "stream",
     "text": [
      "\r",
      " 17%|█▋        | 10/60 [00:07<00:38,  1.29it/s]"
     ]
    },
    {
     "name": "stdout",
     "output_type": "stream",
     "text": [
      "detect took 0.746800422668457 time\n",
      "recognize took 0.02533268928527832 time\n"
     ]
    },
    {
     "name": "stderr",
     "output_type": "stream",
     "text": [
      "\r",
      " 18%|█▊        | 11/60 [00:08<00:37,  1.29it/s]"
     ]
    },
    {
     "name": "stdout",
     "output_type": "stream",
     "text": [
      "detect took 0.7478818893432617 time\n",
      "recognize took 0.025022029876708984 time\n"
     ]
    },
    {
     "name": "stderr",
     "output_type": "stream",
     "text": [
      "\r",
      " 20%|██        | 12/60 [00:09<00:37,  1.30it/s]"
     ]
    },
    {
     "name": "stdout",
     "output_type": "stream",
     "text": [
      "detect took 0.7383506298065186 time\n",
      "recognize took 0.025839805603027344 time\n"
     ]
    },
    {
     "name": "stderr",
     "output_type": "stream",
     "text": [
      "\r",
      " 22%|██▏       | 13/60 [00:10<00:36,  1.30it/s]"
     ]
    },
    {
     "name": "stdout",
     "output_type": "stream",
     "text": [
      "detect took 0.7379145622253418 time\n",
      "recognize took 0.02593064308166504 time\n"
     ]
    },
    {
     "name": "stderr",
     "output_type": "stream",
     "text": [
      "\r",
      " 23%|██▎       | 14/60 [00:10<00:35,  1.30it/s]"
     ]
    },
    {
     "name": "stdout",
     "output_type": "stream",
     "text": [
      "detect took 0.7378478050231934 time\n",
      "recognize took 0.026613950729370117 time\n"
     ]
    },
    {
     "name": "stderr",
     "output_type": "stream",
     "text": [
      "\r",
      " 25%|██▌       | 15/60 [00:11<00:34,  1.30it/s]"
     ]
    },
    {
     "name": "stdout",
     "output_type": "stream",
     "text": [
      "detect took 0.7391214370727539 time\n",
      "recognize took 0.02660393714904785 time\n"
     ]
    },
    {
     "name": "stderr",
     "output_type": "stream",
     "text": [
      "\r",
      " 27%|██▋       | 16/60 [00:12<00:33,  1.30it/s]"
     ]
    },
    {
     "name": "stdout",
     "output_type": "stream",
     "text": [
      "detect took 0.7398312091827393 time\n",
      "recognize took 0.0264432430267334 time\n"
     ]
    },
    {
     "name": "stderr",
     "output_type": "stream",
     "text": [
      "\r",
      " 28%|██▊       | 17/60 [00:13<00:32,  1.30it/s]"
     ]
    },
    {
     "name": "stdout",
     "output_type": "stream",
     "text": [
      "detect took 0.7382044792175293 time\n",
      "recognize took 0.026463985443115234 time\n"
     ]
    },
    {
     "name": "stderr",
     "output_type": "stream",
     "text": [
      "\r",
      " 30%|███       | 18/60 [00:13<00:32,  1.30it/s]"
     ]
    },
    {
     "name": "stdout",
     "output_type": "stream",
     "text": [
      "detect took 0.7512123584747314 time\n",
      "recognize took 0.02684497833251953 time\n"
     ]
    },
    {
     "name": "stderr",
     "output_type": "stream",
     "text": [
      "\r",
      " 32%|███▏      | 19/60 [00:14<00:31,  1.30it/s]"
     ]
    },
    {
     "name": "stdout",
     "output_type": "stream",
     "text": [
      "detect took 0.7472579479217529 time\n",
      "recognize took 0.026601076126098633 time\n"
     ]
    },
    {
     "name": "stderr",
     "output_type": "stream",
     "text": [
      "\r",
      " 33%|███▎      | 20/60 [00:15<00:30,  1.30it/s]"
     ]
    },
    {
     "name": "stdout",
     "output_type": "stream",
     "text": [
      "detect took 0.7383184432983398 time\n",
      "recognize took 0.026589632034301758 time\n"
     ]
    },
    {
     "name": "stderr",
     "output_type": "stream",
     "text": [
      "\r",
      " 35%|███▌      | 21/60 [00:16<00:30,  1.30it/s]"
     ]
    },
    {
     "name": "stdout",
     "output_type": "stream",
     "text": [
      "detect took 0.7414000034332275 time\n",
      "recognize took 0.026737213134765625 time\n"
     ]
    },
    {
     "name": "stderr",
     "output_type": "stream",
     "text": [
      "\r",
      " 37%|███▋      | 22/60 [00:16<00:29,  1.29it/s]"
     ]
    },
    {
     "name": "stdout",
     "output_type": "stream",
     "text": [
      "detect took 0.7511522769927979 time\n",
      "recognize took 0.026664257049560547 time\n"
     ]
    },
    {
     "name": "stderr",
     "output_type": "stream",
     "text": [
      "\r",
      " 38%|███▊      | 23/60 [00:17<00:28,  1.30it/s]"
     ]
    },
    {
     "name": "stdout",
     "output_type": "stream",
     "text": [
      "detect took 0.7402174472808838 time\n",
      "recognize took 0.026974201202392578 time\n"
     ]
    },
    {
     "name": "stderr",
     "output_type": "stream",
     "text": [
      "\r",
      " 40%|████      | 24/60 [00:18<00:27,  1.29it/s]"
     ]
    },
    {
     "name": "stdout",
     "output_type": "stream",
     "text": [
      "detect took 0.7497580051422119 time\n",
      "recognize took 0.027227163314819336 time\n"
     ]
    },
    {
     "name": "stderr",
     "output_type": "stream",
     "text": [
      "\r",
      " 42%|████▏     | 25/60 [00:19<00:26,  1.30it/s]"
     ]
    },
    {
     "name": "stdout",
     "output_type": "stream",
     "text": [
      "detect took 0.7389044761657715 time\n",
      "recognize took 0.026535749435424805 time\n"
     ]
    },
    {
     "name": "stderr",
     "output_type": "stream",
     "text": [
      "\r",
      " 43%|████▎     | 26/60 [00:20<00:26,  1.29it/s]"
     ]
    },
    {
     "name": "stdout",
     "output_type": "stream",
     "text": [
      "detect took 0.7508707046508789 time\n",
      "recognize took 0.02663564682006836 time\n"
     ]
    },
    {
     "name": "stderr",
     "output_type": "stream",
     "text": [
      "\r",
      " 45%|████▌     | 27/60 [00:20<00:25,  1.29it/s]"
     ]
    },
    {
     "name": "stdout",
     "output_type": "stream",
     "text": [
      "detect took 0.7425892353057861 time\n",
      "recognize took 0.026732683181762695 time\n"
     ]
    },
    {
     "name": "stderr",
     "output_type": "stream",
     "text": [
      "\r",
      " 47%|████▋     | 28/60 [00:21<00:24,  1.29it/s]"
     ]
    },
    {
     "name": "stdout",
     "output_type": "stream",
     "text": [
      "detect took 0.7529799938201904 time\n",
      "recognize took 0.027157306671142578 time\n"
     ]
    },
    {
     "name": "stderr",
     "output_type": "stream",
     "text": [
      "\r",
      " 48%|████▊     | 29/60 [00:22<00:23,  1.29it/s]"
     ]
    },
    {
     "name": "stdout",
     "output_type": "stream",
     "text": [
      "detect took 0.7432444095611572 time\n",
      "recognize took 0.02670741081237793 time\n"
     ]
    },
    {
     "name": "stderr",
     "output_type": "stream",
     "text": [
      "\r",
      " 50%|█████     | 30/60 [00:23<00:23,  1.29it/s]"
     ]
    },
    {
     "name": "stdout",
     "output_type": "stream",
     "text": [
      "detect took 0.7524447441101074 time\n",
      "recognize took 0.027021169662475586 time\n"
     ]
    },
    {
     "name": "stderr",
     "output_type": "stream",
     "text": [
      "\r",
      " 52%|█████▏    | 31/60 [00:23<00:22,  1.29it/s]"
     ]
    },
    {
     "name": "stdout",
     "output_type": "stream",
     "text": [
      "detect took 0.7402119636535645 time\n",
      "recognize took 0.026592493057250977 time\n"
     ]
    },
    {
     "name": "stderr",
     "output_type": "stream",
     "text": [
      "\r",
      " 53%|█████▎    | 32/60 [00:24<00:21,  1.30it/s]"
     ]
    },
    {
     "name": "stdout",
     "output_type": "stream",
     "text": [
      "detect took 0.7404289245605469 time\n",
      "recognize took 0.027426719665527344 time\n"
     ]
    },
    {
     "name": "stderr",
     "output_type": "stream",
     "text": [
      "\r",
      " 55%|█████▌    | 33/60 [00:25<00:20,  1.30it/s]"
     ]
    },
    {
     "name": "stdout",
     "output_type": "stream",
     "text": [
      "detect took 0.7365763187408447 time\n",
      "recognize took 0.026699304580688477 time\n"
     ]
    },
    {
     "name": "stderr",
     "output_type": "stream",
     "text": [
      "\r",
      " 57%|█████▋    | 34/60 [00:26<00:20,  1.28it/s]"
     ]
    },
    {
     "name": "stdout",
     "output_type": "stream",
     "text": [
      "detect took 0.7750194072723389 time\n",
      "recognize took 0.027756452560424805 time\n"
     ]
    },
    {
     "name": "stderr",
     "output_type": "stream",
     "text": [
      "\r",
      " 58%|█████▊    | 35/60 [00:27<00:19,  1.28it/s]"
     ]
    },
    {
     "name": "stdout",
     "output_type": "stream",
     "text": [
      "detect took 0.7537977695465088 time\n",
      "recognize took 0.027387619018554688 time\n"
     ]
    },
    {
     "name": "stderr",
     "output_type": "stream",
     "text": [
      "\r",
      " 60%|██████    | 36/60 [00:27<00:18,  1.28it/s]"
     ]
    },
    {
     "name": "stdout",
     "output_type": "stream",
     "text": [
      "detect took 0.7482848167419434 time\n",
      "recognize took 0.027043819427490234 time\n"
     ]
    },
    {
     "name": "stderr",
     "output_type": "stream",
     "text": [
      "\r",
      " 62%|██████▏   | 37/60 [00:28<00:17,  1.29it/s]"
     ]
    },
    {
     "name": "stdout",
     "output_type": "stream",
     "text": [
      "detect took 0.7397544384002686 time\n",
      "recognize took 0.026752710342407227 time\n"
     ]
    },
    {
     "name": "stderr",
     "output_type": "stream",
     "text": [
      "\r",
      " 63%|██████▎   | 38/60 [00:29<00:16,  1.29it/s]"
     ]
    },
    {
     "name": "stdout",
     "output_type": "stream",
     "text": [
      "detect took 0.7369229793548584 time\n",
      "recognize took 0.026661396026611328 time\n"
     ]
    },
    {
     "name": "stderr",
     "output_type": "stream",
     "text": [
      "\r",
      " 65%|██████▌   | 39/60 [00:30<00:16,  1.30it/s]"
     ]
    },
    {
     "name": "stdout",
     "output_type": "stream",
     "text": [
      "detect took 0.7400469779968262 time\n",
      "recognize took 0.026664257049560547 time\n"
     ]
    },
    {
     "name": "stderr",
     "output_type": "stream",
     "text": [
      "\r",
      " 67%|██████▋   | 40/60 [00:30<00:15,  1.30it/s]"
     ]
    },
    {
     "name": "stdout",
     "output_type": "stream",
     "text": [
      "detect took 0.7384893894195557 time\n",
      "recognize took 0.026741743087768555 time\n"
     ]
    },
    {
     "name": "stderr",
     "output_type": "stream",
     "text": [
      "\r",
      " 68%|██████▊   | 41/60 [00:31<00:14,  1.30it/s]"
     ]
    },
    {
     "name": "stdout",
     "output_type": "stream",
     "text": [
      "detect took 0.7487161159515381 time\n",
      "recognize took 0.027243375778198242 time\n"
     ]
    },
    {
     "name": "stderr",
     "output_type": "stream",
     "text": [
      "\r",
      " 70%|███████   | 42/60 [00:32<00:13,  1.30it/s]"
     ]
    },
    {
     "name": "stdout",
     "output_type": "stream",
     "text": [
      "detect took 0.7390377521514893 time\n",
      "recognize took 0.026785612106323242 time\n"
     ]
    },
    {
     "name": "stderr",
     "output_type": "stream",
     "text": [
      "\r",
      " 72%|███████▏  | 43/60 [00:33<00:13,  1.30it/s]"
     ]
    },
    {
     "name": "stdout",
     "output_type": "stream",
     "text": [
      "detect took 0.7396090030670166 time\n",
      "recognize took 0.026750802993774414 time\n"
     ]
    },
    {
     "name": "stderr",
     "output_type": "stream",
     "text": [
      "\r",
      " 73%|███████▎  | 44/60 [00:33<00:12,  1.29it/s]"
     ]
    },
    {
     "name": "stdout",
     "output_type": "stream",
     "text": [
      "detect took 0.7509117126464844 time\n",
      "recognize took 0.027025938034057617 time\n"
     ]
    },
    {
     "name": "stderr",
     "output_type": "stream",
     "text": [
      "\r",
      " 75%|███████▌  | 45/60 [00:34<00:11,  1.30it/s]"
     ]
    },
    {
     "name": "stdout",
     "output_type": "stream",
     "text": [
      "detect took 0.7390809059143066 time\n",
      "recognize took 0.027232885360717773 time\n"
     ]
    },
    {
     "name": "stderr",
     "output_type": "stream",
     "text": [
      "\r",
      " 77%|███████▋  | 46/60 [00:35<00:10,  1.29it/s]"
     ]
    },
    {
     "name": "stdout",
     "output_type": "stream",
     "text": [
      "detect took 0.7497768402099609 time\n",
      "recognize took 0.026798486709594727 time\n"
     ]
    },
    {
     "name": "stderr",
     "output_type": "stream",
     "text": [
      "\r",
      " 78%|███████▊  | 47/60 [00:36<00:10,  1.30it/s]"
     ]
    },
    {
     "name": "stdout",
     "output_type": "stream",
     "text": [
      "detect took 0.7386162281036377 time\n",
      "recognize took 0.027273893356323242 time\n"
     ]
    },
    {
     "name": "stderr",
     "output_type": "stream",
     "text": [
      "\r",
      " 80%|████████  | 48/60 [00:37<00:09,  1.30it/s]"
     ]
    },
    {
     "name": "stdout",
     "output_type": "stream",
     "text": [
      "detect took 0.7402393817901611 time\n",
      "recognize took 0.027126550674438477 time\n"
     ]
    },
    {
     "name": "stderr",
     "output_type": "stream",
     "text": [
      "\r",
      " 82%|████████▏ | 49/60 [00:37<00:08,  1.30it/s]"
     ]
    },
    {
     "name": "stdout",
     "output_type": "stream",
     "text": [
      "detect took 0.7389075756072998 time\n",
      "recognize took 0.02680659294128418 time\n"
     ]
    },
    {
     "name": "stderr",
     "output_type": "stream",
     "text": [
      "\r",
      " 83%|████████▎ | 50/60 [00:38<00:07,  1.30it/s]"
     ]
    },
    {
     "name": "stdout",
     "output_type": "stream",
     "text": [
      "detect took 0.749974250793457 time\n",
      "recognize took 0.027164220809936523 time\n"
     ]
    },
    {
     "name": "stderr",
     "output_type": "stream",
     "text": [
      "\r",
      " 85%|████████▌ | 51/60 [00:39<00:06,  1.30it/s]"
     ]
    },
    {
     "name": "stdout",
     "output_type": "stream",
     "text": [
      "detect took 0.7386493682861328 time\n",
      "recognize took 0.027420997619628906 time\n"
     ]
    },
    {
     "name": "stderr",
     "output_type": "stream",
     "text": [
      "\r",
      " 87%|████████▋ | 52/60 [00:40<00:06,  1.30it/s]"
     ]
    },
    {
     "name": "stdout",
     "output_type": "stream",
     "text": [
      "detect took 0.740675687789917 time\n",
      "recognize took 0.026713848114013672 time\n"
     ]
    },
    {
     "name": "stderr",
     "output_type": "stream",
     "text": [
      "\r",
      " 88%|████████▊ | 53/60 [00:40<00:05,  1.30it/s]"
     ]
    },
    {
     "name": "stdout",
     "output_type": "stream",
     "text": [
      "detect took 0.738339900970459 time\n",
      "recognize took 0.02715587615966797 time\n"
     ]
    },
    {
     "name": "stderr",
     "output_type": "stream",
     "text": [
      "\r",
      " 90%|█████████ | 54/60 [00:41<00:04,  1.31it/s]"
     ]
    },
    {
     "name": "stdout",
     "output_type": "stream",
     "text": [
      "detect took 0.7387588024139404 time\n",
      "recognize took 0.014159202575683594 time\n"
     ]
    },
    {
     "name": "stderr",
     "output_type": "stream",
     "text": [
      "\r",
      " 92%|█████████▏| 55/60 [00:42<00:03,  1.30it/s]"
     ]
    },
    {
     "name": "stdout",
     "output_type": "stream",
     "text": [
      "detect took 0.7506999969482422 time\n",
      "recognize took 0.02668309211730957 time\n"
     ]
    },
    {
     "name": "stderr",
     "output_type": "stream",
     "text": [
      "\r",
      " 93%|█████████▎| 56/60 [00:43<00:03,  1.30it/s]"
     ]
    },
    {
     "name": "stdout",
     "output_type": "stream",
     "text": [
      "detect took 0.7381114959716797 time\n",
      "recognize took 0.026791810989379883 time\n"
     ]
    },
    {
     "name": "stderr",
     "output_type": "stream",
     "text": [
      "\r",
      " 95%|█████████▌| 57/60 [00:43<00:02,  1.30it/s]"
     ]
    },
    {
     "name": "stdout",
     "output_type": "stream",
     "text": [
      "detect took 0.7399027347564697 time\n",
      "recognize took 0.0267179012298584 time\n"
     ]
    },
    {
     "name": "stderr",
     "output_type": "stream",
     "text": [
      "\r",
      " 97%|█████████▋| 58/60 [00:44<00:01,  1.30it/s]"
     ]
    },
    {
     "name": "stdout",
     "output_type": "stream",
     "text": [
      "detect took 0.7395296096801758 time\n",
      "recognize took 0.026795387268066406 time\n"
     ]
    },
    {
     "name": "stderr",
     "output_type": "stream",
     "text": [
      "\r",
      " 98%|█████████▊| 59/60 [00:45<00:00,  1.30it/s]"
     ]
    },
    {
     "name": "stdout",
     "output_type": "stream",
     "text": [
      "detect took 0.738685131072998 time\n",
      "recognize took 0.02671194076538086 time\n"
     ]
    },
    {
     "name": "stderr",
     "output_type": "stream",
     "text": [
      "\r",
      "100%|██████████| 60/60 [00:46<00:00,  1.28it/s]"
     ]
    },
    {
     "name": "stdout",
     "output_type": "stream",
     "text": [
      "detect took 0.7849807739257812 time\n",
      "recognize took 0.027574539184570312 time\n"
     ]
    },
    {
     "name": "stderr",
     "output_type": "stream",
     "text": [
      "\n"
     ]
    }
   ],
   "source": [
    "result = videotext.get_json(url, duration=2)"
   ]
  },
  {
   "cell_type": "code",
   "execution_count": 74,
   "metadata": {
    "collapsed": false
   },
   "outputs": [
    {
     "data": {
      "text/plain": [
       "'[{\"f_index\": 0, \"time_stamp\": \"0.00\", \"text\": \"s\", \"bbox\": [1076.5968322753906, 40.980015099048615, 67.09396362304688, 17.170603573322296], \"score\": 0.9709609150886536}, {\"f_index\": 0, \"time_stamp\": \"0.00\", \"text\": \"risd\", \"bbox\": [1163.131332397461, 40.94292014837265, 59.89898681640625, 18.34677368402481], \"score\": 0.90181565284729}, {\"f_index\": 1, \"time_stamp\": \"0.03\", \"text\": \"s\", \"bbox\": [1076.5968322753906, 40.980015099048615, 67.09396362304688, 17.170603573322296], \"score\": 0.9709609150886536}, {\"f_index\": 1, \"time_stamp\": \"0.03\", \"text\": \"risd\", \"bbox\": [1163.131332397461, 40.94292014837265, 59.89898681640625, 18.34677368402481], \"score\": 0.90181565284729}, {\"f_index\": 2, \"time_stamp\": \"0.07\", \"text\": \"s\", \"bbox\": [1076.5968322753906, 40.980015099048615, 67.09396362304688, 17.170603573322296], \"score\": 0.9709609150886536}, {\"f_index\": 2, \"time_stamp\": \"0.07\", \"text\": \"risd\", \"bbox\": [1163.131332397461, 40.94292014837265, 59.89898681640625, 18.34677368402481], \"score\": 0.90181565284729}, {\"f_index\": 3, \"time_stamp\": \"0.10\", \"text\": \"s\", \"bbox\": [1076.5968322753906, 40.980015099048615, 67.09396362304688, 17.170603573322296], \"score\": 0.9709609150886536}, {\"f_index\": 3, \"time_stamp\": \"0.10\", \"text\": \"risd\", \"bbox\": [1163.131332397461, 40.94292014837265, 59.89898681640625, 18.34677368402481], \"score\": 0.90181565284729}, {\"f_index\": 4, \"time_stamp\": \"0.13\", \"text\": \"s\", \"bbox\": [1076.5968322753906, 40.980015099048615, 67.09396362304688, 17.170603573322296], \"score\": 0.9709609150886536}, {\"f_index\": 4, \"time_stamp\": \"0.13\", \"text\": \"risd\", \"bbox\": [1163.131332397461, 40.94292014837265, 59.89898681640625, 18.34677368402481], \"score\": 0.90181565284729}, {\"f_index\": 5, \"time_stamp\": \"0.17\", \"text\": \"s\", \"bbox\": [1076.5968322753906, 40.980015099048615, 67.09396362304688, 17.170603573322296], \"score\": 0.9709609150886536}, {\"f_index\": 5, \"time_stamp\": \"0.17\", \"text\": \"risd\", \"bbox\": [1163.131332397461, 40.94292014837265, 59.89898681640625, 18.34677368402481], \"score\": 0.90181565284729}, {\"f_index\": 6, \"time_stamp\": \"0.20\", \"text\": \"s\", \"bbox\": [1076.5968322753906, 40.980015099048615, 67.09396362304688, 17.170603573322296], \"score\": 0.9709609150886536}, {\"f_index\": 6, \"time_stamp\": \"0.20\", \"text\": \"risd\", \"bbox\": [1163.131332397461, 40.94292014837265, 59.89898681640625, 18.34677368402481], \"score\": 0.90181565284729}, {\"f_index\": 7, \"time_stamp\": \"0.23\", \"text\": \"s\", \"bbox\": [1076.5968322753906, 40.980015099048615, 67.09396362304688, 17.170603573322296], \"score\": 0.9709609150886536}, {\"f_index\": 7, \"time_stamp\": \"0.23\", \"text\": \"risd\", \"bbox\": [1163.131332397461, 40.94292014837265, 59.89898681640625, 18.34677368402481], \"score\": 0.90181565284729}, {\"f_index\": 8, \"time_stamp\": \"0.27\", \"text\": \"s\", \"bbox\": [1076.5968322753906, 40.980015099048615, 67.09396362304688, 17.170603573322296], \"score\": 0.9709609150886536}, {\"f_index\": 8, \"time_stamp\": \"0.27\", \"text\": \"risd\", \"bbox\": [1163.131332397461, 40.94292014837265, 59.89898681640625, 18.34677368402481], \"score\": 0.90181565284729}, {\"f_index\": 9, \"time_stamp\": \"0.30\", \"text\": \"s\", \"bbox\": [1076.5968322753906, 40.980015099048615, 67.09396362304688, 17.170603573322296], \"score\": 0.9709609150886536}, {\"f_index\": 9, \"time_stamp\": \"0.30\", \"text\": \"risd\", \"bbox\": [1163.131332397461, 40.94292014837265, 59.89898681640625, 18.34677368402481], \"score\": 0.90181565284729}, {\"f_index\": 10, \"time_stamp\": \"0.33\", \"text\": \"s\", \"bbox\": [1076.5968322753906, 40.980015099048615, 67.09396362304688, 17.170603573322296], \"score\": 0.9709609150886536}, {\"f_index\": 10, \"time_stamp\": \"0.33\", \"text\": \"risd\", \"bbox\": [1163.131332397461, 40.94292014837265, 59.89898681640625, 18.34677368402481], \"score\": 0.90181565284729}, {\"f_index\": 11, \"time_stamp\": \"0.37\", \"text\": \"s\", \"bbox\": [1076.6600036621094, 40.85403710603714, 66.92611694335938, 17.357440888881683], \"score\": 0.9702367782592773}, {\"f_index\": 11, \"time_stamp\": \"0.37\", \"text\": \"risd\", \"bbox\": [1163.2330322265625, 40.87091624736786, 59.86602783203125, 18.42007040977478], \"score\": 0.9006300568580627}, {\"f_index\": 12, \"time_stamp\": \"0.40\", \"text\": \"s\", \"bbox\": [1076.6785430908203, 40.84734499454498, 67.16201782226562, 17.399704456329346], \"score\": 0.9699826836585999}, {\"f_index\": 12, \"time_stamp\": \"0.40\", \"text\": \"risd\", \"bbox\": [1163.1893157958984, 40.85723698139191, 59.969940185546875, 18.462427854537964], \"score\": 0.900404155254364}, {\"f_index\": 13, \"time_stamp\": \"0.43\", \"text\": \"s\", \"bbox\": [1076.3927459716797, 40.854533314704895, 67.31658935546875, 17.477134466171265], \"score\": 0.9702052474021912}, {\"f_index\": 13, \"time_stamp\": \"0.43\", \"text\": \"risd\", \"bbox\": [1162.9139709472656, 40.836777091026306, 60.3436279296875, 18.496277332305908], \"score\": 0.9007865190505981}, {\"f_index\": 14, \"time_stamp\": \"0.47\", \"text\": \"s\", \"bbox\": [1076.4305114746094, 40.852384865283966, 67.35641479492188, 17.43597060441971], \"score\": 0.9699273705482483}, {\"f_index\": 14, \"time_stamp\": \"0.47\", \"text\": \"risd\", \"bbox\": [1162.6905059814453, 40.84865391254425, 60.36895751953125, 18.417141437530518], \"score\": 0.9004698395729065}, {\"f_index\": 15, \"time_stamp\": \"0.50\", \"text\": \"s\", \"bbox\": [1076.25, 40.94688445329666, 67.76535034179688, 17.43093878030777], \"score\": 0.9706493616104126}, {\"f_index\": 15, \"time_stamp\": \"0.50\", \"text\": \"risd\", \"bbox\": [1162.811279296875, 40.9931606054306, 60.144500732421875, 18.412485122680664], \"score\": 0.9004637002944946}, {\"f_index\": 16, \"time_stamp\": \"0.53\", \"text\": \"s\", \"bbox\": [1076.163558959961, 40.9363728761673, 67.75894165039062, 17.48523473739624], \"score\": 0.9706456661224365}, {\"f_index\": 16, \"time_stamp\": \"0.53\", \"text\": \"risd\", \"bbox\": [1162.7885437011719, 40.98281532526016, 60.28411865234375, 18.447544276714325], \"score\": 0.9000923037528992}, {\"f_index\": 17, \"time_stamp\": \"0.57\", \"text\": \"sts\", \"bbox\": [1075.9236907958984, 40.89961588382721, 68.2806396484375, 17.616630792617798], \"score\": 0.9707205891609192}, {\"f_index\": 17, \"time_stamp\": \"0.57\", \"text\": \"risd\", \"bbox\": [1162.6883697509766, 41.04292631149292, 60.764312744140625, 18.523893356323242], \"score\": 0.9013247489929199}, {\"f_index\": 18, \"time_stamp\": \"0.60\", \"text\": \"sts\", \"bbox\": [1075.9011840820312, 40.91765373945236, 68.34945678710938, 17.598775327205658], \"score\": 0.9706832766532898}, {\"f_index\": 18, \"time_stamp\": \"0.60\", \"text\": \"rid\", \"bbox\": [1162.7946472167969, 41.067675054073334, 60.783233642578125, 18.521675169467926], \"score\": 0.9009156823158264}, {\"f_index\": 19, \"time_stamp\": \"0.63\", \"text\": \"s\", \"bbox\": [1075.9313201904297, 40.90605318546295, 68.47274780273438, 17.593231201171875], \"score\": 0.9700629711151123}, {\"f_index\": 19, \"time_stamp\": \"0.63\", \"text\": \"rid\", \"bbox\": [1162.7696990966797, 41.05840802192688, 60.889434814453125, 18.52571725845337], \"score\": 0.9004051089286804}, {\"f_index\": 20, \"time_stamp\": \"0.67\", \"text\": \"s\", \"bbox\": [1075.8976745605469, 40.78145384788513, 68.55697631835938, 17.67104744911194], \"score\": 0.971135139465332}, {\"f_index\": 20, \"time_stamp\": \"0.67\", \"text\": \"rid\", \"bbox\": [1162.8511810302734, 40.99896490573883, 60.81085205078125, 18.508336544036865], \"score\": 0.9001378417015076}, {\"f_index\": 21, \"time_stamp\": \"0.70\", \"text\": \"s\", \"bbox\": [1075.8243560791016, 40.78955948352814, 68.56170654296875, 17.694908380508423], \"score\": 0.9713501334190369}, {\"f_index\": 21, \"time_stamp\": \"0.70\", \"text\": \"rid\", \"bbox\": [1162.7926635742188, 41.022600531578064, 60.89111328125, 18.510364294052124], \"score\": 0.9012411236763}, {\"f_index\": 22, \"time_stamp\": \"0.73\", \"text\": \"s\", \"bbox\": [1075.7230377197266, 40.68488359451294, 68.72756958007812, 17.601245641708374], \"score\": 0.9704104065895081}, {\"f_index\": 22, \"time_stamp\": \"0.73\", \"text\": \"ristd\", \"bbox\": [1162.8748321533203, 41.00805222988129, 60.95672607421875, 18.4160578250885], \"score\": 0.9008021950721741}, {\"f_index\": 23, \"time_stamp\": \"0.77\", \"text\": \"s\", \"bbox\": [1075.592041015625, 40.62875837087631, 68.64990234375, 17.539632618427277], \"score\": 0.9719836711883545}, {\"f_index\": 23, \"time_stamp\": \"0.77\", \"text\": \"ristd\", \"bbox\": [1162.994613647461, 41.01688742637634, 60.811614990234375, 18.368303775787354], \"score\": 0.9015384316444397}, {\"f_index\": 24, \"time_stamp\": \"0.80\", \"text\": \"ss\", \"bbox\": [1075.8833312988281, 40.786236226558685, 69.75143432617188, 17.24294811487198], \"score\": 0.9686500430107117}, {\"f_index\": 24, \"time_stamp\": \"0.80\", \"text\": \"ristd\", \"bbox\": [1163.0123901367188, 41.13335162401199, 61.08154296875, 18.197369277477264], \"score\": 0.9017970561981201}, {\"f_index\": 25, \"time_stamp\": \"0.83\", \"text\": \"ss\", \"bbox\": [1075.9790802001953, 40.76756000518799, 69.88845825195312, 17.2395122051239], \"score\": 0.9690839648246765}, {\"f_index\": 25, \"time_stamp\": \"0.83\", \"text\": \"ristd\", \"bbox\": [1163.0390167236328, 41.13198637962341, 60.789031982421875, 18.227734565734863], \"score\": 0.9023343324661255}, {\"f_index\": 26, \"time_stamp\": \"0.87\", \"text\": \"ss\", \"bbox\": [1075.990219116211, 40.749154686927795, 69.9420166015625, 17.267889976501465], \"score\": 0.9692085981369019}, {\"f_index\": 26, \"time_stamp\": \"0.87\", \"text\": \"ristd\", \"bbox\": [1163.0598449707031, 41.1021226644516, 60.584259033203125, 18.247443437576294], \"score\": 0.9022279977798462}, {\"f_index\": 27, \"time_stamp\": \"0.90\", \"text\": \"ss\", \"bbox\": [1076.0774230957031, 40.988370180130005, 70.34011840820312, 17.082560062408447], \"score\": 0.9669979810714722}, {\"f_index\": 27, \"time_stamp\": \"0.90\", \"text\": \"ristd\", \"bbox\": [1163.039779663086, 41.264508962631226, 61.24603271484375, 18.157578706741333], \"score\": 0.9035421013832092}, {\"f_index\": 28, \"time_stamp\": \"0.93\", \"text\": \"ss\", \"bbox\": [1076.1072540283203, 41.07742756605148, 70.18646240234375, 17.11136966943741], \"score\": 0.9670800566673279}, {\"f_index\": 28, \"time_stamp\": \"0.93\", \"text\": \"rid\", \"bbox\": [1163.147964477539, 41.371614933013916, 61.18682861328125, 18.19409966468811], \"score\": 0.901997447013855}, {\"f_index\": 29, \"time_stamp\": \"0.97\", \"text\": \"ss\", \"bbox\": [1076.0966491699219, 41.0739541053772, 70.21591186523438, 17.141085863113403], \"score\": 0.9670302271842957}, {\"f_index\": 29, \"time_stamp\": \"0.97\", \"text\": \"rid\", \"bbox\": [1163.1363677978516, 41.380122900009155, 61.353302001953125, 18.24801206588745], \"score\": 0.9009993672370911}, {\"f_index\": 30, \"time_stamp\": \"1.00\", \"text\": \"ss\", \"bbox\": [1076.0613250732422, 41.120436787605286, 70.16494750976562, 17.069556713104248], \"score\": 0.9666696190834045}, {\"f_index\": 30, \"time_stamp\": \"1.00\", \"text\": \"rid\", \"bbox\": [1163.1552124023438, 41.322444677352905, 61.201019287109375, 18.300637006759644], \"score\": 0.9049760103225708}, {\"f_index\": 31, \"time_stamp\": \"1.03\", \"text\": \"ss\", \"bbox\": [1076.095199584961, 41.11841171979904, 70.06576538085938, 17.019251883029938], \"score\": 0.9666697978973389}, {\"f_index\": 31, \"time_stamp\": \"1.03\", \"text\": \"rid\", \"bbox\": [1163.0835723876953, 41.31414324045181, 61.220703125, 18.313916623592377], \"score\": 0.9053186178207397}, {\"f_index\": 32, \"time_stamp\": \"1.07\", \"text\": \"ss\", \"bbox\": [1076.0903930664062, 41.12375736236572, 69.991455078125, 17.01606273651123], \"score\": 0.9670577645301819}, {\"f_index\": 32, \"time_stamp\": \"1.07\", \"text\": \"rid\", \"bbox\": [1162.9695129394531, 41.32286310195923, 61.228485107421875, 18.28571319580078], \"score\": 0.9052935242652893}, {\"f_index\": 33, \"time_stamp\": \"1.10\", \"text\": \"ss\", \"bbox\": [1075.9004974365234, 40.93942791223526, 69.06967163085938, 17.197860181331635], \"score\": 0.9694629907608032}, {\"f_index\": 33, \"time_stamp\": \"1.10\", \"text\": \"rid\", \"bbox\": [1162.7921295166016, 41.13934636116028, 61.3079833984375, 18.41280698776245], \"score\": 0.9065006971359253}, {\"f_index\": 34, \"time_stamp\": \"1.13\", \"text\": \"ss\", \"bbox\": [1075.8544158935547, 40.867794156074524, 68.71231079101562, 17.265325784683228], \"score\": 0.9704601168632507}, {\"f_index\": 34, \"time_stamp\": \"1.13\", \"text\": \"ristd\", \"bbox\": [1162.789077758789, 41.06996297836304, 61.09466552734375, 18.39632749557495], \"score\": 0.9057194590568542}, {\"f_index\": 35, \"time_stamp\": \"1.17\", \"text\": \"ss\", \"bbox\": [1075.8952331542969, 40.82749128341675, 68.85665893554688, 17.333282232284546], \"score\": 0.9703102707862854}, {\"f_index\": 35, \"time_stamp\": \"1.17\", \"text\": \"ristd\", \"bbox\": [1162.7095031738281, 41.032495200634, 61.18408203125, 18.43070536851883], \"score\": 0.9052358865737915}, {\"f_index\": 36, \"time_stamp\": \"1.20\", \"text\": \"s\", \"bbox\": [1075.7010650634766, 40.660990476608276, 68.43170166015625, 17.547290325164795], \"score\": 0.9707585573196411}, {\"f_index\": 36, \"time_stamp\": \"1.20\", \"text\": \"risd\", \"bbox\": [1162.5764465332031, 40.93700587749481, 60.83251953125, 18.485065698623657], \"score\": 0.9042581915855408}, {\"f_index\": 37, \"time_stamp\": \"1.23\", \"text\": \"es\", \"bbox\": [1075.56884765625, 40.482006669044495, 68.05389404296875, 17.657078504562378], \"score\": 0.971659779548645}, {\"f_index\": 37, \"time_stamp\": \"1.23\", \"text\": \"riszd\", \"bbox\": [1162.4836730957031, 40.875771045684814, 60.754241943359375, 18.553601503372192], \"score\": 0.902275025844574}, {\"f_index\": 38, \"time_stamp\": \"1.27\", \"text\": \"es\", \"bbox\": [1075.5695343017578, 40.41664391756058, 67.97256469726562, 17.68390864133835], \"score\": 0.9716811776161194}, {\"f_index\": 38, \"time_stamp\": \"1.27\", \"text\": \"risd\", \"bbox\": [1162.5367736816406, 40.85622847080231, 60.607147216796875, 18.540855646133423], \"score\": 0.9011211395263672}, {\"f_index\": 39, \"time_stamp\": \"1.30\", \"text\": \"sntns\", \"bbox\": [1075.6022644042969, 40.377641916275024, 67.8857421875, 17.705401182174683], \"score\": 0.9713273048400879}, {\"f_index\": 39, \"time_stamp\": \"1.30\", \"text\": \"riszd\", \"bbox\": [1162.403793334961, 40.81353306770325, 60.53436279296875, 18.53166103363037], \"score\": 0.9009674787521362}, {\"f_index\": 40, \"time_stamp\": \"1.33\", \"text\": \"sntns\", \"bbox\": [1075.5032348632812, 40.34397751092911, 67.9840087890625, 17.623880803585052], \"score\": 0.9731470346450806}, {\"f_index\": 40, \"time_stamp\": \"1.33\", \"text\": \"riszd\", \"bbox\": [1162.1196746826172, 40.93549311161041, 60.58349609375, 18.501298427581787], \"score\": 0.9070186018943787}, {\"f_index\": 41, \"time_stamp\": \"1.37\", \"text\": \"es\", \"bbox\": [1075.50537109375, 40.355148911476135, 68.04428100585938, 17.596900463104248], \"score\": 0.9735419750213623}, {\"f_index\": 41, \"time_stamp\": \"1.37\", \"text\": \"riszd\", \"bbox\": [1162.159423828125, 40.95328152179718, 60.497894287109375, 18.476386070251465], \"score\": 0.9069708585739136}, {\"f_index\": 42, \"time_stamp\": \"1.40\", \"text\": \"es\", \"bbox\": [1075.6246948242188, 40.403310656547546, 68.27606201171875, 17.569735050201416], \"score\": 0.9724413752555847}, {\"f_index\": 42, \"time_stamp\": \"1.40\", \"text\": \"riszd\", \"bbox\": [1161.6854858398438, 40.94902753829956, 60.830535888671875, 18.459423780441284], \"score\": 0.9079506993293762}, {\"f_index\": 43, \"time_stamp\": \"1.43\", \"text\": \"s\", \"bbox\": [1075.7327270507812, 40.527049005031586, 67.92800903320312, 17.332614362239838], \"score\": 0.9720864295959473}, {\"f_index\": 43, \"time_stamp\": \"1.43\", \"text\": \"risted\", \"bbox\": [1161.6432189941406, 41.02467119693756, 60.397796630859375, 18.26006054878235], \"score\": 0.9076315760612488}, {\"f_index\": 44, \"time_stamp\": \"1.47\", \"text\": \"ss\", \"bbox\": [1076.0664367675781, 40.8041587471962, 68.88397216796875, 17.118016183376312], \"score\": 0.9699356555938721}, {\"f_index\": 44, \"time_stamp\": \"1.47\", \"text\": \"riszd\", \"bbox\": [1161.5398406982422, 41.05243742465973, 61.238555908203125, 18.225256204605103], \"score\": 0.9074113965034485}, {\"f_index\": 45, \"time_stamp\": \"1.50\", \"text\": \"ss\", \"bbox\": [1075.9748840332031, 40.90576350688934, 69.29046630859375, 16.99437975883484], \"score\": 0.9698969721794128}, {\"f_index\": 45, \"time_stamp\": \"1.50\", \"text\": \"risted\", \"bbox\": [1161.125717163086, 40.88584005832672, 61.14044189453125, 18.08351755142212], \"score\": 0.905470073223114}, {\"f_index\": 46, \"time_stamp\": \"1.53\", \"text\": \"ss\", \"bbox\": [1075.9363555908203, 40.92052906751633, 69.17877197265625, 17.0461705327034], \"score\": 0.9697283506393433}, {\"f_index\": 46, \"time_stamp\": \"1.53\", \"text\": \"risted\", \"bbox\": [1161.1177062988281, 40.924973487854004, 61.494140625, 18.156838417053223], \"score\": 0.9055913090705872}, {\"f_index\": 47, \"time_stamp\": \"1.57\", \"text\": \"ss\", \"bbox\": [1075.9815216064453, 40.981007516384125, 68.95584106445312, 16.81520015001297], \"score\": 0.9705304503440857}, {\"f_index\": 47, \"time_stamp\": \"1.57\", \"text\": \"risted\", \"bbox\": [1161.4154815673828, 41.11259400844574, 61.349029541015625, 18.091832399368286], \"score\": 0.9041885137557983}, {\"f_index\": 48, \"time_stamp\": \"1.60\", \"text\": \"ss\", \"bbox\": [1075.9707641601562, 40.97955644130707, 68.98223876953125, 16.83502435684204], \"score\": 0.9703062176704407}, {\"f_index\": 48, \"time_stamp\": \"1.60\", \"text\": \"risted\", \"bbox\": [1161.4324951171875, 41.11775994300842, 61.418304443359375, 18.101177215576172], \"score\": 0.9044609069824219}, {\"f_index\": 49, \"time_stamp\": \"1.63\", \"text\": \"ss\", \"bbox\": [1076.446304321289, 40.95558822154999, 69.29153442382812, 16.816463470458984], \"score\": 0.9692294001579285}, {\"f_index\": 49, \"time_stamp\": \"1.63\", \"text\": \"riszd\", \"bbox\": [1161.7594909667969, 41.03493869304657, 60.77880859375, 18.126282691955566], \"score\": 0.9025819897651672}, {\"f_index\": 50, \"time_stamp\": \"1.67\", \"text\": \"ss\", \"bbox\": [1076.794662475586, 40.970871448516846, 69.6856689453125, 16.876899003982544], \"score\": 0.9694669842720032}, {\"f_index\": 50, \"time_stamp\": \"1.67\", \"text\": \"riszd\", \"bbox\": [1161.7692565917969, 41.10381782054901, 60.74554443359375, 18.219484090805054], \"score\": 0.9030861258506775}, {\"f_index\": 51, \"time_stamp\": \"1.70\", \"text\": \"s\", \"bbox\": [1076.894302368164, 40.91949105262756, 69.81491088867188, 16.9714093208313], \"score\": 0.9678177833557129}, {\"f_index\": 51, \"time_stamp\": \"1.70\", \"text\": \"riszd\", \"bbox\": [1161.806869506836, 41.04293167591095, 60.7293701171875, 18.306623697280884], \"score\": 0.9014652967453003}, {\"f_index\": 52, \"time_stamp\": \"1.73\", \"text\": \"s\", \"bbox\": [1076.8824768066406, 40.921459794044495, 69.71786499023438, 16.977696418762207], \"score\": 0.968007504940033}, {\"f_index\": 52, \"time_stamp\": \"1.73\", \"text\": \"risted\", \"bbox\": [1161.6403198242188, 41.03000342845917, 60.73333740234375, 18.30451011657715], \"score\": 0.9005818367004395}, {\"f_index\": 53, \"time_stamp\": \"1.77\", \"text\": \"s\", \"bbox\": [1077.0787811279297, 40.87929010391235, 69.66964721679688, 16.987169981002808], \"score\": 0.9669808149337769}, {\"f_index\": 54, \"time_stamp\": \"1.80\", \"text\": \"s\", \"bbox\": [1077.15576171875, 40.829030871391296, 70.11444091796875, 16.858971118927002], \"score\": 0.9671860933303833}, {\"f_index\": 54, \"time_stamp\": \"1.80\", \"text\": \"risted\", \"bbox\": [1161.8988037109375, 40.89532971382141, 60.352325439453125, 18.309348821640015], \"score\": 0.9006248116493225}, {\"f_index\": 55, \"time_stamp\": \"1.83\", \"text\": \"s\", \"bbox\": [1076.9778442382812, 40.74482023715973, 70.05035400390625, 16.942119598388672], \"score\": 0.9666609168052673}, {\"f_index\": 55, \"time_stamp\": \"1.83\", \"text\": \"risted\", \"bbox\": [1161.3651275634766, 40.83810746669769, 60.731201171875, 18.45805048942566], \"score\": 0.9035045504570007}, {\"f_index\": 56, \"time_stamp\": \"1.87\", \"text\": \"s\", \"bbox\": [1076.636962890625, 40.71737587451935, 70.02456665039062, 16.915372610092163], \"score\": 0.9679114818572998}, {\"f_index\": 56, \"time_stamp\": \"1.87\", \"text\": \"risted\", \"bbox\": [1161.2278747558594, 40.81212490797043, 60.743408203125, 18.475734293460846], \"score\": 0.9026154279708862}, {\"f_index\": 57, \"time_stamp\": \"1.90\", \"text\": \"s\", \"bbox\": [1076.669921875, 40.68991541862488, 70.16769409179688, 16.88522458076477], \"score\": 0.968469500541687}, {\"f_index\": 57, \"time_stamp\": \"1.90\", \"text\": \"risted\", \"bbox\": [1161.2158966064453, 40.84696412086487, 60.96160888671875, 18.453737497329712], \"score\": 0.9039241671562195}, {\"f_index\": 58, \"time_stamp\": \"1.93\", \"text\": \"ss\", \"bbox\": [1076.1272430419922, 40.7784765958786, 69.67697143554688, 16.85152530670166], \"score\": 0.9699249267578125}, {\"f_index\": 58, \"time_stamp\": \"1.93\", \"text\": \"risted\", \"bbox\": [1161.4257049560547, 40.9803181886673, 61.03790283203125, 18.392765522003174], \"score\": 0.9083756804466248}, {\"f_index\": 59, \"time_stamp\": \"1.97\", \"text\": \"ss\", \"bbox\": [1076.0870361328125, 40.79006910324097, 69.63912963867188, 16.828254461288452], \"score\": 0.9703272581100464}, {\"f_index\": 59, \"time_stamp\": \"1.97\", \"text\": \"risted\", \"bbox\": [1161.4641571044922, 40.95681667327881, 61.05712890625, 18.39560866355896], \"score\": 0.9076586961746216}]'"
      ]
     },
     "execution_count": 74,
     "metadata": {},
     "output_type": "execute_result"
    }
   ],
   "source": [
    "result"
   ]
  },
  {
   "cell_type": "markdown",
   "metadata": {},
   "source": [
    "# Demo on Youtube url"
   ]
  },
  {
   "cell_type": "code",
   "execution_count": 86,
   "metadata": {
    "collapsed": false
   },
   "outputs": [
    {
     "name": "stderr",
     "output_type": "stream",
     "text": [
      "WARNING: Assuming --restrict-filenames since file system encoding cannot encode all characters. Set the LC_ALL environment variable to fix this.\n"
     ]
    },
    {
     "name": "stdout",
     "output_type": "stream",
     "text": [
      "[youtube] FKeD2on-f3c: Downloading webpage\n",
      "[youtube] FKeD2on-f3c: Downloading video info webpage\n",
      "[youtube] FKeD2on-f3c: Extracting video information\n",
      "[youtube] FKeD2on-f3c: Downloading MPD manifest\n",
      "[download] Destination: /tmp/tmptpzvd907/input.mp4\n",
      "[download] 100% of 128.26MiB in 00:0864MiB/s ETA 00:004\n",
      "Video downloaded to /tmp/tmptpzvd907/input.mp4\n",
      "Splitted video starting from 00:35, duration: 5 seconds\n"
     ]
    },
    {
     "name": "stderr",
     "output_type": "stream",
     "text": [
      "\r",
      "  0%|          | 0/150 [00:00<?, ?it/s]"
     ]
    },
    {
     "name": "stdout",
     "output_type": "stream",
     "text": [
      "Frames created at /tmp/tmptpzvd907/in_frames\n",
      "Detecting and recognizing text from 150 frames: 2017-09-27 17:49:22.361368\n"
     ]
    },
    {
     "name": "stderr",
     "output_type": "stream",
     "text": [
      "\r",
      "  1%|          | 1/150 [00:00<02:11,  1.13it/s]"
     ]
    },
    {
     "name": "stdout",
     "output_type": "stream",
     "text": [
      "detect took 0.7530314922332764 time\n",
      "recognize took 0.015187263488769531 time\n",
      "visualize took 0.11656856536865234 time\n"
     ]
    },
    {
     "name": "stderr",
     "output_type": "stream",
     "text": [
      "  2%|▏         | 3/150 [00:01<01:13,  2.00it/s]"
     ]
    },
    {
     "name": "stdout",
     "output_type": "stream",
     "text": [
      "visualize took 0.12818384170532227 time\n",
      "visualize took 0.12697100639343262 time\n"
     ]
    },
    {
     "name": "stderr",
     "output_type": "stream",
     "text": [
      "\r",
      "  3%|▎         | 4/150 [00:01<00:56,  2.57it/s]"
     ]
    },
    {
     "name": "stdout",
     "output_type": "stream",
     "text": [
      "visualize took 0.12793684005737305 time\n"
     ]
    },
    {
     "name": "stderr",
     "output_type": "stream",
     "text": [
      "\r",
      "  3%|▎         | 5/150 [00:02<01:17,  1.86it/s]"
     ]
    },
    {
     "name": "stdout",
     "output_type": "stream",
     "text": [
      "detect took 0.742896556854248 time\n",
      "recognize took 0.013209104537963867 time\n",
      "visualize took 0.1258535385131836 time\n"
     ]
    },
    {
     "name": "stderr",
     "output_type": "stream",
     "text": [
      "  5%|▍         | 7/150 [00:02<00:47,  3.03it/s]"
     ]
    },
    {
     "name": "stdout",
     "output_type": "stream",
     "text": [
      "visualize took 0.12839508056640625 time\n",
      "visualize took 0.12757086753845215 time\n"
     ]
    },
    {
     "name": "stderr",
     "output_type": "stream",
     "text": [
      "\r",
      "  5%|▌         | 8/150 [00:02<00:38,  3.71it/s]"
     ]
    },
    {
     "name": "stdout",
     "output_type": "stream",
     "text": [
      "visualize took 0.12868666648864746 time\n"
     ]
    },
    {
     "name": "stderr",
     "output_type": "stream",
     "text": [
      "\r",
      "  6%|▌         | 9/150 [00:03<01:03,  2.23it/s]"
     ]
    },
    {
     "name": "stdout",
     "output_type": "stream",
     "text": [
      "detect took 0.7269020080566406 time\n",
      "recognize took 0.01355433464050293 time\n",
      "visualize took 0.12572836875915527 time\n"
     ]
    },
    {
     "name": "stderr",
     "output_type": "stream",
     "text": [
      "  7%|▋         | 11/150 [00:03<00:39,  3.49it/s]"
     ]
    },
    {
     "name": "stdout",
     "output_type": "stream",
     "text": [
      "visualize took 0.12816524505615234 time\n",
      "visualize took 0.1279127597808838 time\n"
     ]
    },
    {
     "name": "stderr",
     "output_type": "stream",
     "text": [
      "\r",
      "  8%|▊         | 12/150 [00:03<00:33,  4.18it/s]"
     ]
    },
    {
     "name": "stdout",
     "output_type": "stream",
     "text": [
      "visualize took 0.1285717487335205 time\n"
     ]
    },
    {
     "name": "stderr",
     "output_type": "stream",
     "text": [
      "\r",
      "  9%|▊         | 13/150 [00:04<00:58,  2.33it/s]"
     ]
    },
    {
     "name": "stdout",
     "output_type": "stream",
     "text": [
      "detect took 0.7286133766174316 time\n",
      "recognize took 0.013262033462524414 time\n",
      "visualize took 0.12976741790771484 time\n"
     ]
    },
    {
     "name": "stderr",
     "output_type": "stream",
     "text": [
      " 10%|█         | 15/150 [00:04<00:37,  3.62it/s]"
     ]
    },
    {
     "name": "stdout",
     "output_type": "stream",
     "text": [
      "visualize took 0.12853312492370605 time\n",
      "visualize took 0.1275312900543213 time\n"
     ]
    },
    {
     "name": "stderr",
     "output_type": "stream",
     "text": [
      "\r",
      " 11%|█         | 16/150 [00:05<00:33,  3.96it/s]"
     ]
    },
    {
     "name": "stdout",
     "output_type": "stream",
     "text": [
      "visualize took 0.1958768367767334 time\n"
     ]
    },
    {
     "name": "stderr",
     "output_type": "stream",
     "text": [
      "\r",
      " 11%|█▏        | 17/150 [00:06<00:58,  2.26it/s]"
     ]
    },
    {
     "name": "stdout",
     "output_type": "stream",
     "text": [
      "detect took 0.7442336082458496 time\n",
      "recognize took 0.01315450668334961 time\n",
      "visualize took 0.12520647048950195 time\n"
     ]
    },
    {
     "name": "stderr",
     "output_type": "stream",
     "text": [
      " 13%|█▎        | 19/150 [00:06<00:37,  3.54it/s]"
     ]
    },
    {
     "name": "stdout",
     "output_type": "stream",
     "text": [
      "visualize took 0.12859439849853516 time\n",
      "visualize took 0.12843680381774902 time\n"
     ]
    },
    {
     "name": "stderr",
     "output_type": "stream",
     "text": [
      "\r",
      " 13%|█▎        | 20/150 [00:06<00:30,  4.22it/s]"
     ]
    },
    {
     "name": "stdout",
     "output_type": "stream",
     "text": [
      "visualize took 0.12908053398132324 time\n"
     ]
    },
    {
     "name": "stderr",
     "output_type": "stream",
     "text": [
      "\r",
      " 14%|█▍        | 21/150 [00:07<00:55,  2.33it/s]"
     ]
    },
    {
     "name": "stdout",
     "output_type": "stream",
     "text": [
      "detect took 0.7379217147827148 time\n",
      "recognize took 0.013034820556640625 time\n",
      "visualize took 0.12531256675720215 time\n"
     ]
    },
    {
     "name": "stderr",
     "output_type": "stream",
     "text": [
      " 15%|█▌        | 23/150 [00:07<00:35,  3.61it/s]"
     ]
    },
    {
     "name": "stdout",
     "output_type": "stream",
     "text": [
      "visualize took 0.12891435623168945 time\n",
      "visualize took 0.12854766845703125 time\n"
     ]
    },
    {
     "name": "stderr",
     "output_type": "stream",
     "text": [
      "\r",
      " 16%|█▌        | 24/150 [00:07<00:29,  4.29it/s]"
     ]
    },
    {
     "name": "stdout",
     "output_type": "stream",
     "text": [
      "visualize took 0.1292572021484375 time\n"
     ]
    },
    {
     "name": "stderr",
     "output_type": "stream",
     "text": [
      "\r",
      " 17%|█▋        | 25/150 [00:08<00:53,  2.32it/s]"
     ]
    },
    {
     "name": "stdout",
     "output_type": "stream",
     "text": [
      "detect took 0.7502100467681885 time\n",
      "recognize took 0.013067960739135742 time\n",
      "visualize took 0.12562346458435059 time\n"
     ]
    },
    {
     "name": "stderr",
     "output_type": "stream",
     "text": [
      " 18%|█▊        | 27/150 [00:08<00:34,  3.61it/s]"
     ]
    },
    {
     "name": "stdout",
     "output_type": "stream",
     "text": [
      "visualize took 0.1287522315979004 time\n",
      "visualize took 0.1289374828338623 time\n"
     ]
    },
    {
     "name": "stderr",
     "output_type": "stream",
     "text": [
      "\r",
      " 19%|█▊        | 28/150 [00:08<00:28,  4.29it/s]"
     ]
    },
    {
     "name": "stdout",
     "output_type": "stream",
     "text": [
      "visualize took 0.12768006324768066 time\n"
     ]
    },
    {
     "name": "stderr",
     "output_type": "stream",
     "text": [
      "\r",
      " 19%|█▉        | 29/150 [00:09<00:53,  2.27it/s]"
     ]
    },
    {
     "name": "stdout",
     "output_type": "stream",
     "text": [
      "detect took 0.7290687561035156 time\n",
      "recognize took 0.013015985488891602 time\n",
      "visualize took 0.1828618049621582 time\n"
     ]
    },
    {
     "name": "stderr",
     "output_type": "stream",
     "text": [
      " 21%|██        | 31/150 [00:10<00:33,  3.54it/s]"
     ]
    },
    {
     "name": "stdout",
     "output_type": "stream",
     "text": [
      "visualize took 0.12820959091186523 time\n",
      "visualize took 0.1281893253326416 time\n"
     ]
    },
    {
     "name": "stderr",
     "output_type": "stream",
     "text": [
      "\r",
      " 21%|██▏       | 32/150 [00:10<00:27,  4.24it/s]"
     ]
    },
    {
     "name": "stdout",
     "output_type": "stream",
     "text": [
      "visualize took 0.12803363800048828 time\n"
     ]
    },
    {
     "name": "stderr",
     "output_type": "stream",
     "text": [
      "\r",
      " 22%|██▏       | 33/150 [00:11<00:49,  2.35it/s]"
     ]
    },
    {
     "name": "stdout",
     "output_type": "stream",
     "text": [
      "detect took 0.7289342880249023 time\n",
      "recognize took 0.013239383697509766 time\n",
      "visualize took 0.12557220458984375 time\n"
     ]
    },
    {
     "name": "stderr",
     "output_type": "stream",
     "text": [
      " 23%|██▎       | 35/150 [00:11<00:31,  3.64it/s]"
     ]
    },
    {
     "name": "stdout",
     "output_type": "stream",
     "text": [
      "visualize took 0.12796974182128906 time\n",
      "visualize took 0.12813472747802734 time\n"
     ]
    },
    {
     "name": "stderr",
     "output_type": "stream",
     "text": [
      "\r",
      " 24%|██▍       | 36/150 [00:11<00:26,  4.33it/s]"
     ]
    },
    {
     "name": "stdout",
     "output_type": "stream",
     "text": [
      "visualize took 0.12833070755004883 time\n"
     ]
    },
    {
     "name": "stderr",
     "output_type": "stream",
     "text": [
      "\r",
      " 25%|██▍       | 37/150 [00:12<00:48,  2.34it/s]"
     ]
    },
    {
     "name": "stdout",
     "output_type": "stream",
     "text": [
      "detect took 0.7469518184661865 time\n",
      "recognize took 0.013181209564208984 time\n",
      "visualize took 0.12656044960021973 time\n"
     ]
    },
    {
     "name": "stderr",
     "output_type": "stream",
     "text": [
      " 26%|██▌       | 39/150 [00:12<00:30,  3.63it/s]"
     ]
    },
    {
     "name": "stdout",
     "output_type": "stream",
     "text": [
      "visualize took 0.12796783447265625 time\n",
      "visualize took 0.1277928352355957 time\n"
     ]
    },
    {
     "name": "stderr",
     "output_type": "stream",
     "text": [
      "\r",
      " 27%|██▋       | 40/150 [00:12<00:25,  4.32it/s]"
     ]
    },
    {
     "name": "stdout",
     "output_type": "stream",
     "text": [
      "visualize took 0.12851667404174805 time\n"
     ]
    },
    {
     "name": "stderr",
     "output_type": "stream",
     "text": [
      "\r",
      " 27%|██▋       | 41/150 [00:13<00:46,  2.35it/s]"
     ]
    },
    {
     "name": "stdout",
     "output_type": "stream",
     "text": [
      "detect took 0.736039400100708 time\n",
      "recognize took 0.013034343719482422 time\n",
      "visualize took 0.12520694732666016 time\n"
     ]
    },
    {
     "name": "stderr",
     "output_type": "stream",
     "text": [
      " 29%|██▊       | 43/150 [00:13<00:31,  3.43it/s]"
     ]
    },
    {
     "name": "stdout",
     "output_type": "stream",
     "text": [
      "visualize took 0.128218412399292 time\n",
      "visualize took 0.18631458282470703 time\n"
     ]
    },
    {
     "name": "stderr",
     "output_type": "stream",
     "text": [
      "\r",
      " 29%|██▉       | 44/150 [00:14<00:25,  4.12it/s]"
     ]
    },
    {
     "name": "stdout",
     "output_type": "stream",
     "text": [
      "visualize took 0.12764644622802734 time\n"
     ]
    },
    {
     "name": "stderr",
     "output_type": "stream",
     "text": [
      "\r",
      " 30%|███       | 45/150 [00:15<00:45,  2.30it/s]"
     ]
    },
    {
     "name": "stdout",
     "output_type": "stream",
     "text": [
      "detect took 0.7423911094665527 time\n",
      "recognize took 0.013230085372924805 time\n",
      "visualize took 0.12545347213745117 time\n"
     ]
    },
    {
     "name": "stderr",
     "output_type": "stream",
     "text": [
      " 31%|███▏      | 47/150 [00:15<00:28,  3.59it/s]"
     ]
    },
    {
     "name": "stdout",
     "output_type": "stream",
     "text": [
      "visualize took 0.12818241119384766 time\n",
      "visualize took 0.12750005722045898 time\n"
     ]
    },
    {
     "name": "stderr",
     "output_type": "stream",
     "text": [
      "\r",
      " 32%|███▏      | 48/150 [00:15<00:23,  4.28it/s]"
     ]
    },
    {
     "name": "stdout",
     "output_type": "stream",
     "text": [
      "visualize took 0.1276867389678955 time\n"
     ]
    },
    {
     "name": "stderr",
     "output_type": "stream",
     "text": [
      "\r",
      " 33%|███▎      | 49/150 [00:16<00:43,  2.34it/s]"
     ]
    },
    {
     "name": "stdout",
     "output_type": "stream",
     "text": [
      "detect took 0.7403604984283447 time\n",
      "recognize took 0.013798236846923828 time\n",
      "visualize took 0.1261601448059082 time\n"
     ]
    },
    {
     "name": "stderr",
     "output_type": "stream",
     "text": [
      " 34%|███▍      | 51/150 [00:16<00:27,  3.63it/s]"
     ]
    },
    {
     "name": "stdout",
     "output_type": "stream",
     "text": [
      "visualize took 0.12826752662658691 time\n",
      "visualize took 0.12794017791748047 time\n"
     ]
    },
    {
     "name": "stderr",
     "output_type": "stream",
     "text": [
      "\r",
      " 35%|███▍      | 52/150 [00:16<00:22,  4.31it/s]"
     ]
    },
    {
     "name": "stdout",
     "output_type": "stream",
     "text": [
      "visualize took 0.12965011596679688 time\n"
     ]
    },
    {
     "name": "stderr",
     "output_type": "stream",
     "text": [
      "\r",
      " 35%|███▌      | 53/150 [00:17<00:41,  2.36it/s]"
     ]
    },
    {
     "name": "stdout",
     "output_type": "stream",
     "text": [
      "detect took 0.7303285598754883 time\n",
      "recognize took 0.013388633728027344 time\n",
      "visualize took 0.12592720985412598 time\n"
     ]
    },
    {
     "name": "stderr",
     "output_type": "stream",
     "text": [
      " 37%|███▋      | 55/150 [00:17<00:25,  3.66it/s]"
     ]
    },
    {
     "name": "stdout",
     "output_type": "stream",
     "text": [
      "visualize took 0.12797951698303223 time\n",
      "visualize took 0.12778711318969727 time\n"
     ]
    },
    {
     "name": "stderr",
     "output_type": "stream",
     "text": [
      "\r",
      " 37%|███▋      | 56/150 [00:17<00:21,  4.34it/s]"
     ]
    },
    {
     "name": "stdout",
     "output_type": "stream",
     "text": [
      "visualize took 0.1302940845489502 time\n"
     ]
    },
    {
     "name": "stderr",
     "output_type": "stream",
     "text": [
      "\r",
      " 38%|███▊      | 57/150 [00:18<00:41,  2.25it/s]"
     ]
    },
    {
     "name": "stdout",
     "output_type": "stream",
     "text": [
      "detect took 0.8039352893829346 time\n",
      "recognize took 0.013426780700683594 time\n",
      "visualize took 0.1271355152130127 time\n"
     ]
    },
    {
     "name": "stderr",
     "output_type": "stream",
     "text": [
      " 39%|███▉      | 59/150 [00:19<00:25,  3.52it/s]"
     ]
    },
    {
     "name": "stdout",
     "output_type": "stream",
     "text": [
      "visualize took 0.12853503227233887 time\n",
      "visualize took 0.12954282760620117 time\n"
     ]
    },
    {
     "name": "stderr",
     "output_type": "stream",
     "text": [
      "\r",
      " 40%|████      | 60/150 [00:19<00:21,  4.18it/s]"
     ]
    },
    {
     "name": "stdout",
     "output_type": "stream",
     "text": [
      "visualize took 0.1329641342163086 time\n"
     ]
    },
    {
     "name": "stderr",
     "output_type": "stream",
     "text": [
      "\r",
      " 41%|████      | 61/150 [00:20<00:38,  2.33it/s]"
     ]
    },
    {
     "name": "stdout",
     "output_type": "stream",
     "text": [
      "detect took 0.7327101230621338 time\n",
      "recognize took 0.013264894485473633 time\n",
      "visualize took 0.1285715103149414 time\n"
     ]
    },
    {
     "name": "stderr",
     "output_type": "stream",
     "text": [
      " 42%|████▏     | 63/150 [00:20<00:24,  3.60it/s]"
     ]
    },
    {
     "name": "stdout",
     "output_type": "stream",
     "text": [
      "visualize took 0.12770938873291016 time\n",
      "visualize took 0.13251781463623047 time\n"
     ]
    },
    {
     "name": "stderr",
     "output_type": "stream",
     "text": [
      "\r",
      " 43%|████▎     | 64/150 [00:20<00:20,  4.24it/s]"
     ]
    },
    {
     "name": "stdout",
     "output_type": "stream",
     "text": [
      "visualize took 0.13752508163452148 time\n"
     ]
    },
    {
     "name": "stderr",
     "output_type": "stream",
     "text": [
      "\r",
      " 43%|████▎     | 65/150 [00:21<00:36,  2.33it/s]"
     ]
    },
    {
     "name": "stdout",
     "output_type": "stream",
     "text": [
      "detect took 0.7363708019256592 time\n",
      "recognize took 0.01336669921875 time\n",
      "visualize took 0.12785935401916504 time\n"
     ]
    },
    {
     "name": "stderr",
     "output_type": "stream",
     "text": [
      " 45%|████▍     | 67/150 [00:21<00:22,  3.62it/s]"
     ]
    },
    {
     "name": "stdout",
     "output_type": "stream",
     "text": [
      "visualize took 0.12816095352172852 time\n",
      "visualize took 0.1282181739807129 time\n"
     ]
    },
    {
     "name": "stderr",
     "output_type": "stream",
     "text": [
      "\r",
      " 45%|████▌     | 68/150 [00:21<00:19,  4.31it/s]"
     ]
    },
    {
     "name": "stdout",
     "output_type": "stream",
     "text": [
      "visualize took 0.1284198760986328 time\n"
     ]
    },
    {
     "name": "stderr",
     "output_type": "stream",
     "text": [
      "\r",
      " 46%|████▌     | 69/150 [00:22<00:34,  2.34it/s]"
     ]
    },
    {
     "name": "stdout",
     "output_type": "stream",
     "text": [
      "detect took 0.7406377792358398 time\n",
      "recognize took 0.013099908828735352 time\n",
      "visualize took 0.12657690048217773 time\n"
     ]
    },
    {
     "name": "stderr",
     "output_type": "stream",
     "text": [
      " 47%|████▋     | 71/150 [00:22<00:22,  3.49it/s]"
     ]
    },
    {
     "name": "stdout",
     "output_type": "stream",
     "text": [
      "visualize took 0.18367314338684082 time\n",
      "visualize took 0.12710094451904297 time\n"
     ]
    },
    {
     "name": "stderr",
     "output_type": "stream",
     "text": [
      "\r",
      " 48%|████▊     | 72/150 [00:23<00:18,  4.18it/s]"
     ]
    },
    {
     "name": "stdout",
     "output_type": "stream",
     "text": [
      "visualize took 0.12846851348876953 time\n"
     ]
    },
    {
     "name": "stderr",
     "output_type": "stream",
     "text": [
      "\r",
      " 49%|████▊     | 73/150 [00:24<00:33,  2.29it/s]"
     ]
    },
    {
     "name": "stdout",
     "output_type": "stream",
     "text": [
      "detect took 0.7423241138458252 time\n",
      "recognize took 0.026548385620117188 time\n",
      "visualize took 0.12773394584655762 time\n"
     ]
    },
    {
     "name": "stderr",
     "output_type": "stream",
     "text": [
      " 50%|█████     | 75/150 [00:24<00:21,  3.56it/s]"
     ]
    },
    {
     "name": "stdout",
     "output_type": "stream",
     "text": [
      "visualize took 0.12972807884216309 time\n",
      "visualize took 0.13004708290100098 time\n"
     ]
    },
    {
     "name": "stderr",
     "output_type": "stream",
     "text": [
      "\r",
      " 51%|█████     | 76/150 [00:24<00:17,  4.24it/s]"
     ]
    },
    {
     "name": "stdout",
     "output_type": "stream",
     "text": [
      "visualize took 0.130126953125 time\n"
     ]
    },
    {
     "name": "stderr",
     "output_type": "stream",
     "text": [
      "\r",
      " 51%|█████▏    | 77/150 [00:25<00:31,  2.28it/s]"
     ]
    },
    {
     "name": "stdout",
     "output_type": "stream",
     "text": [
      "detect took 0.7509584426879883 time\n",
      "recognize took 0.026525497436523438 time\n",
      "visualize took 0.12953495979309082 time\n"
     ]
    },
    {
     "name": "stderr",
     "output_type": "stream",
     "text": [
      " 53%|█████▎    | 79/150 [00:25<00:19,  3.56it/s]"
     ]
    },
    {
     "name": "stdout",
     "output_type": "stream",
     "text": [
      "visualize took 0.12967514991760254 time\n",
      "visualize took 0.1291649341583252 time\n"
     ]
    },
    {
     "name": "stderr",
     "output_type": "stream",
     "text": [
      "\r",
      " 53%|█████▎    | 80/150 [00:25<00:16,  4.24it/s]"
     ]
    },
    {
     "name": "stdout",
     "output_type": "stream",
     "text": [
      "visualize took 0.13018012046813965 time\n"
     ]
    },
    {
     "name": "stderr",
     "output_type": "stream",
     "text": [
      "\r",
      " 54%|█████▍    | 81/150 [00:26<00:29,  2.31it/s]"
     ]
    },
    {
     "name": "stdout",
     "output_type": "stream",
     "text": [
      "detect took 0.7409276962280273 time\n",
      "recognize took 0.025897502899169922 time\n",
      "visualize took 0.12705755233764648 time\n"
     ]
    },
    {
     "name": "stderr",
     "output_type": "stream",
     "text": [
      " 55%|█████▌    | 83/150 [00:26<00:18,  3.58it/s]"
     ]
    },
    {
     "name": "stdout",
     "output_type": "stream",
     "text": [
      "visualize took 0.12921881675720215 time\n",
      "visualize took 0.12987184524536133 time\n"
     ]
    },
    {
     "name": "stderr",
     "output_type": "stream",
     "text": [
      "\r",
      " 56%|█████▌    | 84/150 [00:27<00:15,  4.25it/s]"
     ]
    },
    {
     "name": "stdout",
     "output_type": "stream",
     "text": [
      "visualize took 0.1317453384399414 time\n",
      "detect took 0.7406694889068604 time\n",
      "recognize took 0.026914358139038086 time\n"
     ]
    },
    {
     "name": "stderr",
     "output_type": "stream",
     "text": [
      " 57%|█████▋    | 86/150 [00:28<00:22,  2.80it/s]"
     ]
    },
    {
     "name": "stdout",
     "output_type": "stream",
     "text": [
      "visualize took 0.19562602043151855 time\n",
      "visualize took 0.1299746036529541 time\n"
     ]
    },
    {
     "name": "stderr",
     "output_type": "stream",
     "text": [
      " 59%|█████▊    | 88/150 [00:28<00:15,  4.12it/s]"
     ]
    },
    {
     "name": "stdout",
     "output_type": "stream",
     "text": [
      "visualize took 0.13248038291931152 time\n",
      "visualize took 0.13103437423706055 time\n"
     ]
    },
    {
     "name": "stderr",
     "output_type": "stream",
     "text": [
      "\r",
      " 59%|█████▉    | 89/150 [00:29<00:27,  2.24it/s]"
     ]
    },
    {
     "name": "stdout",
     "output_type": "stream",
     "text": [
      "detect took 0.7448925971984863 time\n",
      "recognize took 0.04235076904296875 time\n",
      "visualize took 0.1342754364013672 time\n"
     ]
    },
    {
     "name": "stderr",
     "output_type": "stream",
     "text": [
      " 61%|██████    | 91/150 [00:29<00:17,  3.47it/s]"
     ]
    },
    {
     "name": "stdout",
     "output_type": "stream",
     "text": [
      "visualize took 0.13460755348205566 time\n",
      "visualize took 0.13442063331604004 time\n"
     ]
    },
    {
     "name": "stderr",
     "output_type": "stream",
     "text": [
      "\r",
      " 61%|██████▏   | 92/150 [00:29<00:14,  4.10it/s]"
     ]
    },
    {
     "name": "stdout",
     "output_type": "stream",
     "text": [
      "visualize took 0.13846158981323242 time\n"
     ]
    },
    {
     "name": "stderr",
     "output_type": "stream",
     "text": [
      "\r",
      " 62%|██████▏   | 93/150 [00:30<00:25,  2.27it/s]"
     ]
    },
    {
     "name": "stdout",
     "output_type": "stream",
     "text": [
      "detect took 0.733675479888916 time\n",
      "recognize took 0.028999805450439453 time\n",
      "visualize took 0.13294243812561035 time\n"
     ]
    },
    {
     "name": "stderr",
     "output_type": "stream",
     "text": [
      " 63%|██████▎   | 95/150 [00:30<00:15,  3.53it/s]"
     ]
    },
    {
     "name": "stdout",
     "output_type": "stream",
     "text": [
      "visualize took 0.13273286819458008 time\n",
      "visualize took 0.1328754425048828 time\n"
     ]
    },
    {
     "name": "stderr",
     "output_type": "stream",
     "text": [
      "\r",
      " 64%|██████▍   | 96/150 [00:31<00:12,  4.18it/s]"
     ]
    },
    {
     "name": "stdout",
     "output_type": "stream",
     "text": [
      "visualize took 0.13394951820373535 time\n"
     ]
    },
    {
     "name": "stderr",
     "output_type": "stream",
     "text": [
      "\r",
      " 65%|██████▍   | 97/150 [00:31<00:23,  2.27it/s]"
     ]
    },
    {
     "name": "stdout",
     "output_type": "stream",
     "text": [
      "detect took 0.7439403533935547 time\n",
      "recognize took 0.02927565574645996 time\n",
      "visualize took 0.1331803798675537 time\n"
     ]
    },
    {
     "name": "stderr",
     "output_type": "stream",
     "text": [
      " 66%|██████▌   | 99/150 [00:32<00:15,  3.37it/s]"
     ]
    },
    {
     "name": "stdout",
     "output_type": "stream",
     "text": [
      "visualize took 0.19246363639831543 time\n",
      "visualize took 0.13463640213012695 time\n"
     ]
    },
    {
     "name": "stderr",
     "output_type": "stream",
     "text": [
      "\r",
      " 67%|██████▋   | 100/150 [00:32<00:12,  4.02it/s]"
     ]
    },
    {
     "name": "stdout",
     "output_type": "stream",
     "text": [
      "visualize took 0.1361227035522461 time\n"
     ]
    },
    {
     "name": "stderr",
     "output_type": "stream",
     "text": [
      "\r",
      " 67%|██████▋   | 101/150 [00:33<00:21,  2.25it/s]"
     ]
    },
    {
     "name": "stdout",
     "output_type": "stream",
     "text": [
      "detect took 0.7451632022857666 time\n",
      "recognize took 0.01589655876159668 time\n",
      "visualize took 0.13522052764892578 time\n"
     ]
    },
    {
     "name": "stderr",
     "output_type": "stream",
     "text": [
      " 69%|██████▊   | 103/150 [00:33<00:13,  3.49it/s]"
     ]
    },
    {
     "name": "stdout",
     "output_type": "stream",
     "text": [
      "visualize took 0.1347367763519287 time\n",
      "visualize took 0.13356947898864746 time\n"
     ]
    },
    {
     "name": "stderr",
     "output_type": "stream",
     "text": [
      "\r",
      " 69%|██████▉   | 104/150 [00:33<00:11,  4.13it/s]"
     ]
    },
    {
     "name": "stdout",
     "output_type": "stream",
     "text": [
      "visualize took 0.13641738891601562 time\n"
     ]
    },
    {
     "name": "stderr",
     "output_type": "stream",
     "text": [
      "\r",
      " 70%|███████   | 105/150 [00:34<00:19,  2.28it/s]"
     ]
    },
    {
     "name": "stdout",
     "output_type": "stream",
     "text": [
      "detect took 0.7454555034637451 time\n",
      "recognize took 0.015468120574951172 time\n",
      "visualize took 0.13157057762145996 time\n"
     ]
    },
    {
     "name": "stderr",
     "output_type": "stream",
     "text": [
      " 71%|███████▏  | 107/150 [00:34<00:12,  3.53it/s]"
     ]
    },
    {
     "name": "stdout",
     "output_type": "stream",
     "text": [
      "visualize took 0.13402533531188965 time\n",
      "visualize took 0.13378357887268066 time\n"
     ]
    },
    {
     "name": "stderr",
     "output_type": "stream",
     "text": [
      "\r",
      " 72%|███████▏  | 108/150 [00:34<00:10,  4.19it/s]"
     ]
    },
    {
     "name": "stdout",
     "output_type": "stream",
     "text": [
      "visualize took 0.1331501007080078 time\n"
     ]
    },
    {
     "name": "stderr",
     "output_type": "stream",
     "text": [
      "\r",
      " 73%|███████▎  | 109/150 [00:35<00:17,  2.30it/s]"
     ]
    },
    {
     "name": "stdout",
     "output_type": "stream",
     "text": [
      "detect took 0.7301828861236572 time\n",
      "recognize took 0.02881336212158203 time\n",
      "visualize took 0.13266611099243164 time\n"
     ]
    },
    {
     "name": "stderr",
     "output_type": "stream",
     "text": [
      " 74%|███████▍  | 111/150 [00:36<00:11,  3.54it/s]"
     ]
    },
    {
     "name": "stdout",
     "output_type": "stream",
     "text": [
      "visualize took 0.13610482215881348 time\n",
      "visualize took 0.13562965393066406 time\n"
     ]
    },
    {
     "name": "stderr",
     "output_type": "stream",
     "text": [
      "\r",
      " 75%|███████▍  | 112/150 [00:36<00:09,  3.91it/s]"
     ]
    },
    {
     "name": "stdout",
     "output_type": "stream",
     "text": [
      "visualize took 0.19241809844970703 time\n"
     ]
    },
    {
     "name": "stderr",
     "output_type": "stream",
     "text": [
      "\r",
      " 75%|███████▌  | 113/150 [00:37<00:16,  2.18it/s]"
     ]
    },
    {
     "name": "stdout",
     "output_type": "stream",
     "text": [
      "detect took 0.7630598545074463 time\n",
      "recognize took 0.029675960540771484 time\n",
      "visualize took 0.13549375534057617 time\n"
     ]
    },
    {
     "name": "stderr",
     "output_type": "stream",
     "text": [
      " 77%|███████▋  | 115/150 [00:37<00:10,  3.41it/s]"
     ]
    },
    {
     "name": "stdout",
     "output_type": "stream",
     "text": [
      "visualize took 0.13535809516906738 time\n",
      "visualize took 0.13495397567749023 time\n"
     ]
    },
    {
     "name": "stderr",
     "output_type": "stream",
     "text": [
      "\r",
      " 77%|███████▋  | 116/150 [00:37<00:08,  4.06it/s]"
     ]
    },
    {
     "name": "stdout",
     "output_type": "stream",
     "text": [
      "visualize took 0.13559818267822266 time\n"
     ]
    },
    {
     "name": "stderr",
     "output_type": "stream",
     "text": [
      "\r",
      " 78%|███████▊  | 117/150 [00:38<00:14,  2.25it/s]"
     ]
    },
    {
     "name": "stdout",
     "output_type": "stream",
     "text": [
      "detect took 0.744086742401123 time\n",
      "recognize took 0.029613018035888672 time\n",
      "visualize took 0.13362383842468262 time\n"
     ]
    },
    {
     "name": "stderr",
     "output_type": "stream",
     "text": [
      " 79%|███████▉  | 119/150 [00:38<00:08,  3.48it/s]"
     ]
    },
    {
     "name": "stdout",
     "output_type": "stream",
     "text": [
      "visualize took 0.13553166389465332 time\n",
      "visualize took 0.13563156127929688 time\n"
     ]
    },
    {
     "name": "stderr",
     "output_type": "stream",
     "text": [
      "\r",
      " 80%|████████  | 120/150 [00:39<00:07,  4.13it/s]"
     ]
    },
    {
     "name": "stdout",
     "output_type": "stream",
     "text": [
      "visualize took 0.1357421875 time\n"
     ]
    },
    {
     "name": "stderr",
     "output_type": "stream",
     "text": [
      "\r",
      " 81%|████████  | 121/150 [00:39<00:12,  2.28it/s]"
     ]
    },
    {
     "name": "stdout",
     "output_type": "stream",
     "text": [
      "detect took 0.743588924407959 time\n",
      "recognize took 0.015099525451660156 time\n",
      "visualize took 0.13572907447814941 time\n"
     ]
    },
    {
     "name": "stderr",
     "output_type": "stream",
     "text": [
      " 82%|████████▏ | 123/150 [00:40<00:07,  3.53it/s]"
     ]
    },
    {
     "name": "stdout",
     "output_type": "stream",
     "text": [
      "visualize took 0.1339712142944336 time\n",
      "visualize took 0.13381075859069824 time\n"
     ]
    },
    {
     "name": "stderr",
     "output_type": "stream",
     "text": [
      "\r",
      " 83%|████████▎ | 124/150 [00:40<00:06,  4.18it/s]"
     ]
    },
    {
     "name": "stdout",
     "output_type": "stream",
     "text": [
      "visualize took 0.13570523262023926 time\n"
     ]
    },
    {
     "name": "stderr",
     "output_type": "stream",
     "text": [
      "\r",
      " 83%|████████▎ | 125/150 [00:41<00:10,  2.32it/s]"
     ]
    },
    {
     "name": "stdout",
     "output_type": "stream",
     "text": [
      "detect took 0.7321796417236328 time\n",
      "recognize took 0.014816761016845703 time\n",
      "visualize took 0.1325845718383789 time\n"
     ]
    },
    {
     "name": "stderr",
     "output_type": "stream",
     "text": [
      " 85%|████████▍ | 127/150 [00:41<00:06,  3.42it/s]"
     ]
    },
    {
     "name": "stdout",
     "output_type": "stream",
     "text": [
      "visualize took 0.19155335426330566 time\n",
      "visualize took 0.13428449630737305 time\n"
     ]
    },
    {
     "name": "stderr",
     "output_type": "stream",
     "text": [
      "\r",
      " 85%|████████▌ | 128/150 [00:41<00:05,  4.07it/s]"
     ]
    },
    {
     "name": "stdout",
     "output_type": "stream",
     "text": [
      "visualize took 0.13553428649902344 time\n"
     ]
    },
    {
     "name": "stderr",
     "output_type": "stream",
     "text": [
      "\r",
      " 86%|████████▌ | 129/150 [00:42<00:09,  2.29it/s]"
     ]
    },
    {
     "name": "stdout",
     "output_type": "stream",
     "text": [
      "detect took 0.7322990894317627 time\n",
      "recognize took 0.015695571899414062 time\n",
      "visualize took 0.1331944465637207 time\n"
     ]
    },
    {
     "name": "stderr",
     "output_type": "stream",
     "text": [
      " 87%|████████▋ | 131/150 [00:42<00:05,  3.53it/s]"
     ]
    },
    {
     "name": "stdout",
     "output_type": "stream",
     "text": [
      "visualize took 0.1347651481628418 time\n",
      "visualize took 0.1338496208190918 time\n"
     ]
    },
    {
     "name": "stderr",
     "output_type": "stream",
     "text": [
      "\r",
      " 88%|████████▊ | 132/150 [00:42<00:04,  4.19it/s]"
     ]
    },
    {
     "name": "stdout",
     "output_type": "stream",
     "text": [
      "visualize took 0.13408231735229492 time\n"
     ]
    },
    {
     "name": "stderr",
     "output_type": "stream",
     "text": [
      "\r",
      " 89%|████████▊ | 133/150 [00:43<00:07,  2.28it/s]"
     ]
    },
    {
     "name": "stdout",
     "output_type": "stream",
     "text": [
      "detect took 0.7335498332977295 time\n",
      "recognize took 0.030849695205688477 time\n",
      "visualize took 0.14051294326782227 time\n"
     ]
    },
    {
     "name": "stderr",
     "output_type": "stream",
     "text": [
      " 90%|█████████ | 135/150 [00:44<00:04,  3.51it/s]"
     ]
    },
    {
     "name": "stdout",
     "output_type": "stream",
     "text": [
      "visualize took 0.13790082931518555 time\n",
      "visualize took 0.13473057746887207 time\n"
     ]
    },
    {
     "name": "stderr",
     "output_type": "stream",
     "text": [
      "\r",
      " 91%|█████████ | 136/150 [00:44<00:03,  4.15it/s]"
     ]
    },
    {
     "name": "stdout",
     "output_type": "stream",
     "text": [
      "visualize took 0.1367650032043457 time\n"
     ]
    },
    {
     "name": "stderr",
     "output_type": "stream",
     "text": [
      "\r",
      " 91%|█████████▏| 137/150 [00:45<00:05,  2.27it/s]"
     ]
    },
    {
     "name": "stdout",
     "output_type": "stream",
     "text": [
      "detect took 0.7415812015533447 time\n",
      "recognize took 0.029885292053222656 time\n",
      "visualize took 0.13495683670043945 time\n"
     ]
    },
    {
     "name": "stderr",
     "output_type": "stream",
     "text": [
      " 93%|█████████▎| 139/150 [00:45<00:03,  3.49it/s]"
     ]
    },
    {
     "name": "stdout",
     "output_type": "stream",
     "text": [
      "visualize took 0.13597464561462402 time\n",
      "visualize took 0.13477373123168945 time\n"
     ]
    },
    {
     "name": "stderr",
     "output_type": "stream",
     "text": [
      "\r",
      " 93%|█████████▎| 140/150 [00:45<00:02,  3.84it/s]"
     ]
    },
    {
     "name": "stdout",
     "output_type": "stream",
     "text": [
      "visualize took 0.19890189170837402 time\n"
     ]
    },
    {
     "name": "stderr",
     "output_type": "stream",
     "text": [
      "\r",
      " 94%|█████████▍| 141/150 [00:46<00:04,  2.21it/s]"
     ]
    },
    {
     "name": "stdout",
     "output_type": "stream",
     "text": [
      "detect took 0.7384428977966309 time\n",
      "recognize took 0.02927565574645996 time\n",
      "visualize took 0.13408946990966797 time\n"
     ]
    },
    {
     "name": "stderr",
     "output_type": "stream",
     "text": [
      " 95%|█████████▌| 143/150 [00:46<00:02,  3.43it/s]"
     ]
    },
    {
     "name": "stdout",
     "output_type": "stream",
     "text": [
      "visualize took 0.13551115989685059 time\n",
      "visualize took 0.13444256782531738 time\n"
     ]
    },
    {
     "name": "stderr",
     "output_type": "stream",
     "text": [
      "\r",
      " 96%|█████████▌| 144/150 [00:46<00:01,  4.09it/s]"
     ]
    },
    {
     "name": "stdout",
     "output_type": "stream",
     "text": [
      "visualize took 0.13334131240844727 time\n"
     ]
    },
    {
     "name": "stderr",
     "output_type": "stream",
     "text": [
      "\r",
      " 97%|█████████▋| 145/150 [00:47<00:02,  2.24it/s]"
     ]
    },
    {
     "name": "stdout",
     "output_type": "stream",
     "text": [
      "detect took 0.7531774044036865 time\n",
      "recognize took 0.028767108917236328 time\n",
      "visualize took 0.13488388061523438 time\n"
     ]
    },
    {
     "name": "stderr",
     "output_type": "stream",
     "text": [
      " 98%|█████████▊| 147/150 [00:48<00:00,  3.47it/s]"
     ]
    },
    {
     "name": "stdout",
     "output_type": "stream",
     "text": [
      "visualize took 0.1355888843536377 time\n",
      "visualize took 0.13455915451049805 time\n"
     ]
    },
    {
     "name": "stderr",
     "output_type": "stream",
     "text": [
      "\r",
      " 99%|█████████▊| 148/150 [00:48<00:00,  4.11it/s]"
     ]
    },
    {
     "name": "stdout",
     "output_type": "stream",
     "text": [
      "visualize took 0.1369915008544922 time\n"
     ]
    },
    {
     "name": "stderr",
     "output_type": "stream",
     "text": [
      "\r",
      " 99%|█████████▉| 149/150 [00:49<00:00,  2.22it/s]"
     ]
    },
    {
     "name": "stdout",
     "output_type": "stream",
     "text": [
      "detect took 0.752251386642456 time\n",
      "recognize took 0.043548583984375 time\n",
      "visualize took 0.13767027854919434 time\n"
     ]
    },
    {
     "name": "stderr",
     "output_type": "stream",
     "text": [
      "100%|██████████| 150/150 [00:49<00:00,  2.80it/s]\n"
     ]
    },
    {
     "name": "stdout",
     "output_type": "stream",
     "text": [
      "visualize took 0.13709378242492676 time\n"
     ]
    },
    {
     "data": {
      "text/html": [
       "<video alt=\"test\" controls>\n",
       "                <source src=\"data:video/mp4;base64,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\" type=\"video/mp4\" />\n",
       "             </video>"
      ],
      "text/plain": [
       "<IPython.core.display.HTML object>"
      ]
     },
     "execution_count": 86,
     "metadata": {},
     "output_type": "execute_result"
    }
   ],
   "source": [
    "import uuid\n",
    "path = 'static/{}.mp4'.format(str(uuid.uuid4()))\n",
    "videotext.save_video(url, path, from_time=\"00:35\", duration=5)\n",
    "utilities.play_video(path)"
   ]
  },
  {
   "cell_type": "code",
   "execution_count": null,
   "metadata": {
    "collapsed": true
   },
   "outputs": [],
   "source": []
  }
 ],
 "metadata": {
  "kernelspec": {
   "display_name": "Python 3",
   "language": "python",
   "name": "python3"
  },
  "language_info": {
   "codemirror_mode": {
    "name": "ipython",
    "version": 3
   },
   "file_extension": ".py",
   "mimetype": "text/x-python",
   "name": "python",
   "nbconvert_exporter": "python",
   "pygments_lexer": "ipython3",
   "version": "3.6.0"
  },
  "toc": {
   "colors": {
    "hover_highlight": "#DAA520",
    "running_highlight": "#FF0000",
    "selected_highlight": "#FFD700"
   },
   "moveMenuLeft": true,
   "nav_menu": {
    "height": "13px",
    "width": "253px"
   },
   "navigate_menu": true,
   "number_sections": true,
   "sideBar": true,
   "threshold": 4,
   "toc_cell": false,
   "toc_section_display": "block",
   "toc_window_display": false
  }
 },
 "nbformat": 4,
 "nbformat_minor": 2
}
